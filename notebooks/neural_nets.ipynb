{
 "cells": [
  {
   "cell_type": "markdown",
   "id": "8cfdf041-4023-48ca-9887-833d04d546b2",
   "metadata": {},
   "source": [
    "# Neural Networks\n",
    "\n",
    "In this tutorial, we'll move on from classical techniques and frameworks like sklearn, and start building deep learning models in pytorch. Since this tutorial is intended to be more of an introduction to deep learning for practitioners, I won't do much of a deep dive into the math and the theory. The focus will instead be on understanding what a neural network is, creating a basic neural network in pytorch, and how to train simple deep learning models. In later tutorials, we'll go into more specialized topics that touch on state of the art approaches, like convolutional neural networks for computer vision, and transformers for natural language processing.\n",
    "\n",
    "So what is deep learning? In essense, **deep learning** is just a fancy rebrand from 15 or so years ago for neural networks. At the time neural nets weren't very well respected in the AI community, mostly because they didn't perform very well on the smaller datasets and limited compute available at the time. The term was chosen partly because of the growing tendency to use *deep* neural networks, i.e. networks with lots of hidden layers. Prior to that time, most neural networks had just a few hidden layers, maybe 1 to 5 tops. Starting with the release of Cuda, as well as a few algorithmic innovations to make training neural networks easier, they started to get a lot deeper, with some neural networks today even containing thousands of hidden layers.\n",
    "\n",
    "So what is a neural network, then? Very roughly speaking, a **neural network** can be thought of as a fancy form of linear or logistic regression that contains a bunch of intermediate steps (called **layers**) designed to make linear or regression work better by transforming the problem to an easier space of features. These intermediate steps are thought of as \"learned features\". The term neural network itself comes from a loose analogy with the brain, which is sometimes believed to perform computations in a loosely similar way to the abstract neural nets we'll describe and use.\n",
    "\n",
    "Once the neural network has \"learned\" all of these learned features, it's basically just going to apply vanilla linear or logistic regression to those learned features to make predictions in the usual way. The power of deep learning comes from the fact that, with enough data and compute, a neural net can *learn* the best features to make predictions on, rather than humans having to manually feature engineer them by hand. This idea that a model can take in raw inputs, learn the relevant features on its own, and make predictions is called **end-to-end learning**. \n",
    "\n",
    "As deep learning gets better and better, tasks that were once heavily feature engineered are getting more end-to-end, the most notable example being image classification. It used to be that images had to be heavily feature engineered before doing classification on them. Computer vision researchers spent decades coming up with fancy hand engineered features, like edge filters and SIFT features, to do image classification, because they thought such a task was far too complicated to do from raw images alone. Since the rise of deep learning, however, neural networks trained on raw images are doing far better on image classification tasks than any of these feature engineered approaches had managed to do, and it's become widely accepted that end-to-end deep learning is the best way to go when trying to classify images. This same trend has since happened to speech recognition, machine translation, text classification, language modeling, image generation, and many other areas as the years go by.\n",
    "\n",
    "Before diving into more specifics of what neural networks are made of let's go ahead and import pytorch. The submodule of pytorch that contains everything relevant for deep learning is called `nn`, short for \"neural networks\". We'll import this submodule separately, along with its library of functions, usually just aliased to `F`. We'll also go ahead and set a device for those who'd prefer to work on the GPU."
   ]
  },
  {
   "cell_type": "code",
   "execution_count": 1,
   "id": "65853409-5a33-4cae-93bf-caabaacf351c",
   "metadata": {},
   "outputs": [
    {
     "data": {
      "text/plain": [
       "<torch._C.Generator at 0x1076b26f0>"
      ]
     },
     "execution_count": 1,
     "metadata": {},
     "output_type": "execute_result"
    }
   ],
   "source": [
    "import numpy as np\n",
    "import matplotlib.pyplot as plt\n",
    "import torch\n",
    "from torch import nn\n",
    "import torch.nn.functional as F\n",
    "\n",
    "torch.manual_seed(123)"
   ]
  },
  {
   "cell_type": "code",
   "execution_count": 2,
   "id": "29e7c677-1c96-4ca8-b597-549be06c6caa",
   "metadata": {},
   "outputs": [
    {
     "data": {
      "text/plain": [
       "'cpu'"
      ]
     },
     "execution_count": 2,
     "metadata": {},
     "output_type": "execute_result"
    }
   ],
   "source": [
    "device = 'cuda' if torch.cuda.is_available() else 'cpu'\n",
    "device"
   ]
  },
  {
   "cell_type": "markdown",
   "id": "0757931b",
   "metadata": {},
   "source": [
    "## Linear Regression as a Neural Network\n",
    "\n",
    "We already learned a bit about what linear regression is. Recall that linear regression tries to learn **parameters** $W,b$ to best fit each input-output pair $(x_i,y_i)$ in the dataset with a linear model defined by\n",
    "$$\\hat y_i = \\hat y_i(W,b|x_i) = Wx_i + b.$$\n",
    "It does this by minimizing the **mean squared error** loss function over all of the training data $i=1,\\cdots,N$:\n",
    "$$L(W,b) = \\frac{1}{N} \\sum_{i=1}^N \\big(y_i - \\hat y_i(W,b|x_i)\\big)^2.$$\n",
    "In deep learning lingo, this minimization procedure to find the best fit parameters $W,b$ is called **learning**, or **training** the model. The linear transformation $\\hat y = Wx + b$ is called a **linear layer** or a **dense layer** of the neural network.\n",
    "\n",
    "To get a linear layer in pytorch (with randomly initialized parameters) we just define an object `nn.Linear(num_features, num_targets)`, where `num_features` is the number of input features and `num_targets` is the number of target variables. We can pass the input data `X` through it just like we would any ordinary function.\n",
    "\n",
    "Let's look at a simple example, where `num_features = num_targets = 1`, the simple kind you learn about in intro statistics classes. We'll generate some linear data `X, y` with light gaussian noise and then try to model it with a linear layer. Notice that:\n",
    "- We can treat `model` just like any ordinary function that takes in data and outputs predictions.\n",
    "- The predictions `yhat` are automatically part of the computational graph to calculate gradients, meaning we have make sure to detach it before converting it to a numpy array.\n",
    "- The fit of the line is pretty poor. Not surprising, given we haven't actually *learned* anything yet. This model is just using randomly initialized values for `W` and `b`. They'll stay that way until we tune them with training."
   ]
  },
  {
   "cell_type": "code",
   "execution_count": 3,
   "id": "9c2e8ff0",
   "metadata": {},
   "outputs": [],
   "source": [
    "num_features = 1\n",
    "num_targets = 1\n",
    "num_samples = 20"
   ]
  },
  {
   "cell_type": "code",
   "execution_count": 4,
   "id": "f6ebd11c",
   "metadata": {},
   "outputs": [
    {
     "data": {
      "text/plain": [
       "(torch.Size([20, 1]), torch.Size([20, 1]))"
      ]
     },
     "execution_count": 4,
     "metadata": {},
     "output_type": "execute_result"
    }
   ],
   "source": [
    "X = torch.linspace(0, 5, num_samples).reshape(-1, 1)\n",
    "y = X + torch.randn(num_samples).reshape(-1, 1)\n",
    "X.shape, y.shape"
   ]
  },
  {
   "cell_type": "code",
   "execution_count": 5,
   "id": "5fb97e19",
   "metadata": {},
   "outputs": [
    {
     "data": {
      "text/plain": [
       "torch.Size([20, 1])"
      ]
     },
     "execution_count": 5,
     "metadata": {},
     "output_type": "execute_result"
    }
   ],
   "source": [
    "model = nn.Linear(num_features, num_targets)\n",
    "yhat = model(X)\n",
    "yhat.shape"
   ]
  },
  {
   "cell_type": "code",
   "execution_count": 6,
   "id": "783d972c",
   "metadata": {},
   "outputs": [
    {
     "data": {
      "image/png": "[encoded data removed]",
      "text/plain": [
       "<Figure size 432x288 with 1 Axes>"
      ]
     },
     "metadata": {
      "needs_background": "light"
     },
     "output_type": "display_data"
    }
   ],
   "source": [
    "plt.scatter(X.numpy(), y.numpy(), label='$y$', color='black')\n",
    "plt.plot(X.numpy(), yhat.detach().numpy(), label='$\\hat y$', color='red')\n",
    "plt.xlabel('$x$')\n",
    "plt.ylabel('$y$')\n",
    "plt.legend()\n",
    "plt.title('Linear Regression - Untrained')\n",
    "plt.show()"
   ]
  },
  {
   "cell_type": "markdown",
   "id": "ea9a8250",
   "metadata": {},
   "source": [
    "To actually access the parameter values themselves, we can use the `parameters` method of the `model` object. This will always be true for accessing neural net parameters in pytorch. By default, `model.parameters()` gives a python **generator** object, which we need to first convert into a list to get `[W, b]`. An easier way for linear layers is to just use `model.weight` to get the weights `W`, and `model.bias` to get the bias `b`. Notice that each parameter has `requires_grad=True` on, which makes sense, given that those are the things we want to learn. This will always be true."
   ]
  },
  {
   "cell_type": "code",
   "execution_count": 7,
   "id": "92b44f07",
   "metadata": {},
   "outputs": [
    {
     "data": {
      "text/plain": [
       "([Parameter containing:\n",
       "  tensor([[-0.8457]], requires_grad=True),\n",
       "  Parameter containing:\n",
       "  tensor([-0.2869], requires_grad=True)],\n",
       " Parameter containing:\n",
       " tensor([[-0.8457]], requires_grad=True),\n",
       " Parameter containing:\n",
       " tensor([-0.2869], requires_grad=True))"
      ]
     },
     "execution_count": 7,
     "metadata": {},
     "output_type": "execute_result"
    }
   ],
   "source": [
    "params = list(model.parameters())\n",
    "W = model.weight\n",
    "b = model.bias\n",
    "params, W, b"
   ]
  },
  {
   "cell_type": "markdown",
   "id": "581a472f",
   "metadata": {},
   "source": [
    "## Gradient Descent\n",
    "\n",
    "To actually learn the parameters that give the best fit we'll use an algorithm called **gradient descent**, which is the basis for just about every learning algorithm in deep learning. Gradient descent is a method for solving minimization problems that involves using the derivative (i.e. the gradient) of a function to find its minimum as quickly as possible. More formally, given a loss function $L(\\theta)$ to minimize with respect to some parameters $\\theta$, gradient descent seeks to find the minimum $\\hat \\theta$ by iteratively computing the update\n",
    "$$\\theta_{n+1} = \\theta_n - \\alpha \\frac{dL(\\theta_n)}{d\\theta}$$\n",
    "until convergence, i.e. until the difference $\\Delta \\theta_n \\equiv \\theta_{n+1} - \\theta_n$ is \"small enough\". When doing deep learning in practice, rather than specify some convergence criterion like this, it's more typical to just run gradient descent for so many iterations and stop it when the loss doesn't seem to be decreasing much anymore.\n",
    "\n",
    "The value $\\alpha$ in the update is called the **learning rate**, or **step size**. It controls how big the update is at each step of the iteration, and is generally manually specified by the programmer before training starts. Since the learning rate controls the speed of learning, the goal is to make it as high as possible so the algorithm will converge quicker. Unfortunately though there are limits to this. If you make the learning rate too large the updates will spiral off to infinity or just oscillate forever and fail to converge. So there's an art to tuning the learning rate, by making it as big as you can but without making it too big.\n",
    "\n",
    "Let's apply gradient descent to our above linear regression problem to see if we can learn the best fit line to the given data. Before training our linear regression model we need to know what function it is we're trying to minimize. In deep learning this will always be the loss function. For regression tasks, the loss function is usually the MSE loss defined above:\n",
    "$$L(W,b) = \\frac{1}{N} \\sum_{i=1}^N \\big(y_i - \\hat y_i(W,b|x_i)\\big)^2.$$\n",
    "\n",
    "In pytorch, the loss is essentially just another layer that we can define and pass data through. To get the MSE loss we can just use the `nn.MSE` layer and then pass our predictions `yhat` through it to calculate the value. Note that in pytorch the order to pass arguments into the loss is always `yhat, y`, not the other way around."
   ]
  },
  {
   "cell_type": "code",
   "execution_count": 8,
   "id": "6a375115",
   "metadata": {},
   "outputs": [
    {
     "data": {
      "text/plain": [
       "tensor(28.4925, grad_fn=<MseLossBackward0>)"
      ]
     },
     "execution_count": 8,
     "metadata": {},
     "output_type": "execute_result"
    }
   ],
   "source": [
    "loss_fn = nn.MSELoss()\n",
    "loss = loss_fn(yhat, y)\n",
    "loss"
   ]
  },
  {
   "cell_type": "markdown",
   "id": "c277d381",
   "metadata": {},
   "source": [
    "Let's now try to minimize the loss function using gradient descent. Rather than code gradient descent from scratch, in pytorch it's better to define it as an **optimizer** object, and then step the optimizer until we're done training. The optimizer for gradient descent is called `torch.optim.SGD`, where SGD stands for **stochastic gradient descent**, which is a slight variation of gradient descent that works better for big datasets.\n",
    "\n",
    "To use the optimizer object, we have to pass in the **parameters** we want to minimize, not the model itself. It's also here that we pass in the learning rate `lr` that'll be used for training the model. We'll just use `lr=0.1` here. There are also other values we can pass in to improve the optimization, but we won't go into these right now."
   ]
  },
  {
   "cell_type": "code",
   "execution_count": 9,
   "id": "3a5f76e5",
   "metadata": {},
   "outputs": [
    {
     "data": {
      "text/plain": [
       "SGD (\n",
       "Parameter Group 0\n",
       "    dampening: 0\n",
       "    foreach: None\n",
       "    lr: 0.1\n",
       "    maximize: False\n",
       "    momentum: 0\n",
       "    nesterov: False\n",
       "    weight_decay: 0\n",
       ")"
      ]
     },
     "execution_count": 9,
     "metadata": {},
     "output_type": "execute_result"
    }
   ],
   "source": [
    "opt = torch.optim.SGD(model.parameters(), lr=0.1)\n",
    "opt"
   ]
  },
  {
   "cell_type": "markdown",
   "id": "91e2b2bd",
   "metadata": {},
   "source": [
    "Now everything is in place to begin training the model. What you're about to see is the standard backbone of training loops in pytorch. Some version of this loop is used to train the vast majority of deep learning models in pytorch.\n",
    "\n",
    "Even though this example is simple enough that we don't need to, it's common to visualize training by printing out the value of the loss every few iterations. It's also common to plot the loss curve either during training or at the end of training.\n",
    "\n",
    "We can see that the loss is indeed decreasing towards zero, which is exactly what we want here, since the MSE loss must always be a positive value (it's a sum of squares)."
   ]
  },
  {
   "cell_type": "code",
   "execution_count": 10,
   "id": "9cf96904",
   "metadata": {},
   "outputs": [
    {
     "name": "stdout",
     "output_type": "stream",
     "text": [
      "iter = 0 \t\t loss = 28.492538452148438\n",
      "iter = 10 \t\t loss = 2.3468408584594727\n",
      "iter = 20 \t\t loss = 1.031928300857544\n",
      "iter = 30 \t\t loss = 0.9647798538208008\n",
      "iter = 40 \t\t loss = 0.9609823226928711\n",
      "iter = 50 \t\t loss = 0.9606364965438843\n",
      "iter = 60 \t\t loss = 0.9605627059936523\n",
      "iter = 70 \t\t loss = 0.9605387449264526\n",
      "iter = 80 \t\t loss = 0.9605301022529602\n",
      "iter = 90 \t\t loss = 0.9605270624160767\n"
     ]
    }
   ],
   "source": [
    "num_iters = 100\n",
    "losses = []\n",
    "for i in range(num_iters):\n",
    "    opt.zero_grad()\n",
    "    yhat = model(X)\n",
    "    loss = loss_fn(yhat, y)\n",
    "    loss.backward()\n",
    "    opt.step()\n",
    "    if i % 10 == 0:\n",
    "        print(f'iter = {i} \\t\\t loss = {loss}')\n",
    "    losses.append(loss.item())"
   ]
  },
  {
   "cell_type": "markdown",
   "id": "68e39a17",
   "metadata": {},
   "source": [
    "Let's go ahead and look at the parameters again and see if we found our best fit line to the data. It certainly looks like they've updated. The plot shows a much better fit to the data as well."
   ]
  },
  {
   "cell_type": "code",
   "execution_count": 11,
   "id": "e4a01134",
   "metadata": {},
   "outputs": [
    {
     "data": {
      "text/plain": [
       "(Parameter containing:\n",
       " tensor([[0.7272]], requires_grad=True),\n",
       " Parameter containing:\n",
       " tensor([0.4537], requires_grad=True))"
      ]
     },
     "execution_count": 11,
     "metadata": {},
     "output_type": "execute_result"
    }
   ],
   "source": [
    "W = model.weight\n",
    "b = model.bias\n",
    "W, b"
   ]
  },
  {
   "cell_type": "code",
   "execution_count": 12,
   "id": "b31ae8bc",
   "metadata": {},
   "outputs": [
    {
     "data": {
      "image/png": "[encoded data removed]",
      "text/plain": [
       "<Figure size 432x288 with 1 Axes>"
      ]
     },
     "metadata": {
      "needs_background": "light"
     },
     "output_type": "display_data"
    }
   ],
   "source": [
    "yhat = model(X)\n",
    "\n",
    "plt.scatter(X.numpy(), y.numpy(), label='$y$', color='black')\n",
    "plt.plot(X.numpy(), yhat.detach().numpy(), label='$\\hat y$', color='red')\n",
    "plt.xlabel('$x$')\n",
    "plt.ylabel('$y$')\n",
    "plt.legend()\n",
    "plt.title('Linear Regression - Untrained')\n",
    "plt.show()"
   ]
  },
  {
   "cell_type": "markdown",
   "id": "9d7a2f49",
   "metadata": {},
   "source": [
    "Before moving onto logistic regression, it's worth showing how to actually implement a custom layer in pytorch. To do so we'll implement the above linear layer `nn.Linear` from scratch. In pytorch, a layer is any python class that\n",
    "1. inherets from the nn.Module class,\n",
    "2. implements a `forward` method that maps the layer input to the layer output.\n",
    "\n",
    "Since we want parameters `W, b` that update with gradient descent, we need to keep track of their gradients, which means they need to have autodiff turned on. To play nice with the `nn` framework, the best way to do this for parameters is to wrap them inside `nn.Parameter`. This tells the layer that these are intended to be learnable parameters, and to keep track of them inside `model.parameters()`.\n",
    "\n",
    "You always want to define your parameters inside the `__init__` method so that the layer object can keep track of them. The `forward` method is where the actual operation happens, which in this case is just the (vectorized) linear function\n",
    "$$\\hat y = WX + b.$$\n",
    "Note that for linear layers the $WX$ is a *matrix multiply*, not an elementwise product. The bias vector $b$ is generally added to it directly using the standard numpy broadcasting rules. \n",
    "\n",
    "**Note:** There's always a question in deep learning of how to **initialize** the parameters at the beginning of training. There are a lot of ways to do this, and a lot of reasons for each, but for linear regression we'll be okay just initializing the weights using `torch.rand` and the bias using `torch.zeros`.\n",
    "\n",
    "**Note:** We need to transpose the input and output vectors in `forward` due to the fact that we generally want to keep data in the format `(num_samples, num_features)` format. But the matrix multiply wants a `(num_features, num_samples)` format instead. An alternative that's often used is to not transpose the data, but to instead treat the feature vectors as row vectors and transpose the weight matrix $W$ instead:\n",
    "$$\\hat y = X W^T + b.$$\n",
    "\n",
    "Once you've implemented a custom layer like this, it's always a good idea to first check that it works by passing some data through the layer and making sure things look reasonable. In this case, it looks like we're okay."
   ]
  },
  {
   "cell_type": "code",
   "execution_count": 13,
   "id": "e822e15d",
   "metadata": {},
   "outputs": [],
   "source": [
    "class Linear(nn.Module):\n",
    "    def __init__(self, num_features, num_targets):\n",
    "        super().__init__()\n",
    "        self.weight = nn.Parameter(torch.rand(num_targets, num_features))\n",
    "        self.bias = nn.Parameter(torch.zeros(num_targets))\n",
    "        \n",
    "    def forward(self, X):\n",
    "        X = X.T\n",
    "        yhat = self.weight @ X + self.bias\n",
    "        return yhat.T"
   ]
  },
  {
   "cell_type": "code",
   "execution_count": 14,
   "id": "acabb72c",
   "metadata": {},
   "outputs": [
    {
     "data": {
      "text/plain": [
       "(torch.Size([20, 1]), torch.Size([20, 1]), torch.Size([20, 1]))"
      ]
     },
     "execution_count": 14,
     "metadata": {},
     "output_type": "execute_result"
    }
   ],
   "source": [
    "linear = Linear(num_features, num_targets)\n",
    "yhat = linear(X)\n",
    "X.shape, y.shape, yhat.shape"
   ]
  },
  {
   "cell_type": "markdown",
   "id": "3bea3ddb",
   "metadata": {},
   "source": [
    "## Logistic Regression"
   ]
  },
  {
   "cell_type": "code",
   "execution_count": null,
   "id": "5235026d",
   "metadata": {},
   "outputs": [],
   "source": []
  },
  {
   "cell_type": "code",
   "execution_count": null,
   "id": "e8883577",
   "metadata": {},
   "outputs": [],
   "source": []
  },
  {
   "cell_type": "code",
   "execution_count": null,
   "id": "e49fb616",
   "metadata": {},
   "outputs": [],
   "source": []
  },
  {
   "cell_type": "code",
   "execution_count": null,
   "id": "860be173",
   "metadata": {},
   "outputs": [],
   "source": []
  },
  {
   "cell_type": "code",
   "execution_count": null,
   "id": "92c28fba",
   "metadata": {},
   "outputs": [],
   "source": []
  },
  {
   "cell_type": "code",
   "execution_count": null,
   "id": "ec5f934d",
   "metadata": {},
   "outputs": [],
   "source": []
  },
  {
   "cell_type": "markdown",
   "id": "42f29658",
   "metadata": {},
   "source": [
    "## Multilayer Perceptrons\n",
    "\n",
    "There are many different types of neural network architectures. The simplest and oldest architecture is the **multilayer perceptron (MLP)**."
   ]
  },
  {
   "cell_type": "code",
   "execution_count": null,
   "id": "ae1d1821",
   "metadata": {},
   "outputs": [],
   "source": []
  },
  {
   "cell_type": "code",
   "execution_count": null,
   "id": "6d412a93",
   "metadata": {},
   "outputs": [],
   "source": []
  },
  {
   "cell_type": "code",
   "execution_count": null,
   "id": "176cee21",
   "metadata": {},
   "outputs": [],
   "source": []
  }
 ],
 "metadata": {
  "kernelspec": {
   "display_name": "Python 3 (ipykernel)",
   "language": "python",
   "name": "python3"
  },
  "language_info": {
   "codemirror_mode": {
    "name": "ipython",
    "version": 3
   },
   "file_extension": ".py",
   "mimetype": "text/x-python",
   "name": "python",
   "nbconvert_exporter": "python",
   "pygments_lexer": "ipython3",
   "version": "3.10.4"
  }
 },
 "nbformat": 4,
 "nbformat_minor": 5
}
