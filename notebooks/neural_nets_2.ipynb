{
 "cells": [
  {
   "cell_type": "markdown",
   "id": "16d84ebe",
   "metadata": {},
   "source": [
    "# Neural Networks (Part 2): Going Deeper\n",
    "\n",
    "In part 2 of this neural networks series of tutorials we'll go into some more advanced ideas that make it easier to train deeper neural networks. We'll discuss concepts like activation functions, schedulers, regularization, normalization, batches and dataloaders, and stochastic optimizers. We won't discuss new architectures yet, and just continue to stick with MLPs for now. Recall that an MLP is any neural network whose blocks are composed of linear layers + activation functions.\n",
    "\n",
    "We'll again load the usual libraries we'll need, set a seed, and set a device for those who'd prefer to work on the GPU."
   ]
  },
  {
   "cell_type": "code",
   "execution_count": 1,
   "id": "d5e6b8d9",
   "metadata": {},
   "outputs": [
    {
     "data": {
      "text/plain": [
       "<torch._C.Generator at 0x115db2730>"
      ]
     },
     "execution_count": 1,
     "metadata": {},
     "output_type": "execute_result"
    }
   ],
   "source": [
    "import numpy as np\n",
    "import matplotlib.pyplot as plt\n",
    "import torch\n",
    "from torch import nn\n",
    "import torch.nn.functional as F\n",
    "from sklearn.datasets import make_blobs\n",
    "from sklearn.model_selection import train_test_split\n",
    "from sklearn.datasets import fetch_openml\n",
    "from sklearn.ensemble import RandomForestClassifier\n",
    "from tqdm.notebook import tqdm\n",
    "\n",
    "seed = 12\n",
    "np.random.seed(seed)\n",
    "torch.manual_seed(seed)"
   ]
  },
  {
   "cell_type": "code",
   "execution_count": 2,
   "id": "8a8ae62e",
   "metadata": {},
   "outputs": [],
   "source": [
    "import warnings\n",
    "warnings.filterwarnings('ignore')"
   ]
  },
  {
   "cell_type": "code",
   "execution_count": 3,
   "id": "1a08c66e",
   "metadata": {},
   "outputs": [
    {
     "data": {
      "text/plain": [
       "'cpu'"
      ]
     },
     "execution_count": 3,
     "metadata": {},
     "output_type": "execute_result"
    }
   ],
   "source": [
    "device = 'cuda' if torch.cuda.is_available() else 'cpu'\n",
    "device"
   ]
  },
  {
   "cell_type": "code",
   "execution_count": null,
   "id": "7502212e",
   "metadata": {},
   "outputs": [],
   "source": [
    "def plot_data(X, y, X_test=None, y_test=None, model=None):\n",
    "    x_min, x_max = X[:, 0].min() - 1, X[:, 0].max() + 1\n",
    "    y_min, y_max = X[:, 1].min() - 1, X[:, 1].max() + 1\n",
    "    xx, yy = np.meshgrid(np.arange(x_min, x_max, 0.01), np.arange(y_min, y_max, 0.01))\n",
    "    grid = np.c_[xx.ravel(), yy.ravel()]\n",
    "\n",
    "    fig, ax = plt.subplots(figsize=(8, 8))\n",
    "\n",
    "\n",
    "    classes = np.unique(y)\n",
    "    colors = plt.cm.rainbow(np.linspace(0, 1, len(classes)))\n",
    "    if model is not None:\n",
    "        grid = torch.from_numpy(grid).float()\n",
    "        yhat = model(grid).argmax(dim=1).detach().numpy().reshape(xx.shape)\n",
    "        ax.contourf(xx, yy, yhat, alpha=0.2, cmap=plt.cm.rainbow)\n",
    "        plt.axis(\"tight\")\n",
    "\n",
    "    for j, color in zip(classes, colors):\n",
    "        idx = np.where(y == j)\n",
    "        alpha = 1 if X_test is None else 0.2\n",
    "        plt.scatter(X[idx, 0], X[idx, 1], color=color, label=f'y={j}', edgecolor='black', s=15, alpha=alpha)\n",
    "        if X_test is not None and y_test is not None:\n",
    "            idx = np.where(y_test == j)\n",
    "            plt.scatter(X_test[idx, 0], X_test[idx, 1], color=color, edgecolor='black', s=25, alpha=1)\n",
    "    plt.title('Decision Surface')\n",
    "    plt.axis('tight')\n",
    "\n",
    "    ax.set(aspect='equal', xlabel='$x_1$', ylabel='$x_2$')\n",
    "    ax.legend(loc='upper right')\n",
    "    plt.show()"
   ]
  },
  {
   "cell_type": "markdown",
   "id": "717cc659",
   "metadata": {},
   "source": [
    "## Activation Functions\n",
    "\n",
    "Recall that an activation function is any function that follows a linear layer. We've used sigmoid functions thus far for hidden layer activation functions. For output activation functions we've used linear, sigmoid, and softmax funtions.\n",
    "\n",
    "It turns out that the sigmoid function \n",
    "$$\\sigma(z) \\equiv \\frac{1}{1 + e^{-z}}$$ \n",
    "is a bad activation function to use for hidden layers. The reason for this is **gradient vanishing**. Because of the sigmoid's elongated S-shape, if $z$ isn't \"small\" in absolute value, e.g. $|z|=5$, then $\\sigma(z)$ will be close to $\\pm 1$. In these regions the sigmoid will be pretty flat, meaning its derivative (i.e. its gradient) will be approximately zero. When the gradient is approximately zero, gradient descent stops working, and those parameters don't update anymore. This causes the activations to die off, making them practically useless in the network. They can't contribute anymore to learning. Such dying activations have been shown to be common when one tries to use sigmoids hidden activations for deeper networks."
   ]
  },
  {
   "cell_type": "code",
   "execution_count": 4,
   "id": "1e1f6902",
   "metadata": {},
   "outputs": [
    {
     "data": {
      "image/png": "[encoded data removed]",
      "text/plain": [
       "<Figure size 432x288 with 1 Axes>"
      ]
     },
     "metadata": {
      "needs_background": "light"
     },
     "output_type": "display_data"
    }
   ],
   "source": [
    "z = torch.linspace(-10, 10, 100)\n",
    "sigmoid = F.sigmoid(z)\n",
    "plt.plot(z.numpy(), sigmoid.numpy())\n",
    "plt.xlabel('z')\n",
    "plt.title('Sigmoid')\n",
    "plt.show()"
   ]
  },
  {
   "cell_type": "markdown",
   "id": "70471758",
   "metadata": {},
   "source": [
    "Because of this problem, many other activation functions have been proposed over the years and shown to work much better than the sigmoid for hidden layer activations. The most widely used is what's called the **rectified linear unit**, usually just called **ReLU**, defined by\n",
    "$$\n",
    "\\text{ReLU}(z) \\equiv \\max(0, z) = \n",
    "\\begin{cases}\n",
    "0, & z < 0 \\\\\n",
    "z, & z \\geq 0.\n",
    "\\end{cases}\n",
    "$$\n",
    "This function is just a truncated line, with all the negative values set to zero."
   ]
  },
  {
   "cell_type": "code",
   "execution_count": 5,
   "id": "36140696",
   "metadata": {},
   "outputs": [
    {
     "data": {
      "image/png": "[encoded data removed]",
      "text/plain": [
       "<Figure size 432x288 with 1 Axes>"
      ]
     },
     "metadata": {
      "needs_background": "light"
     },
     "output_type": "display_data"
    }
   ],
   "source": [
    "z = torch.linspace(-10, 10, 100)\n",
    "relu = F.relu(z)\n",
    "plt.plot(z.numpy(), relu.numpy())\n",
    "plt.xlabel('z')\n",
    "plt.title('ReLU')\n",
    "plt.show()"
   ]
  },
  {
   "cell_type": "markdown",
   "id": "664222c8",
   "metadata": {},
   "source": [
    "The ReLU has turned out to work well across many experiments over the past decade for training neural networks, with gradient vanishing issues happening far less than sigmoids. Because of this, it's still by far the most widely used activation function today, even though minor variations of it have since come along and gained some degree of traction. Examples of these are the leaky ReLU, GELU, SELU, Swish, Mish, etc. We'll stick with ReLUs for most of our tutorials since it tends to work pretty well most of the time.\n",
    "\n",
    "Using a ReLU in pytorch can be done either by using the layer `nn.ReLU` or the function `F.relu`. The other, newer variants just mentioned are accessible as well if you wish to use them.\n",
    "\n",
    "**Note:** The ReLU is just used for *hidden layers*, not the output layer. For the output layer, you still want to use either the linear, sigmoid, or softmax activation depending on what your task is."
   ]
  },
  {
   "cell_type": "code",
   "execution_count": 6,
   "id": "f203f7be",
   "metadata": {},
   "outputs": [
    {
     "data": {
      "text/plain": [
       "Sequential(\n",
       "  (0): Linear(in_features=2, out_features=100, bias=True)\n",
       "  (1): ReLU()\n",
       "  (2): Linear(in_features=100, out_features=1, bias=True)\n",
       "  (3): Sigmoid()\n",
       ")"
      ]
     },
     "execution_count": 6,
     "metadata": {},
     "output_type": "execute_result"
    }
   ],
   "source": [
    "model = nn.Sequential(\n",
    "    nn.Linear(2, 100),\n",
    "    nn.ReLU(),\n",
    "    nn.Linear(100, 1),\n",
    "    nn.Sigmoid()\n",
    ")\n",
    "model"
   ]
  },
  {
   "cell_type": "markdown",
   "id": "a9e2a4cb",
   "metadata": {},
   "source": [
    "## Regularization\n",
    "\n",
    "Recall from past tutorials that in practice it's usually bad to have zero loss or 100% accuracy on the training dataset, because it probably means you're just memorizing your data instead of discovering the underlying patterns in the data. This phenomenon is called **overfitting**. To help detect and prevent overfitting it's customary to keep a hold-out sample of the dataset that the model doesn't get trained on, and use that dataset to evaluate the performance of the model. Such hold-out datasets are called the **test set** or the **validation set**. A model trained on a training set that also performs well on the test set is said to **generalize**, just a fancy way of saying the model isn't just memorizing the data but actually learning its underlying patterns really well.\n",
    "\n",
    "To see what overfitting looks like let's create a small linear dataset, split it into train and test sets, and try to fit the training set with a large MLP of 8 layers with hidden sizes of 500 neurons. We'll train it for 10,000 iterations on the training data (i.e. the grayed out data in the plot), and evaluate it on the test data (i.e. the black points in the plot). Note that the *true* fit should be a line in this case, as that's how we generated this dataset, a line plus some Gaussian noise."
   ]
  },
  {
   "cell_type": "code",
   "execution_count": 7,
   "id": "401ec459",
   "metadata": {},
   "outputs": [
    {
     "data": {
      "text/plain": [
       "(torch.Size([30, 1]), torch.Size([30, 1]))"
      ]
     },
     "execution_count": 7,
     "metadata": {},
     "output_type": "execute_result"
    }
   ],
   "source": [
    "num_samples = 30\n",
    "X = torch.linspace(0, 5, num_samples).reshape(-1, 1).to(device)\n",
    "y = X + torch.randn(num_samples).reshape(-1, 1).to(device)\n",
    "X.shape, y.shape"
   ]
  },
  {
   "cell_type": "code",
   "execution_count": 8,
   "id": "d963d0ca",
   "metadata": {},
   "outputs": [
    {
     "data": {
      "text/plain": [
       "(torch.Size([24, 1]),\n",
       " torch.Size([24, 1]),\n",
       " torch.Size([6, 1]),\n",
       " torch.Size([6, 1]))"
      ]
     },
     "execution_count": 8,
     "metadata": {},
     "output_type": "execute_result"
    }
   ],
   "source": [
    "X_train, X_test, y_train, y_test = train_test_split(X, y, test_size=0.2)\n",
    "X_train.shape, y_train.shape, X_test.shape, y_test.shape"
   ]
  },
  {
   "cell_type": "code",
   "execution_count": 9,
   "id": "4516281b",
   "metadata": {},
   "outputs": [
    {
     "data": {
      "image/png": "[encoded data removed]",
      "text/plain": [
       "<Figure size 432x288 with 1 Axes>"
      ]
     },
     "metadata": {
      "needs_background": "light"
     },
     "output_type": "display_data"
    }
   ],
   "source": [
    "plt.scatter(X_train, y_train, label='train', color='gray', alpha=0.5, s=5)\n",
    "plt.scatter(X_test, y_test, label='test', color='black', alpha=1, s=15)\n",
    "plt.xlabel('$x$')\n",
    "plt.ylabel('$y$')\n",
    "plt.legend(loc='upper left')\n",
    "plt.show()"
   ]
  },
  {
   "cell_type": "code",
   "execution_count": 10,
   "id": "f3fbc92a",
   "metadata": {},
   "outputs": [
    {
     "data": {
      "text/plain": [
       "Sequential(\n",
       "  (0): Linear(in_features=1, out_features=500, bias=True)\n",
       "  (1): ReLU()\n",
       "  (2): Linear(in_features=500, out_features=500, bias=True)\n",
       "  (3): ReLU()\n",
       "  (4): Linear(in_features=500, out_features=500, bias=True)\n",
       "  (5): ReLU()\n",
       "  (6): Linear(in_features=500, out_features=500, bias=True)\n",
       "  (7): ReLU()\n",
       "  (8): Linear(in_features=500, out_features=500, bias=True)\n",
       "  (9): ReLU()\n",
       "  (10): Linear(in_features=500, out_features=500, bias=True)\n",
       "  (11): ReLU()\n",
       "  (12): Linear(in_features=500, out_features=500, bias=True)\n",
       "  (13): ReLU()\n",
       "  (14): Linear(in_features=500, out_features=1, bias=True)\n",
       ")"
      ]
     },
     "execution_count": 10,
     "metadata": {},
     "output_type": "execute_result"
    }
   ],
   "source": [
    "X = torch.tensor(X).float().to(device)\n",
    "y = torch.tensor(y).float().to(device)\n",
    "X_train = torch.tensor(X_train).float().to(device)\n",
    "y_train = torch.tensor(y_train).float().to(device)\n",
    "X_test = torch.tensor(X_test).float().to(device)\n",
    "y_test = torch.tensor(y_test).float().to(device)\n",
    "\n",
    "num_features = X_train.shape[1]\n",
    "num_hidden = 500\n",
    "num_targets = 1\n",
    "\n",
    "model = nn.Sequential(\n",
    "    nn.Linear(num_features, num_hidden),\n",
    "    nn.ReLU(),\n",
    "    nn.Linear(num_hidden, num_hidden),\n",
    "    nn.ReLU(),\n",
    "    nn.Linear(num_hidden, num_hidden),\n",
    "    nn.ReLU(),\n",
    "    nn.Linear(num_hidden, num_hidden),\n",
    "    nn.ReLU(),\n",
    "    nn.Linear(num_hidden, num_hidden),\n",
    "    nn.ReLU(),\n",
    "    nn.Linear(num_hidden, num_hidden),\n",
    "    nn.ReLU(),\n",
    "    nn.Linear(num_hidden, num_hidden),\n",
    "    nn.ReLU(),\n",
    "    nn.Linear(num_hidden, num_targets)\n",
    ")\n",
    "model = model.to(device)\n",
    "model"
   ]
  },
  {
   "cell_type": "code",
   "execution_count": 11,
   "id": "d6d2e261",
   "metadata": {},
   "outputs": [
    {
     "data": {
      "application/vnd.jupyter.widget-view+json": {
       "model_id": "ba4748dd59404262934aa2a8c97c3e99",
       "version_major": 2,
       "version_minor": 0
      },
      "text/plain": [
       "  0%|          | 0/10000 [00:00<?, ?it/s]"
      ]
     },
     "metadata": {},
     "output_type": "display_data"
    },
    {
     "name": "stdout",
     "output_type": "stream",
     "text": [
      "iter = 0 \t\t train loss = 0.30887994170188904 \t\t test loss = 1.0303691625595093\n",
      "iter = 1000 \t\t train loss = 0.030806303024291992 \t\t test loss = 0.02472120337188244\n",
      "iter = 2000 \t\t train loss = 0.029723338782787323 \t\t test loss = 0.029680581763386726\n",
      "iter = 3000 \t\t train loss = 0.02871190570294857 \t\t test loss = 0.032898325473070145\n",
      "iter = 4000 \t\t train loss = 0.027320751920342445 \t\t test loss = 0.03407188132405281\n",
      "iter = 5000 \t\t train loss = 0.02563592977821827 \t\t test loss = 0.031092137098312378\n",
      "iter = 6000 \t\t train loss = 0.02366632968187332 \t\t test loss = 0.03314466401934624\n",
      "iter = 7000 \t\t train loss = 0.017538730055093765 \t\t test loss = 0.036950331181287766\n",
      "iter = 8000 \t\t train loss = 0.011787530966103077 \t\t test loss = 0.031028496101498604\n",
      "iter = 9000 \t\t train loss = 0.013204634189605713 \t\t test loss = 0.052232775837183\n",
      "iter = 9999 \t\t train loss = 0.008932610973715782 \t\t test loss = 0.08386954665184021\n"
     ]
    }
   ],
   "source": [
    "num_iters = 10_000\n",
    "loss_fn = nn.MSELoss()\n",
    "opt = torch.optim.SGD(model.parameters(), lr=0.01)\n",
    "for i in tqdm(range(num_iters)):\n",
    "    # training\n",
    "    opt.zero_grad()\n",
    "    yhat = model(X_train)\n",
    "    loss = loss_fn(yhat, y_train)\n",
    "    loss.backward()\n",
    "    opt.step()\n",
    "    # inference\n",
    "    yhat = model(X_test)\n",
    "    test_loss = loss_fn(yhat, y_test)\n",
    "    if i % (num_iters // 10) == 0:\n",
    "        print(f'iter = {i} \\t\\t train loss = {loss / len(X_train)} \\t\\t test loss = {test_loss / len(X_test)}')\n",
    "print(f'iter = {i} \\t\\t train loss = {loss / len(X_train)} \\t\\t test loss = {test_loss / len(X_test)}')"
   ]
  },
  {
   "cell_type": "markdown",
   "id": "99899f32",
   "metadata": {},
   "source": [
    "Notice how the training loss is extremely low, almost zero, while the test loss is over an order of magnitude higher higher, and in fact getting *worse* with training. This is the hallmark of overfitting. We can visualize what's happening as well. Here's what our prediction looks like, overlaid on the above plot. Notice how jagged the curve is. It's practically just connecting the dots in the training set, which isn't helping it fit the test set at all.\n",
    "\n",
    "**Remark:** You actually don't even need a model this big to overfit this dataset. Since there are 24 points in the training set, you only need 23 parameters to fit the training set perfectly with a degree 23 polynomial. Feel free to try it. Just create a linear model with features $x_1=x, x_2=x^2, x_3=x^3, \\cdots, x_{23}=x^{23}$ and fit it to this dataset."
   ]
  },
  {
   "cell_type": "code",
   "execution_count": 12,
   "id": "5146cb80",
   "metadata": {},
   "outputs": [
    {
     "data": {
      "image/png": "[encoded data removed]",
      "text/plain": [
       "<Figure size 432x288 with 1 Axes>"
      ]
     },
     "metadata": {
      "needs_background": "light"
     },
     "output_type": "display_data"
    }
   ],
   "source": [
    "yhat = model(X)\n",
    "plt.scatter(X_train.cpu().numpy(), y_train.cpu().numpy(), label='train', color='gray', alpha=0.5, s=5)\n",
    "plt.scatter(X_test.cpu().numpy(), y_test.cpu().numpy(), label='test', color='black', alpha=1, s=15)\n",
    "plt.plot(X.cpu().numpy(), yhat.detach().cpu().numpy(), label='$\\hat y$', color='red')\n",
    "plt.xlabel('$x$')\n",
    "plt.ylabel('$y$')\n",
    "plt.legend()\n",
    "plt.title('Overfitted Model')\n",
    "plt.show()"
   ]
  },
  {
   "cell_type": "markdown",
   "id": "55b4d680",
   "metadata": {},
   "source": [
    "Why did we overfit this dataset? Well, we specified a huge model to fit only 30 points! Just how big is this model? We can get that with the following function, which uses the pytorch `numel` method to get how many elements are in a tensor, and uses this method on all parameter tensors in the model, and sums them up to get the total number. It looks like this neural network already has over 1.5 million parameters! It's no surprise that a model that big can easily overfit a dataset with just 30 points."
   ]
  },
  {
   "cell_type": "code",
   "execution_count": 13,
   "id": "30352030",
   "metadata": {},
   "outputs": [
    {
     "data": {
      "text/plain": [
       "1504501"
      ]
     },
     "execution_count": 13,
     "metadata": {},
     "output_type": "execute_result"
    }
   ],
   "source": [
    "def num_params(model):\n",
    "    return sum([p.numel() for p in model.parameters()])\n",
    "\n",
    "num_params(model)"
   ]
  },
  {
   "cell_type": "markdown",
   "id": "b295f39f",
   "metadata": {},
   "source": [
    "Supposing we were dead set to use this model on this dataset, what could we do to improve results? It turns out there exist a whole set of techniques called **regularization** that can help make it harder for large models to overfit the dataset.\n",
    "\n",
    "Traditionally, the most common thing we might do if our model was overfitting would be to decrease the size of the model. Instead of a complicated model like an 8-layer neural network, maybe use a simpler model like a shallow network or perhaps just linear regression. In the age of deep learning though this approach is less advised. The reason being that you can often *still* get better results with a deeper network than a shallow network, even if you have lots more parameters that can overfit. There are better ways to deal with overfitting. Here are a few.\n",
    "\n",
    "### Weight Decay\n",
    "\n",
    "The simplest such regularization technique is called **weight decay** or **L2 regularization**. The idea here is to add a penalty term to the loss function that discourages it from letting weights grow too large during training. The closer the weights are to zero, the more the model acts like it has fewer parameters, since zeroing weights tends to zero out neurons. Suppose you have a loss function $L(\\hat y, y)$ and your neural network has total weights\n",
    "$$w \\equiv (w_1,w_2,\\cdots,w_m).$$\n",
    "Then we can define an L2-regularized loss function $L_R(\\hat y, y)$ by\n",
    "$$L_R(\\hat y, y) \\equiv L(\\hat y, y) + \\frac{\\lambda}{2N} w\\cdot w = L(\\hat y, y) + \\frac{\\lambda}{2N} \\big(w_1^2 + w_2^2 + \\cdots + w_m^2 \\big).$$\n",
    "That is, it's just the regular loss added to a *penalty term* that's a just a sum of squares of *every single weight* in your neural network. The value $\\lambda$ is the **weight decay rate**. It's another tunable hyperparameter you specify in advance when training a model.\n",
    "\n",
    "To see what weight decay does, remember that the goal of training is to minimize the (regularized) loss $L_R(\\hat y, y)$. With the added penalty term $\\frac{\\lambda}{2N} w\\cdot w$, the model will want to try to keep the weights small during training so that this term doesn't blow up. The weight decay rate $\\lambda$ controls the tradeoff between how badly the model wants to do well on fitting the dataset (the regular loss term), and how badly it wants to keep the weights small (the penalty term). Setting $\\lambda$ appropriately creates a good tradeoff between these two competing objectives.\n",
    "\n",
    "**Note:** The biases aren't generally affected by weight decay. It's only the weights we worry about blowing up. The biases are just additive terms, and there are far fewer of them than weights, so they contribute less to training.\n",
    "\n",
    "In practice, weight decay is usually defined on the gradient descent updates instead of directly on the loss function itself. The mathematically inclined can show that the regularized gradient updates are given by\n",
    "$$\\boldsymbol{W}_{n+1} = \\boldsymbol{W}_n - \\alpha \\frac{dL_R(\\boldsymbol{W}_n,\\boldsymbol{b}_n)}{d\\boldsymbol{W}} = \\bigg(1 - \\frac{\\lambda}{N}\\bigg)\\boldsymbol{W}_n - \\alpha \\frac{dL(\\boldsymbol{W}_n,\\boldsymbol{b}_n)}{d\\boldsymbol{W}},$$\n",
    "$$\\boldsymbol{b}_{n+1} = \\boldsymbol{b}_n - \\alpha \\frac{dL_R(\\boldsymbol{W}_n,\\boldsymbol{b}_n)}{d\\boldsymbol{b}} = \\boldsymbol{b}_n - \\alpha \\frac{dL(\\boldsymbol{W}_n,\\boldsymbol{b}_n)}{d\\boldsymbol{b}}.$$\n",
    "\n",
    "Notice the terms on the right involve gradients of the original loss $L$, not the regularized loss $L_R$. They look exactly like the usual gradient updates, except the weights get decayed by a factor of $\\big(1 - \\frac{\\lambda}{N}\\big)$ on each update, hence the name \"weight decay\". It's in this form that weight decay is typically implemented in practice.\n",
    "\n",
    "In pytorch, we can use weight decay by just passing in the value $\\lambda$ that we want directly into the optimizer with the keyword `weight_decay`. Let's see if we can train a better model to fit the above dataset using weight decay.\n",
    "\n",
    "### Dropout\n",
    "\n",
    "Another way to regularize a model that's neural network specific is to use a special \"layer\" called **dropout**. The idea is this: A model is more likely to overfit when any one neuron is allowed to dominate a prediction too much. We can thus regularize by preventing any one neuron from becoming too influential during training.\n",
    "\n",
    "During **training** we can do the following:\n",
    "- For a given hidden layer $\\ell$ with $n_h$ hidden units, take its post activation outputs $a$, which will have $n_h$ different values (the neurons of that layer).\n",
    "- Instead of feeding all $n_h$ hidden units of $a$ to the next linear layer, randomly sample a certain fraction $p$ of them to mask (i.e. zero out temporarily so they won't affect the output).\n",
    "- The other fraction $1-p$ we'll allow to pass into the activation function and affect the output.\n",
    "- Each time we pass through the layer, we sample a different set from $a$ than we did last time, but still only a $p$ fraction of them\n",
    "- Do this each iteration, for each layer, until training is complete. Note each layer can have different fractions $p$ to mask.\n",
    "\n",
    "Here's a figure showing what applying dropout during training looks like. For each iteration, i.e. each forward pass through the network, the ones that are X'd out will change, but the *number* that are X'd out will always be the same, depending on $p$.\n",
    "\n",
    "<img src=\"https://miro.medium.com/max/1044/1*iWQzxhVlvadk6VAJjsgXgg.png\" alt=\"dropout\" width=\"500\">\n",
    "\n",
    "When doing **inference** on the model, i.e. when making predictions after training, we don't want to keep dropout on. We want to use all the neurons we've got to ensure that our predictions aren't random, but completely stable and deterministic.\n",
    "\n",
    "In pytorch, we can create a dropout layer using `nn.Dropout(p)`, where `p` is the fraction of neurons to mask as described above. During training we'll want dropout to be on. To make sure that's true we set `model = model.train()` before starting training. Once we're *done* training, we want to make sure dropout is turned off. We can do that by setting `model = model.eval()` before making predictions.\n",
    "\n",
    "### Regularization Example\n",
    "\n",
    "Let's use weight decay and dropout for the above example and see if we can reign in the overfitting. We'll use the same model as above, just with dropout added after each linear layer (except the output layer, you don't usually want one there). We'll take $p=0.2$ and $\\lambda=0.001$. How did I arrive at this choice of hyperparameters, you might ask? Lots of times running this thing to see what would give the best result, with all the other hyperparameters from above fixed. Don't think I'm a magician and pulled them out of a hat or anything. Tuning neural nets is a whole lot of trial and error.\n",
    "\n",
    "We can see that we've managed to *halve* our testerror here, but at the cost of the training error being higher. That's what regularization will often do. Notice also that the fitted curve looks a lot nicer than the other one. It's trying to smoothly fit the points better. It's not a line, but it's doing a good job."
   ]
  },
  {
   "cell_type": "code",
   "execution_count": 14,
   "id": "dede8803",
   "metadata": {},
   "outputs": [],
   "source": [
    "p = 0.2\n",
    "\n",
    "model = nn.Sequential(\n",
    "    nn.Linear(num_features, num_hidden),\n",
    "    nn.ReLU(),\n",
    "    nn.Dropout(p=p),\n",
    "    nn.Linear(num_hidden, num_hidden),\n",
    "    nn.ReLU(),\n",
    "    nn.Dropout(p=p),\n",
    "    nn.Linear(num_hidden, num_hidden),\n",
    "    nn.ReLU(),\n",
    "    nn.Dropout(p=p),\n",
    "    nn.Linear(num_hidden, num_hidden),\n",
    "    nn.ReLU(),\n",
    "    nn.Dropout(p=p),\n",
    "    nn.Linear(num_hidden, num_hidden),\n",
    "    nn.ReLU(),\n",
    "    nn.Dropout(p=p),\n",
    "    nn.Linear(num_hidden, num_hidden),\n",
    "    nn.ReLU(),\n",
    "    nn.Dropout(p=p),\n",
    "    nn.Linear(num_hidden, num_hidden),\n",
    "    nn.ReLU(),\n",
    "    nn.Dropout(p=p),\n",
    "    nn.Linear(num_hidden, num_targets)\n",
    ")\n",
    "model = model.to(device)"
   ]
  },
  {
   "cell_type": "code",
   "execution_count": 15,
   "id": "42c4545d",
   "metadata": {},
   "outputs": [
    {
     "data": {
      "application/vnd.jupyter.widget-view+json": {
       "model_id": "6bab6628a57e4dd9a9a424290ba5378f",
       "version_major": 2,
       "version_minor": 0
      },
      "text/plain": [
       "  0%|          | 0/10000 [00:00<?, ?it/s]"
      ]
     },
     "metadata": {},
     "output_type": "display_data"
    },
    {
     "name": "stdout",
     "output_type": "stream",
     "text": [
      "iter = 0 \t\t train loss = 0.3189311921596527 \t\t test loss = 1.067847490310669\n",
      "iter = 1000 \t\t train loss = 0.03205722197890282 \t\t test loss = 0.0249770674854517\n",
      "iter = 2000 \t\t train loss = 0.028152383863925934 \t\t test loss = 0.021457595750689507\n",
      "iter = 3000 \t\t train loss = 0.03488529846072197 \t\t test loss = 0.023753678426146507\n",
      "iter = 4000 \t\t train loss = 0.03236726298928261 \t\t test loss = 0.039700400084257126\n",
      "iter = 5000 \t\t train loss = 0.03180822357535362 \t\t test loss = 0.03295603394508362\n",
      "iter = 6000 \t\t train loss = 0.031245656311511993 \t\t test loss = 0.04395035281777382\n",
      "iter = 7000 \t\t train loss = 0.03394685313105583 \t\t test loss = 0.03648354485630989\n",
      "iter = 8000 \t\t train loss = 0.028842834755778313 \t\t test loss = 0.03609803318977356\n",
      "iter = 9000 \t\t train loss = 0.02666834555566311 \t\t test loss = 0.03168197348713875\n",
      "iter = 9999 \t\t train loss = 0.028076164424419403 \t\t test loss = 0.03922378271818161\n"
     ]
    }
   ],
   "source": [
    "num_iters = 10_000\n",
    "loss_fn = nn.MSELoss()\n",
    "opt = torch.optim.SGD(model.parameters(), lr=0.01, weight_decay=0.001)\n",
    "for i in tqdm(range(num_iters)):\n",
    "    # training\n",
    "    model = model.train()\n",
    "    opt.zero_grad()\n",
    "    yhat = model(X_train)\n",
    "    loss = loss_fn(yhat, y_train)\n",
    "    loss.backward()\n",
    "    opt.step()\n",
    "    # inference\n",
    "    model = model.eval()\n",
    "    yhat = model(X_test)\n",
    "    test_loss = loss_fn(yhat, y_test)\n",
    "    if i % (num_iters // 10) == 0:\n",
    "        print(f'iter = {i} \\t\\t train loss = {loss / len(X_train)} \\t\\t test loss = {test_loss / len(X_test)}')\n",
    "print(f'iter = {i} \\t\\t train loss = {loss / len(X_train)} \\t\\t test loss = {test_loss / len(X_test)}')"
   ]
  },
  {
   "cell_type": "code",
   "execution_count": 16,
   "id": "e59913dd",
   "metadata": {},
   "outputs": [
    {
     "data": {
      "image/png": "[encoded data removed]",
      "text/plain": [
       "<Figure size 432x288 with 1 Axes>"
      ]
     },
     "metadata": {
      "needs_background": "light"
     },
     "output_type": "display_data"
    }
   ],
   "source": [
    "yhat = model(X)\n",
    "plt.scatter(X_train.cpu().numpy(), y_train.cpu().numpy(), label='train', color='gray', alpha=0.5, s=5)\n",
    "plt.scatter(X_test.cpu().numpy(), y_test.cpu().numpy(), label='test', color='black', alpha=1, s=15)\n",
    "plt.plot(X.cpu().numpy(), yhat.detach().cpu().numpy(), label='$\\hat y$', color='red')\n",
    "plt.xlabel('$x$')\n",
    "plt.ylabel('$y$')\n",
    "plt.legend()\n",
    "plt.title('Regularized Model')\n",
    "plt.show()"
   ]
  },
  {
   "cell_type": "markdown",
   "id": "958591aa",
   "metadata": {},
   "source": [
    "## Normalization\n",
    "\n",
    "It turns out that, like all parametric models, neural networks are strongly affected by the scale of the data. If features are way out of scale with each other the model will typically train poorly. For gradient descent to work, you'll either need to use a really small learning rate, or rescale your data prior to training. Since we want to use large learning rates and train our models quickly, rescaling the data seems like the smarter move. This is called **normalization**. In fact, with neural nets, we don't just want to normalize the data (i.e. the input layer), we want to normalize *all layers*. This will lead to layer normalization concepts like batch normalization and layer normalization.\n",
    "\n",
    "Too see what normalization does, let's start with input layer normalization, i.e. normalizing the input features. Consider the following input data `X` with 100 examples of 3 features. We can see how skewed the features are by looking at a histogram of each feature and overlaying them on top of each other. In this case, it looks like the feature $x_0$ has a mean around 0 with a pretty large spread. Feature $x_1$ has a somewhat higher mean, but a smaller spread with a sharper peak. And feature $x_2$ has a much higher mean around 1000 and a still smaller spread and higher peak. It's not at all the case that these features are on the same scale."
   ]
  },
  {
   "cell_type": "code",
   "execution_count": 17,
   "id": "dcc4b83f",
   "metadata": {},
   "outputs": [
    {
     "data": {
      "text/plain": [
       "torch.Size([100, 3])"
      ]
     },
     "execution_count": 17,
     "metadata": {},
     "output_type": "execute_result"
    }
   ],
   "source": [
    "def gen_data(n_samples, means, stds):\n",
    "    x0 = stds[0] * torch.randn(n_samples).reshape(-1, 1) + means[0]\n",
    "    x1 = stds[1] * torch.randn(n_samples).reshape(-1, 1) + means[1]\n",
    "    x2 = stds[2] * torch.randn(n_samples).reshape(-1, 1) + means[2]\n",
    "    return torch.cat([x0, x1, x2], dim=1)\n",
    "    \n",
    "x = gen_data(100, [1, 100, 1000], [100, 10, 1])\n",
    "x.shape"
   ]
  },
  {
   "cell_type": "code",
   "execution_count": 18,
   "id": "1d886a9a",
   "metadata": {},
   "outputs": [
    {
     "data": {
      "image/png": "[encoded data removed]",
      "text/plain": [
       "<Figure size 432x288 with 1 Axes>"
      ]
     },
     "metadata": {
      "needs_background": "light"
     },
     "output_type": "display_data"
    }
   ],
   "source": [
    "plt.hist(x[:, 0].numpy(), label='$x_0$')\n",
    "plt.hist(x[:, 1].numpy(), label='$x_1$')\n",
    "plt.hist(x[:, 2].numpy(), label='$x_2$')\n",
    "plt.legend()\n",
    "plt.show()"
   ]
  },
  {
   "cell_type": "markdown",
   "id": "55263415",
   "metadata": {},
   "source": [
    "There are several ways to normalize data, with different domains often preferring different normalization methods. Probably the most common is **standardization**, a method from statistics where one normalizes each feature to have a mean 0 and standard deviation 1, called centering and scaling. If $x_j$ is a feature with mean $\\mu_j$ and standard deviation $\\sigma_j$, we can normalize it to a new feature standardized feature $\\bar x_j$ via\n",
    "$$\\bar x_j \\equiv \\frac{x_j - \\mu_j}{\\sigma_j}.$$\n",
    "By design, all $\\bar x_j$ will have mean 0 and standard deviation 1. Note each feature will have its own $\\mu_j$ and $\\sigma_j$ to normalize by. You don't want to use the same $\\mu$ and $\\sigma$ for every feature or you haven't really normalized your data all.\n",
    "\n",
    "Using broadcasting rules we can normalize a dataset `x` by subtracting a *row vector* of column means and dividing by a *row vector* of column standard deviations. It's a simple one-liner. Once we've done this, the histogram shows each feature to be a lot better scaled."
   ]
  },
  {
   "cell_type": "code",
   "execution_count": 21,
   "id": "02c7356d",
   "metadata": {},
   "outputs": [
    {
     "data": {
      "text/plain": [
       "torch.Size([100, 3])"
      ]
     },
     "execution_count": 21,
     "metadata": {},
     "output_type": "execute_result"
    }
   ],
   "source": [
    "x_normed = (x - torch.mean(x, dim=0)) / torch.std(x, dim=0)\n",
    "x_normed.shape"
   ]
  },
  {
   "cell_type": "code",
   "execution_count": 22,
   "id": "100feb97",
   "metadata": {},
   "outputs": [
    {
     "data": {
      "image/png": "[encoded data removed]",
      "text/plain": [
       "<Figure size 432x288 with 1 Axes>"
      ]
     },
     "metadata": {
      "needs_background": "light"
     },
     "output_type": "display_data"
    }
   ],
   "source": [
    "plt.hist(x_normed[:, 0].numpy(), label=r'$\\bar x_0$', alpha=0.5)\n",
    "plt.hist(x_normed[:, 1].numpy(), label=r'$\\bar x_1$', alpha=0.5)\n",
    "plt.hist(x_normed[:, 2].numpy(), label=r'$\\bar x_2$', alpha=0.5)\n",
    "plt.legend(fontsize=12)\n",
    "plt.show()"
   ]
  },
  {
   "cell_type": "markdown",
   "id": "30215a4b",
   "metadata": {},
   "source": [
    "### Batch Normalization\n",
    "\n",
    "The real kick here is that with neural networks we want to do this for *each layer*, not just the inputs, as it will make training deeper networks much easier when neurons in a layer are on similar scales to each other. Generally we'll want to do this after each linear layer before applying the activation function. So if a linear layer has\n",
    "$$\\boldsymbol{z}_{\\ell} = \\boldsymbol{W}_{\\ell} \\boldsymbol{a}_{\\ell-1} + \\boldsymbol{b}_{\\ell},$$\n",
    "we'll want to normalize it to be\n",
    "$$\\boldsymbol{\\hat z}_{\\ell} \\equiv \\frac{\\boldsymbol{z}_{\\ell} - \\boldsymbol{\\mu}_{\\ell}}{\\boldsymbol{\\sigma}_{\\ell}},$$\n",
    "where $\\boldsymbol{\\mu}_{\\ell}$ is the mean of the inputs in layer $\\ell$, and $\\boldsymbol{\\sigma}_{\\ell}$ the standard deviation of those inputs.\n",
    "\n",
    "Excuse the slight abuse of notation here. This formula is already assumed to be vectorized, hence the change to bolded notation. So $\\boldsymbol{z}_{\\ell}$ is a vector with $n_h$ features. And *each of those features* will be normalized by *its own mean and std*.\n",
    "\n",
    "Now, it seems like the thing to do would be to pass $\\boldsymbol{\\hat z}_{\\ell}$ into the activation function like we would usually do $\\boldsymbol{z}_{\\ell}$, but that's not quite what we want to do. The issue is that we have normalized our layer to have the same distribution, a Gaussian. But there's no a priori reason that those features should necessarily be Gaussians with mean 0 and std 1. We want our learned features to be as expressive as possible.\n",
    "\n",
    "The trick for both 1) taking advantage of the benefits of normalized layers in training, while simultaneously 2) having features as expressive as possible can be accomplished as follows: What we'll do is, for each neuron in the layer, introduce two learned parameters, a scale parameter $\\gamma_j$ and a shift parameter $\\beta_j$.\n",
    "\n",
    "For each hidden layer $\\ell$ this will give two parameter vectors: a scale vector $\\boldsymbol{\\gamma}_{\\ell}=(\\gamma_1,\\cdots,\\gamma_{n_h})$, and a shift vector $\\boldsymbol{\\beta}_{\\ell}=(\\beta_1,\\cdots,\\beta_{n_h})$. Using these, we can *elementwise multiply* $\\boldsymbol{\\gamma}_{\\ell}, \\boldsymbol{\\hat z}_{\\ell}$ and add $\\boldsymbol{\\beta}_{\\ell}$ to get the *final* linear layer outputs that'll then be fed into the activation function:\n",
    "$$\\boldsymbol{\\tilde z}_{\\ell} \\equiv \\boldsymbol{\\gamma}_{\\ell} \\boldsymbol{\\hat z}_{\\ell} + \\boldsymbol{\\beta}_{\\ell},$$\n",
    "$$\\boldsymbol{a}_{\\ell} = f_{\\ell}(\\boldsymbol{\\tilde z}_{\\ell}).$$\n",
    "These will allow each neuron to have its own mean and standard deviation, but only after we've normalized the data. The neural network can figure out for itself what the best choices for these parameters are by learning from the data. This technique is called **batch normalization** (batch norm), and has been shown to be very powerful in helping stably train deep neural networks of all kinds.\n",
    "\n",
    "In pytorch, we can create a (1-dim) batch norm layer using `nn.BatchNorm1d`. If that layer has `num_hidden` neurons then batch norm will have `2 * num_hidden` parameters: `num_hidden` scale parameters $\\boldsymbol{\\gamma}$, and `num_hidden` shift parameters $\\boldsymbol{\\beta}$."
   ]
  },
  {
   "cell_type": "code",
   "execution_count": 23,
   "id": "a5ca800d",
   "metadata": {},
   "outputs": [
    {
     "data": {
      "text/plain": [
       "[Parameter containing:\n",
       " tensor([1., 1., 1.], requires_grad=True),\n",
       " Parameter containing:\n",
       " tensor([0., 0., 0.], requires_grad=True)]"
      ]
     },
     "execution_count": 23,
     "metadata": {},
     "output_type": "execute_result"
    }
   ],
   "source": [
    "num_hidden = 3\n",
    "batch_norm = nn.BatchNorm1d(num_hidden)\n",
    "list(batch_norm.parameters()) # these are initialized param values, not yet learned"
   ]
  },
  {
   "cell_type": "markdown",
   "id": "d165a2b6",
   "metadata": {},
   "source": [
    "### Layer Normalization\n",
    "\n",
    "For completeness, there's also another normalization technique related to batch norm that's becoming more popular, called **layer normalization** (layer norm). It's almost exactly the same as batch norm, except with one subtle difference: Instead of calculating $\\boldsymbol{\\mu}_{\\ell}$ and $\\boldsymbol{\\sigma}_{\\ell}$ across *all examples* in a batch for *each neuron*, they're calculated for *each example* separately across *all neurons* in the layer.\n",
    "\n",
    "<img src=\"https://i.stack.imgur.com/E3104.png\" alt=\"layer norm\" width=\"500\">\n",
    "\n",
    "This very subtle change has increasingly been shown to work well in many applications, and is widely used in the most modern neural architectures, especially in sequential architectures like transformers and RNNs. Roughly speaking, right now it seems layer norms are more popular with NLP applications, and batch norms with computer vision applications. But this may well change in the next few years.\n",
    "\n",
    "In pytorch, we can create a layer norm layer using `nn.LayerNorm`. It has the same number and type of parameters as batch norm does, they're just calculated slightly differently, as described above."
   ]
  },
  {
   "cell_type": "code",
   "execution_count": 4,
   "id": "50a8a21e",
   "metadata": {},
   "outputs": [],
   "source": [
    "nn.LayerNorm?"
   ]
  },
  {
   "cell_type": "code",
   "execution_count": 24,
   "id": "61df6f7c",
   "metadata": {},
   "outputs": [
    {
     "data": {
      "text/plain": [
       "[Parameter containing:\n",
       " tensor([1., 1., 1.], requires_grad=True),\n",
       " Parameter containing:\n",
       " tensor([0., 0., 0.], requires_grad=True)]"
      ]
     },
     "execution_count": 24,
     "metadata": {},
     "output_type": "execute_result"
    }
   ],
   "source": [
    "num_hidden = 3\n",
    "layer_norm = nn.LayerNorm(num_hidden)\n",
    "list(layer_norm.parameters()) # these are initialized param values, not yet learned"
   ]
  },
  {
   "cell_type": "markdown",
   "id": "997d11ce",
   "metadata": {},
   "source": [
    "## Example: MNIST\n",
    "\n",
    "Let's apply batch norm to the MNIST dataset. Recall that this dataset consists of a few thousand images of 10  handwritten digits 0-9. There are 70,000 images of size 64x64, which when flattened become 768 features."
   ]
  },
  {
   "cell_type": "code",
   "execution_count": 4,
   "id": "7e303b12",
   "metadata": {},
   "outputs": [
    {
     "data": {
      "text/plain": [
       "((70000, 784), (70000,))"
      ]
     },
     "execution_count": 4,
     "metadata": {},
     "output_type": "execute_result"
    }
   ],
   "source": [
    "def get_mnist_data():\n",
    "    from sklearn.preprocessing import MinMaxScaler\n",
    "    from sklearn.datasets import fetch_openml\n",
    "    data = fetch_openml('mnist_784', version=1, return_X_y=True, as_frame=False)\n",
    "    X = data[0].astype(float)\n",
    "    X = MinMaxScaler(feature_range=(0,1)).fit_transform(X)\n",
    "    y = data[1].astype(int)\n",
    "    return X, y\n",
    "\n",
    "X,y = get_mnist_data()\n",
    "X.shape, y.shape"
   ]
  },
  {
   "cell_type": "code",
   "execution_count": 5,
   "id": "4504623e",
   "metadata": {},
   "outputs": [
    {
     "data": {
      "text/plain": [
       "((60000, 784), (60000,), (10000, 784), (10000,))"
      ]
     },
     "execution_count": 5,
     "metadata": {},
     "output_type": "execute_result"
    }
   ],
   "source": [
    "X_train, X_test, y_train, y_test = train_test_split(X, y, test_size=1/7, random_state=seed)\n",
    "X_train.shape, y_train.shape, X_test.shape, y_test.shape"
   ]
  },
  {
   "cell_type": "code",
   "execution_count": 6,
   "id": "c13a468e",
   "metadata": {},
   "outputs": [
    {
     "data": {
      "text/plain": [
       "0.9694"
      ]
     },
     "execution_count": 6,
     "metadata": {},
     "output_type": "execute_result"
    }
   ],
   "source": [
    "model = RandomForestClassifier(n_estimators=100)\n",
    "model.fit(X_train, y_train)\n",
    "model.score(X_test, y_test)"
   ]
  },
  {
   "cell_type": "code",
   "execution_count": 7,
   "id": "22b89491",
   "metadata": {},
   "outputs": [],
   "source": [
    "X = torch.tensor(X).float().to(device)\n",
    "y = torch.tensor(y).long().to(device)\n",
    "X_train = torch.tensor(X_train).float().to(device)\n",
    "y_train = torch.tensor(y_train).long().to(device)\n",
    "X_test = torch.tensor(X_test).float().to(device)\n",
    "y_test = torch.tensor(y_test).long().to(device)\n",
    "\n",
    "num_features = X_train.shape[1]\n",
    "num_hidden = 500\n",
    "num_targets = len(set(y_train))"
   ]
  },
  {
   "cell_type": "code",
   "execution_count": 8,
   "id": "352cd76f",
   "metadata": {},
   "outputs": [],
   "source": [
    "p = 0.1\n",
    "model = nn.Sequential(\n",
    "    nn.Linear(num_features, num_hidden),\n",
    "    nn.BatchNorm1d(num_hidden),\n",
    "    nn.ReLU(),\n",
    "    nn.Dropout(p=p),\n",
    "    nn.Linear(num_hidden, num_hidden),\n",
    "    nn.BatchNorm1d(num_hidden),\n",
    "    nn.ReLU(),\n",
    "    nn.Dropout(p=p),\n",
    "    nn.Linear(num_hidden, num_hidden),\n",
    "    nn.BatchNorm1d(num_hidden),\n",
    "    nn.ReLU(),\n",
    "    nn.Dropout(p=p),\n",
    "    nn.Linear(num_hidden, num_hidden),\n",
    "    nn.BatchNorm1d(num_hidden),\n",
    "    nn.ReLU(),\n",
    "    nn.Dropout(p=p),\n",
    "    nn.Linear(num_hidden, num_hidden),\n",
    "    nn.BatchNorm1d(num_hidden),\n",
    "    nn.ReLU(),\n",
    "    nn.Dropout(p=p),\n",
    "    nn.Linear(num_hidden, num_hidden),\n",
    "    nn.BatchNorm1d(num_hidden),\n",
    "    nn.ReLU(),\n",
    "    nn.Dropout(p=p),\n",
    "    nn.Linear(num_hidden, num_hidden),\n",
    "    nn.BatchNorm1d(num_hidden),\n",
    "    nn.ReLU(),\n",
    "    nn.Dropout(p=p),\n",
    "    nn.Linear(num_hidden, num_targets)\n",
    ")\n",
    "model = model.to(device)"
   ]
  },
  {
   "cell_type": "code",
   "execution_count": null,
   "id": "f230cf70",
   "metadata": {},
   "outputs": [
    {
     "data": {
      "application/vnd.jupyter.widget-view+json": {
       "model_id": "73c4017ab84c4159afcd318520d06bf9",
       "version_major": 2,
       "version_minor": 0
      },
      "text/plain": [
       "  0%|          | 0/10 [00:00<?, ?it/s]"
      ]
     },
     "metadata": {},
     "output_type": "display_data"
    }
   ],
   "source": [
    "num_iters = 10\n",
    "loss_fn = nn.CrossEntropyLoss()\n",
    "opt = torch.optim.SGD(model.parameters(), lr=0.001, weight_decay=0.)\n",
    "for i in tqdm(range(num_iters)):\n",
    "    # training\n",
    "    model = model.train()\n",
    "    opt.zero_grad()\n",
    "    yhat = model(X_train)\n",
    "    loss = loss_fn(yhat, y_train)\n",
    "    loss.backward()\n",
    "    opt.step()\n",
    "    # inference\n",
    "    model = model.eval()\n",
    "    yhat = model(X_test)\n",
    "    test_loss = loss_fn(yhat, y_test)\n",
    "    if i % (num_iters // 10) == 0:\n",
    "        print(f'iter = {i} \\t\\t train loss = {loss / len(X_train)} \\t\\t test loss = {test_loss / len(X_test)}')\n",
    "print(f'iter = {i} \\t\\t train loss = {loss / len(X_train)} \\t\\t test loss = {test_loss / len(X_test)}')"
   ]
  },
  {
   "cell_type": "markdown",
   "id": "f8c9707c",
   "metadata": {},
   "source": [
    "## Optimizers"
   ]
  },
  {
   "cell_type": "code",
   "execution_count": null,
   "id": "599270fe",
   "metadata": {},
   "outputs": [],
   "source": []
  },
  {
   "cell_type": "code",
   "execution_count": null,
   "id": "81dbb738",
   "metadata": {},
   "outputs": [],
   "source": [
    "# scheduler = torch.optim.lr_scheduler.StepLR(opt, num_iters // 3, gamma=0.3)\n",
    "# scheduler.step()"
   ]
  },
  {
   "cell_type": "code",
   "execution_count": null,
   "id": "13c3bef9",
   "metadata": {},
   "outputs": [],
   "source": []
  },
  {
   "cell_type": "code",
   "execution_count": null,
   "id": "2dd0c0bd",
   "metadata": {},
   "outputs": [],
   "source": []
  }
 ],
 "metadata": {
  "kernelspec": {
   "display_name": "Python 3 (ipykernel)",
   "language": "python",
   "name": "python3"
  },
  "language_info": {
   "codemirror_mode": {
    "name": "ipython",
    "version": 3
   },
   "file_extension": ".py",
   "mimetype": "text/x-python",
   "name": "python",
   "nbconvert_exporter": "python",
   "pygments_lexer": "ipython3",
   "version": "3.10.4"
  }
 },
 "nbformat": 4,
 "nbformat_minor": 5
}
