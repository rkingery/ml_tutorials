{
 "cells": [
  {
   "cell_type": "markdown",
   "id": "0d428a29",
   "metadata": {},
   "source": [
    "# Basics (Part 1): Jupyter Notebook and Python\n",
    "\n",
    "Welcome to my sequence of ML tutorials! In coming lessons we'll cover all kinds of important topics related to machine learning. Before diving into that stuff, however, I'd like to get some preliminaries out of the way for those who have a weak or rusty background in coding or math. You don't need to be an advanced coder to do machine learning, but you do need to know some common techniques. Similarly, you don't need to be any kind of expert at math. No need to remember everything you learned in calculus or linear algebra, or certainly anything from higher level math courses than those. In this particular tutorial we'll talk about how Jupyter Notebook and Python work at a basic level.\n",
    "\n",
    "## Jupyter Notebook\n",
    "\n",
    "Before delving into how Python works, we need to talk about the environment we're currently in. The page you have up is running in what's called a **Jupyter Notebook**. Essentially, a Jupyter Notebook (or notebook) is a sequence of **cells**. In each cell you can perform some task or another. \n",
    "\n",
    "To render any Jupyter cell (including this one), you just need to type `SHIFT-ENTER` while highlighting that particular cell. You can also click the `Run` button in the upper toolbar, but that's slower and more annoying.\n",
    "\n",
    "To move between cells you can either click on the one you want, or use the up and down arrows on your keyboard to toggle up or down cells using `ESC-UP` or `ESC-DOWN`."
   ]
  },
  {
   "cell_type": "markdown",
   "id": "8e85ad6e",
   "metadata": {},
   "source": [
    "### Markdown Cells\n",
    "\n",
    "The text you're currently reading is all contained in what's called a **markdown cell**. A markdown cell is essentially a cell for writing text. In a markdown cell, you can type whatever text you want and it'll render on the screen as text. The text is written in **Markdown**, which is a subset of HTML that lets you quickly do basic styling.\n",
    "\n",
    "To turn any cell in a notebook into a markdown cell, just type `CMD-m` (or `CTRL-m` for Windows/Linux).\n",
    "\n",
    "Here are some basic examples of things you can do in Markdown:\n",
    "- If you want to bold the world `hey`, you'd type `**hey**`.\n",
    "- If you want to italicize `hey`, you'd type `*hey*`.\n",
    "- If you want to create a large heading out of `Hello`, you'd type `# Hello`.\n",
    "    - A subheading one level down would use two `#` instead of one, so `## Hello`.\n",
    "    - A sub-subheading two levels down would be `### Hello`. Etc.\n",
    "- If you want to highlight a word `link` with a hyperlink to `https://url.com`, you'd type `[link](https://url.com)`.\n",
    "- If you want to create bullets of some text `a, b, c`, each its own bullet, you'd type:\n",
    "\n",
    "```\n",
    "- a\n",
    "- b\n",
    "- c\n",
    "```\n",
    "\n",
    "- If you want to number some text `a, b, c`, you'd instead type:\n",
    "\n",
    "```\n",
    "1. a\n",
    "2. b\n",
    "3. c\n",
    "```\n",
    "- If you wanted to render a table like this, you'd type:\n",
    "|some text|other text|\n",
    "|--|--|\n",
    "|1|a|\n",
    "|2|b|\n",
    "\n",
    "```\n",
    "|some text|other text|\n",
    "|--|--|\n",
    "|1|a|\n",
    "|2|b|\n",
    "```\n",
    "\n",
    "See [this](https://www.markdownguide.org/basic-syntax/) Markdown style guide for more specifics on things you can do. We'll use many of them over the course of these tutorials.\n",
    "\n",
    "It turns out that Jupyter also supports a useful extension to Markdown that lets us render math using LaTeX. If we want to render an equation, all we need to do is sandwich it with `$` on each side, and make sure we type proper LaTeX math commands inside it. For examples of how to work with basic LaTeX in math mode, see [here](https://linuxhint.com/use-latex-jupyter-notebook/).\n",
    "\n",
    "As a simple example, suppose you wanted to render the following equation as proper, beautifully-rendered math:\n",
    "$$\\frac{a^2+b^2}{\\alpha_1 + \\beta_2} + 4\\log(x) + e^{i\\pi} = \\frac{dy}{dx}.$$\n",
    "You'd just type the following command into a Jupyter markdown cell and it'll render as LaTeX:\n",
    "```\n",
    "$$\\frac{a^2+b^2}{\\alpha_1 + \\beta_2} + 4\\log(x) + e^{i\\pi} = \\frac{dy}{dx}.$$\n",
    "```"
   ]
  },
  {
   "cell_type": "markdown",
   "id": "cdb43675",
   "metadata": {},
   "source": [
    "### Python Cells\n",
    "\n",
    "Jupyter is much more powerful than a text renderer though. The most important functionality of a Jupyter notebook is its Python support. To type Python in Jupyter, you just need to specify a Python cell using `CMD-y` (or `CTRL-y` for Windows/Linux). You'll rarely need to do this though, since any new cell in a notebook is a Python cell by default. The cell below is an example of a Python cell. The input is typed into the cell. Running the cell will produce any output beneath the cell. For example, running `2+2` in the python cell below produces an output of `4`.\n",
    "\n",
    "Note that only the *last* line in a cell renders its output, unless it's wrapped in a `print` statement."
   ]
  },
  {
   "cell_type": "code",
   "execution_count": 1,
   "id": "5ee3fdcf",
   "metadata": {},
   "outputs": [
    {
     "data": {
      "text/plain": [
       "4"
      ]
     },
     "execution_count": 1,
     "metadata": {},
     "output_type": "execute_result"
    }
   ],
   "source": [
    "2 + 2"
   ]
  },
  {
   "cell_type": "code",
   "execution_count": 2,
   "id": "3918e282",
   "metadata": {},
   "outputs": [
    {
     "data": {
      "text/plain": [
       "2"
      ]
     },
     "execution_count": 2,
     "metadata": {},
     "output_type": "execute_result"
    }
   ],
   "source": [
    "2 + 2\n",
    "1 + 1"
   ]
  },
  {
   "cell_type": "code",
   "execution_count": 3,
   "id": "d477e725",
   "metadata": {},
   "outputs": [
    {
     "name": "stdout",
     "output_type": "stream",
     "text": [
      "4\n",
      "2\n"
     ]
    }
   ],
   "source": [
    "print(2 + 2)\n",
    "print(1 + 1)"
   ]
  },
  {
   "cell_type": "markdown",
   "id": "de131f17",
   "metadata": {},
   "source": [
    "## Python\n",
    "\n",
    "Let's now start introducing Python, the language we'll be coding in. Python is a \"high level\" programming language. That essentially means it makes it easy to do abstract operations without having to think about boring, low-level details like how bits move around, how unused memory (called garbage) is freed, defining what types of object you're using, etc. Python lets you easily work with the objects you want to work with at a high level, with minimal fuss. It's perhaps for this reason that Python has become the de facto language of machine learning. Indeed, it's hard to imagine doing *any* machine learning nowadays in any other programming language.\n",
    "\n",
    "### Arithmetic\n",
    "As shown above, we can do any kind of usual arithmetic in python just by typing what we'd expect. There are a few major exceptions to note:\n",
    "- To take the power of a number, we use the `**` operator, not the `^` you might be used to.\n",
    "- There's a subtle difference between *integer division* and *floating point* division. \n",
    "    - Floating point division is exactly what you'd expect your calculator to do, and is done using the `/` operator.\n",
    "    - Integer division is division without the remainder, i.e. division rounded down to the nearest integer. This is done with the `//` operator. It may seem weird we'd want an operator for this, but you'll see examples where we might going forward.\n",
    "- Modulo arithmetic, i.e. getting the *remainder* of two divided numbers, uses the `%` operator. For example, we'd render the remainder of $3/2$, written in math notation as $3 \\text{ mod } 2$, as `3 % 2`, which turns out to be `1`.\n",
    "- Though we won't use it in these tutorials, the imaginary number $i$ is denoted `1j` in python. Any complex number would then be written as usually. For example, $1+2i$ would be written `1 + 2*1j`, or simply `1 + 2j`."
   ]
  },
  {
   "cell_type": "code",
   "execution_count": 6,
   "id": "46e20de3",
   "metadata": {},
   "outputs": [
    {
     "data": {
      "text/plain": [
       "3"
      ]
     },
     "execution_count": 6,
     "metadata": {},
     "output_type": "execute_result"
    }
   ],
   "source": [
    "1 + 2"
   ]
  },
  {
   "cell_type": "code",
   "execution_count": 7,
   "id": "e93591c5",
   "metadata": {},
   "outputs": [
    {
     "data": {
      "text/plain": [
       "-1"
      ]
     },
     "execution_count": 7,
     "metadata": {},
     "output_type": "execute_result"
    }
   ],
   "source": [
    "1 - 2"
   ]
  },
  {
   "cell_type": "code",
   "execution_count": 8,
   "id": "72b985e7",
   "metadata": {},
   "outputs": [
    {
     "data": {
      "text/plain": [
       "2"
      ]
     },
     "execution_count": 8,
     "metadata": {},
     "output_type": "execute_result"
    }
   ],
   "source": [
    "1 * 2"
   ]
  },
  {
   "cell_type": "code",
   "execution_count": 25,
   "id": "2031a619",
   "metadata": {},
   "outputs": [
    {
     "data": {
      "text/plain": [
       "8"
      ]
     },
     "execution_count": 25,
     "metadata": {},
     "output_type": "execute_result"
    }
   ],
   "source": [
    "2 ** 3"
   ]
  },
  {
   "cell_type": "code",
   "execution_count": 26,
   "id": "eba30522",
   "metadata": {},
   "outputs": [
    {
     "data": {
      "text/plain": [
       "1.4142135623730951"
      ]
     },
     "execution_count": 26,
     "metadata": {},
     "output_type": "execute_result"
    }
   ],
   "source": [
    "2 ** (1/2)"
   ]
  },
  {
   "cell_type": "code",
   "execution_count": 13,
   "id": "cd327ff6",
   "metadata": {},
   "outputs": [
    {
     "data": {
      "text/plain": [
       "1.5"
      ]
     },
     "execution_count": 13,
     "metadata": {},
     "output_type": "execute_result"
    }
   ],
   "source": [
    "3 / 2"
   ]
  },
  {
   "cell_type": "code",
   "execution_count": 14,
   "id": "ee92bce9",
   "metadata": {},
   "outputs": [
    {
     "data": {
      "text/plain": [
       "1"
      ]
     },
     "execution_count": 14,
     "metadata": {},
     "output_type": "execute_result"
    }
   ],
   "source": [
    "3 // 2"
   ]
  },
  {
   "cell_type": "code",
   "execution_count": 15,
   "id": "dd93fbab",
   "metadata": {},
   "outputs": [
    {
     "data": {
      "text/plain": [
       "1"
      ]
     },
     "execution_count": 15,
     "metadata": {},
     "output_type": "execute_result"
    }
   ],
   "source": [
    "3 % 2"
   ]
  },
  {
   "cell_type": "code",
   "execution_count": 16,
   "id": "59bcea10",
   "metadata": {},
   "outputs": [
    {
     "data": {
      "text/plain": [
       "(1+2j)"
      ]
     },
     "execution_count": 16,
     "metadata": {},
     "output_type": "execute_result"
    }
   ],
   "source": [
    "1 + 2j"
   ]
  },
  {
   "cell_type": "markdown",
   "id": "cc0e26a2",
   "metadata": {},
   "source": [
    "### Variables and Types\n",
    "\n",
    "It would be nice to be able to save the state of our operations so we can use them later to do other things, analogous to how calling something $x$ in algebra lets us use it as a placeholder that we can later plug values into. In python we can do this via **assignment**. Suppose we wanted to assign the value of `2` to a variable called `x`. We can do that by writing `x = 2`. This means \"take the value on the right of the equals sign, `2`, and assign it to the variable name defined on the left of the equals sign, `x`\". Then `x` can be used as a drop-in replacement for the number `2`.\n",
    "\n",
    "In this example, `x` is called a **variable**. Just like in algebra, a variable is a shorthand for some kind of value, which we can then pass to other operations."
   ]
  },
  {
   "cell_type": "code",
   "execution_count": 17,
   "id": "3ce0fc5d",
   "metadata": {},
   "outputs": [
    {
     "data": {
      "text/plain": [
       "4"
      ]
     },
     "execution_count": 17,
     "metadata": {},
     "output_type": "execute_result"
    }
   ],
   "source": [
    "x = 2\n",
    "x + 2"
   ]
  },
  {
   "cell_type": "code",
   "execution_count": 18,
   "id": "7eff10ed",
   "metadata": {},
   "outputs": [
    {
     "data": {
      "text/plain": [
       "8"
      ]
     },
     "execution_count": 18,
     "metadata": {},
     "output_type": "execute_result"
    }
   ],
   "source": [
    "x ** 3"
   ]
  },
  {
   "cell_type": "code",
   "execution_count": 24,
   "id": "4508262e",
   "metadata": {},
   "outputs": [
    {
     "data": {
      "text/plain": [
       "12.1"
      ]
     },
     "execution_count": 24,
     "metadata": {},
     "output_type": "execute_result"
    }
   ],
   "source": [
    "y = 2.3 * x + 7.5\n",
    "y"
   ]
  },
  {
   "cell_type": "markdown",
   "id": "7449c9f1",
   "metadata": {},
   "source": [
    "In the statements above, the **type** of `2` is called an integer, or **int** for short. The type of `7.5` is called a floating point number, or **float** for short. It may seem pedantic to make a distinction between the two types, but there are many cases where keeping track of this is important. On a computer, integers are represented differently than floats, and the two types of representations have very different properties. In particular, floats have unusual subtleties to deal with, which we'll see in future tutorials."
   ]
  },
  {
   "cell_type": "code",
   "execution_count": 31,
   "id": "b63e9d3e",
   "metadata": {},
   "outputs": [
    {
     "data": {
      "text/plain": [
       "(int, float)"
      ]
     },
     "execution_count": 31,
     "metadata": {},
     "output_type": "execute_result"
    }
   ],
   "source": [
    "type(2), type(7.5)"
   ]
  },
  {
   "cell_type": "markdown",
   "id": "796b6e71",
   "metadata": {},
   "source": [
    "While we can print the value of a variable by placing it on the last line of a cell, what if we wanted to print it on some other line? To do this we'd use the `print` statement on the variable. Calling print will print the value of whatever is inside it."
   ]
  },
  {
   "cell_type": "code",
   "execution_count": 22,
   "id": "e0b02168",
   "metadata": {},
   "outputs": [
    {
     "name": "stdout",
     "output_type": "stream",
     "text": [
      "2\n"
     ]
    },
    {
     "data": {
      "text/plain": [
       "4"
      ]
     },
     "execution_count": 22,
     "metadata": {},
     "output_type": "execute_result"
    }
   ],
   "source": [
    "print(x)"
   ]
  },
  {
   "cell_type": "code",
   "execution_count": 27,
   "id": "007f7866",
   "metadata": {},
   "outputs": [
    {
     "name": "stdout",
     "output_type": "stream",
     "text": [
      "346.40999999999997\n"
     ]
    }
   ],
   "source": [
    "print(y ** 2 + 100 * x)"
   ]
  },
  {
   "cell_type": "markdown",
   "id": "1a191efd",
   "metadata": {},
   "source": [
    "By default, the print operation takes in a string and outputs a string. A **string** is any sequence of text wrapped in quotation marks. For example, if we wanted to assign the variable `a` the sequence of text `this is a string` we'd type the following.\n",
    "\n",
    "Note that using either `'` or `\"` works in python for defining a string. My personal preference is `'` since it's quicker to type, but many (especially folks from other languages) prefer to use `\"`."
   ]
  },
  {
   "cell_type": "code",
   "execution_count": 28,
   "id": "b8314deb",
   "metadata": {},
   "outputs": [
    {
     "name": "stdout",
     "output_type": "stream",
     "text": [
      "this is a string\n"
     ]
    }
   ],
   "source": [
    "a = 'this is a string'\n",
    "print(a)"
   ]
  },
  {
   "cell_type": "markdown",
   "id": "1840c11c",
   "metadata": {},
   "source": [
    "Newer versions of python allow us to mix strings and variables using **format strings**. To create a format string, we prefix the string with an `f`. Any variables we want to pass into the string is placed inside a `{}`. Format strings are useful for printing more complex statements than just a single variable's output."
   ]
  },
  {
   "cell_type": "code",
   "execution_count": 30,
   "id": "ae2add3c",
   "metadata": {},
   "outputs": [
    {
     "name": "stdout",
     "output_type": "stream",
     "text": [
      "The value of x is 500\n"
     ]
    }
   ],
   "source": [
    "x = 500\n",
    "print(f'The value of x is {x}')"
   ]
  },
  {
   "cell_type": "markdown",
   "id": "955de362",
   "metadata": {},
   "source": [
    "What if we wanted to work with a sequence of numbers (or some other type) instead of sequences of characters? We can do that in python using a list. A **list** is a type for representing arrays, i.e. sequences of things. To create a list of some sequence, say `1, 2, 3, 4, 5`, we'd just wrap it with brackets like this."
   ]
  },
  {
   "cell_type": "code",
   "execution_count": 32,
   "id": "1250b099",
   "metadata": {},
   "outputs": [
    {
     "data": {
      "text/plain": [
       "[1, 2, 3, 4, 5]"
      ]
     },
     "execution_count": 32,
     "metadata": {},
     "output_type": "execute_result"
    }
   ],
   "source": [
    "array = [1, 2, 3, 4, 5]\n",
    "array"
   ]
  },
  {
   "cell_type": "markdown",
   "id": "47d88717",
   "metadata": {},
   "source": [
    "For both arrays and strings, we can **index** into them to get particular values. Suppose we wanted the first element of the above array, i.e. `1`. We could get it as follows. Note that python is **zero-indexed**, which means indexes always start from 0, not 1. That can take some getting used to if you haven't done much programming before."
   ]
  },
  {
   "cell_type": "code",
   "execution_count": 33,
   "id": "a3082a19",
   "metadata": {},
   "outputs": [
    {
     "data": {
      "text/plain": [
       "1"
      ]
     },
     "execution_count": 33,
     "metadata": {},
     "output_type": "execute_result"
    }
   ],
   "source": [
    "array[0]"
   ]
  },
  {
   "cell_type": "code",
   "execution_count": 34,
   "id": "06b707a2",
   "metadata": {},
   "outputs": [
    {
     "data": {
      "text/plain": [
       "2"
      ]
     },
     "execution_count": 34,
     "metadata": {},
     "output_type": "execute_result"
    }
   ],
   "source": [
    "array[1]"
   ]
  },
  {
   "cell_type": "markdown",
   "id": "396171b3",
   "metadata": {},
   "source": [
    "One of the neat things about python is it makes it easy to get the last elements of the list too using negative indexing. To get the last element of the array, use the index `-1`. To get the second to last element, use `-2`. Etc."
   ]
  },
  {
   "cell_type": "code",
   "execution_count": 36,
   "id": "69edeefd",
   "metadata": {},
   "outputs": [
    {
     "data": {
      "text/plain": [
       "(5, 4)"
      ]
     },
     "execution_count": 36,
     "metadata": {},
     "output_type": "execute_result"
    }
   ],
   "source": [
    "array[-1], array[-2]"
   ]
  },
  {
   "cell_type": "markdown",
   "id": "664e268c",
   "metadata": {},
   "source": [
    "To get the **length** or size of an array, python has a `len` function that will work for lists, strings, and many other data types. Note that since python is zero-indexed, the last index in a list is actually `len(array) - 1`, not `len(array)`."
   ]
  },
  {
   "cell_type": "code",
   "execution_count": 41,
   "id": "56d6204c",
   "metadata": {},
   "outputs": [
    {
     "data": {
      "text/plain": [
       "5"
      ]
     },
     "execution_count": 41,
     "metadata": {},
     "output_type": "execute_result"
    }
   ],
   "source": [
    "len(array)"
   ]
  },
  {
   "cell_type": "markdown",
   "id": "de08cb9d",
   "metadata": {},
   "source": [
    "We can also get subsets of a list using **slicing**. Suppose we wanted the subset of elements in a list from index 2 to index 4. Then we could simply type `array[2:4]`. Note that by convention the lower index is inclusive, while the upper index is exclusive. This means that `array[2:4]` will contain `array[2], array[3]`, but *not* `array[4]`."
   ]
  },
  {
   "cell_type": "code",
   "execution_count": 39,
   "id": "997ed0ca",
   "metadata": {},
   "outputs": [
    {
     "data": {
      "text/plain": [
       "[3, 4]"
      ]
     },
     "execution_count": 39,
     "metadata": {},
     "output_type": "execute_result"
    }
   ],
   "source": [
    "array[2:4]"
   ]
  },
  {
   "cell_type": "markdown",
   "id": "d21cc591",
   "metadata": {},
   "source": [
    "One shortcut to remember is that if slicing from the beginning of a list, we can omit the `0`. So `array[0:2]` means the same thing as just leaving out the `0` and writing `array[:2]`.\n",
    "\n",
    "Similarly, with the end of a list we can leave off the last index, so in the above example `array[2:5]` means the same thing as `array[2:]`."
   ]
  },
  {
   "cell_type": "code",
   "execution_count": 42,
   "id": "1c38e418",
   "metadata": {},
   "outputs": [
    {
     "data": {
      "text/plain": [
       "[1, 2]"
      ]
     },
     "execution_count": 42,
     "metadata": {},
     "output_type": "execute_result"
    }
   ],
   "source": [
    "array[:2]"
   ]
  },
  {
   "cell_type": "code",
   "execution_count": 43,
   "id": "4caf0641",
   "metadata": {},
   "outputs": [
    {
     "data": {
      "text/plain": [
       "[3, 4, 5]"
      ]
     },
     "execution_count": 43,
     "metadata": {},
     "output_type": "execute_result"
    }
   ],
   "source": [
    "array[2:]"
   ]
  },
  {
   "cell_type": "markdown",
   "id": "6741a6f6",
   "metadata": {},
   "source": [
    "The same tricks worth with strings as well, which can be thought of as lists of characters."
   ]
  },
  {
   "cell_type": "code",
   "execution_count": 37,
   "id": "437255f7",
   "metadata": {},
   "outputs": [
    {
     "data": {
      "text/plain": [
       "'t'"
      ]
     },
     "execution_count": 37,
     "metadata": {},
     "output_type": "execute_result"
    }
   ],
   "source": [
    "string = 'this is a string'\n",
    "string[0]"
   ]
  },
  {
   "cell_type": "code",
   "execution_count": 38,
   "id": "cd55fceb",
   "metadata": {},
   "outputs": [
    {
     "data": {
      "text/plain": [
       "'g'"
      ]
     },
     "execution_count": 38,
     "metadata": {},
     "output_type": "execute_result"
    }
   ],
   "source": [
    "string[-1]"
   ]
  },
  {
   "cell_type": "code",
   "execution_count": 40,
   "id": "1ab96a8c",
   "metadata": {},
   "outputs": [
    {
     "data": {
      "text/plain": [
       "'this '"
      ]
     },
     "execution_count": 40,
     "metadata": {},
     "output_type": "execute_result"
    }
   ],
   "source": [
    "string[0:5]"
   ]
  },
  {
   "cell_type": "code",
   "execution_count": 44,
   "id": "a459b50c",
   "metadata": {},
   "outputs": [
    {
     "data": {
      "text/plain": [
       "16"
      ]
     },
     "execution_count": 44,
     "metadata": {},
     "output_type": "execute_result"
    }
   ],
   "source": [
    "len(string)"
   ]
  },
  {
   "cell_type": "markdown",
   "id": "30671e1a",
   "metadata": {},
   "source": [
    "Other useful data types we'll see are the **dictionary** and the **set**. A dictionary, or **dict**, is basically a list that allows arbitrary \"indexes\". Suppose you didn't want to use the indexes `0, 1, 2, 3` for some object, but wanted to use something like `a, b, c, d`. You'd use a dictionary whose **keys** are `a, b, c, d`, and whose **values** are the actual values. In python, a dictionary is represented using the `{}` symbols. To specify the key, value pairs we type `key: value` for each pair. Indexing is done the usual way, but using the keys, so `dictionary[key] = value`.\n",
    "\n",
    "Note that we don't have to use characters for keys. We can use *any* \"hashable\" objects we want, including ints, floats, strings, tuples, etc."
   ]
  },
  {
   "cell_type": "code",
   "execution_count": 45,
   "id": "85ca7dc3",
   "metadata": {},
   "outputs": [
    {
     "data": {
      "text/plain": [
       "{'a': 5, 'b': 4, 'c': 3, 'd': 2, 'e': 1}"
      ]
     },
     "execution_count": 45,
     "metadata": {},
     "output_type": "execute_result"
    }
   ],
   "source": [
    "dictionary = {'a': 5, 'b': 4, 'c': 3, 'd': 2, 'e': 1}\n",
    "dictionary"
   ]
  },
  {
   "cell_type": "code",
   "execution_count": 46,
   "id": "d3a696bb",
   "metadata": {},
   "outputs": [
    {
     "data": {
      "text/plain": [
       "5"
      ]
     },
     "execution_count": 46,
     "metadata": {},
     "output_type": "execute_result"
    }
   ],
   "source": [
    "dictionary['a']"
   ]
  },
  {
   "cell_type": "markdown",
   "id": "047c3d10",
   "metadata": {},
   "source": [
    "A **set** is basically a dictionary with only keys and no values. The defining difference between a set and a list is that the elements of a set *must* be unique, while a list can have items repeated as many times as we wish. To create a set, we just wrap a list of items inside the `set` function."
   ]
  },
  {
   "cell_type": "code",
   "execution_count": 47,
   "id": "ea77fde7",
   "metadata": {},
   "outputs": [
    {
     "data": {
      "text/plain": [
       "[1, 1, 2, 2, 3, 3]"
      ]
     },
     "execution_count": 47,
     "metadata": {},
     "output_type": "execute_result"
    }
   ],
   "source": [
    "array = [1, 1, 2, 2, 3, 3]\n",
    "array"
   ]
  },
  {
   "cell_type": "code",
   "execution_count": 48,
   "id": "94109b54",
   "metadata": {},
   "outputs": [
    {
     "data": {
      "text/plain": [
       "{1, 2, 3}"
      ]
     },
     "execution_count": 48,
     "metadata": {},
     "output_type": "execute_result"
    }
   ],
   "source": [
    "set(array)"
   ]
  },
  {
   "cell_type": "markdown",
   "id": "b1e3cba2",
   "metadata": {},
   "source": [
    "### Logic and Conditionals\n",
    "\n",
    "Frequently when programming we want to only perform operations in certain cases but not others. To compare objects we can use the **logical** operators. The output of any logical statement will always be either `True` or `False`, called a Boolean, or **bool**, in python.\n",
    "\n",
    "Suppose we want to see if two variables are equal. To do that we use the `==` operator (*not* the `=` operator, which is already used for assignment, something very different!). To check if two variables are *not* equal, we can use the `!=` operator.\n",
    "\n",
    "For types that can be ordered, like ints or floats, we can use the usual `<`, `>`, `<=`, `>=` operators as well."
   ]
  },
  {
   "cell_type": "code",
   "execution_count": 50,
   "id": "1e20a4ec",
   "metadata": {},
   "outputs": [
    {
     "data": {
      "text/plain": [
       "True"
      ]
     },
     "execution_count": 50,
     "metadata": {},
     "output_type": "execute_result"
    }
   ],
   "source": [
    "x = 2\n",
    "y = 2\n",
    "x == y"
   ]
  },
  {
   "cell_type": "code",
   "execution_count": 51,
   "id": "7f6a1b11",
   "metadata": {},
   "outputs": [
    {
     "data": {
      "text/plain": [
       "False"
      ]
     },
     "execution_count": 51,
     "metadata": {},
     "output_type": "execute_result"
    }
   ],
   "source": [
    "x != y"
   ]
  },
  {
   "cell_type": "code",
   "execution_count": 52,
   "id": "89fe73ff",
   "metadata": {},
   "outputs": [
    {
     "data": {
      "text/plain": [
       "False"
      ]
     },
     "execution_count": 52,
     "metadata": {},
     "output_type": "execute_result"
    }
   ],
   "source": [
    "x < y"
   ]
  },
  {
   "cell_type": "code",
   "execution_count": 53,
   "id": "ba54ec1a",
   "metadata": {},
   "outputs": [
    {
     "data": {
      "text/plain": [
       "True"
      ]
     },
     "execution_count": 53,
     "metadata": {},
     "output_type": "execute_result"
    }
   ],
   "source": [
    "x >= y"
   ]
  },
  {
   "cell_type": "markdown",
   "id": "2b8b0a93",
   "metadata": {},
   "source": [
    "Statements like these can also be chained together if we need more complex logic. Suppose we want to test, for example, whether x and y are equal, *and* whether both variables are positive. We can do that using the `and` operator.\n",
    "\n",
    "Similarly, we can test whether x and y are equal, *or* x is less than y by using the `or` operator.\n",
    "\n",
    "If we want to negate a statement, we can use the `not` operator. If `a` is true, then `not a` will be false."
   ]
  },
  {
   "cell_type": "code",
   "execution_count": 54,
   "id": "546d130c",
   "metadata": {},
   "outputs": [
    {
     "data": {
      "text/plain": [
       "True"
      ]
     },
     "execution_count": 54,
     "metadata": {},
     "output_type": "execute_result"
    }
   ],
   "source": [
    "(x == y) and (x > 0) and (y > 0)"
   ]
  },
  {
   "cell_type": "code",
   "execution_count": 55,
   "id": "350518fc",
   "metadata": {},
   "outputs": [
    {
     "data": {
      "text/plain": [
       "True"
      ]
     },
     "execution_count": 55,
     "metadata": {},
     "output_type": "execute_result"
    }
   ],
   "source": [
    "(x == y) or (x < y)"
   ]
  },
  {
   "cell_type": "code",
   "execution_count": 56,
   "id": "a0042719",
   "metadata": {},
   "outputs": [
    {
     "data": {
      "text/plain": [
       "False"
      ]
     },
     "execution_count": 56,
     "metadata": {},
     "output_type": "execute_result"
    }
   ],
   "source": [
    "not (x == y)"
   ]
  },
  {
   "cell_type": "markdown",
   "id": "df7bead4",
   "metadata": {},
   "source": [
    "Conditional statements are statements that make some kind of decision based on some input. Conditionals are frequently formulated something like \"if x is true then do y\". We can create conditionals using `if` statement blocks. For example, suppose we want to add 1 to x if x is less than y. We can do the following. Note if we run the conditional again nothing will happen, since x is no longer less than y.\n",
    "\n",
    "Note the use of the `#` inside the cell below. These are **comments**. Anything placed after a `#` in python gets ignored by the parser. We use comments to explain what a particular piece of code is doing to a human reader."
   ]
  },
  {
   "cell_type": "code",
   "execution_count": 58,
   "id": "3c10a431",
   "metadata": {},
   "outputs": [
    {
     "name": "stdout",
     "output_type": "stream",
     "text": [
      "2 2\n"
     ]
    }
   ],
   "source": [
    "x = 1\n",
    "y = 2\n",
    "\n",
    "if x < y:\n",
    "    x = x + 1 # set x = 2\n",
    "    \n",
    "if x < y:     # note that x == y\n",
    "    x = x + 1\n",
    "    \n",
    "print(x, y)"
   ]
  },
  {
   "cell_type": "markdown",
   "id": "369d91ce",
   "metadata": {},
   "source": [
    "We can create more complex conditionals by using if-else-if type statements. Suppose we now want to:\n",
    "- add 1 to x if x is less than y\n",
    "- if x and y are equal, square both x and y\n",
    "- otherwise, add 1 to y\n",
    "\n",
    "We can do this using the `if`, `elif` (short for else if), and `else` sequence. The `elif` block will only execute if the `if` block is false. The `else` block will only execute if both the `if` and `elif` blocks are false."
   ]
  },
  {
   "cell_type": "code",
   "execution_count": 61,
   "id": "997a4aa0",
   "metadata": {},
   "outputs": [
    {
     "name": "stdout",
     "output_type": "stream",
     "text": [
      "the elif got executed\n",
      "1 1\n"
     ]
    }
   ],
   "source": [
    "x = 1\n",
    "y = 1\n",
    "\n",
    "if x < y:\n",
    "    print('the if got executed')\n",
    "    x = x + 1\n",
    "elif x == y:\n",
    "    print('the elif got executed')\n",
    "    x = x ** 2\n",
    "    y = y ** 2\n",
    "else:\n",
    "    print('the else got executed')\n",
    "    y = y + 1\n",
    "    \n",
    "print(x, y)"
   ]
  },
  {
   "cell_type": "markdown",
   "id": "74a6798e",
   "metadata": {},
   "source": [
    "### Loops and Comprehensions\n",
    "\n",
    "Frequently we'll want to operate on an iterable object like a list or a string in succession. For example, we might want to go through a list of numbers and try to find the maximum element in the list. Or create a new list based on input from another list. We can do this using a **loop**. The most important loop in python is the **for loop**. A for loop iterates one at a time across a sequence. At each step, whatever is inside the loop block is performed.\n",
    "\n",
    "Suppose we want to iterate over an list `[3, 4, 5, 3, 2, 1]` to find the maximum element (clearly `5`). We can do that as follows. We'll set a `maximum` value to some low number, say `-1` in this case. We'll loop over the array. For each element in the array, if that element is larger than `maximum`, we'll replace `maximum` with that value. If we do this all the way across the list we're guaranteed to find the max.\n",
    "\n",
    "Note python actually has a shortcut to find the max of a list, namely the `max` function. Similarly it also has a `min` function."
   ]
  },
  {
   "cell_type": "code",
   "execution_count": 63,
   "id": "89b0399a",
   "metadata": {},
   "outputs": [
    {
     "name": "stdout",
     "output_type": "stream",
     "text": [
      "3\n",
      "4\n",
      "5\n",
      "3\n",
      "2\n",
      "1\n",
      "The maximum is 5\n"
     ]
    }
   ],
   "source": [
    "array = [3, 4, 5, 3, 2, 1]\n",
    "\n",
    "maximum = -1\n",
    "for x in array:\n",
    "    print(x)\n",
    "    if x > maximum:\n",
    "        maximum = x\n",
    "        \n",
    "print(f'The maximum is {maximum}')"
   ]
  },
  {
   "cell_type": "code",
   "execution_count": 64,
   "id": "48d43d5e",
   "metadata": {},
   "outputs": [
    {
     "data": {
      "text/plain": [
       "(5, 1)"
      ]
     },
     "execution_count": 64,
     "metadata": {},
     "output_type": "execute_result"
    }
   ],
   "source": [
    "max(array), min(array)"
   ]
  },
  {
   "cell_type": "markdown",
   "id": "47de8132",
   "metadata": {},
   "source": [
    "Sometimes we might want to loop over the indexes of an array instead of its values. Or we might want to loop over both its indexes and values.\n",
    "\n",
    "To loop over just the indexes we can use the python `range` function. To create an array that goes from a min to a max in integer steps, we'd write something like `range(min, max)`. If we omit the min, python will assume the list starts from 0. Just like list slices, the range is inclusive at the min, and exclusive at the max.\n",
    "\n",
    "Note that in python a `range` is an **iterator** type, not a list. Basically, an iterator is a list that you can't index into, only iterate over. If you want to turn an interator into a list, just wrap it with the `list` function."
   ]
  },
  {
   "cell_type": "code",
   "execution_count": 65,
   "id": "c526c188",
   "metadata": {},
   "outputs": [
    {
     "data": {
      "text/plain": [
       "range(1, 5)"
      ]
     },
     "execution_count": 65,
     "metadata": {},
     "output_type": "execute_result"
    }
   ],
   "source": [
    "range(1, 5)"
   ]
  },
  {
   "cell_type": "code",
   "execution_count": 66,
   "id": "1e926306",
   "metadata": {},
   "outputs": [
    {
     "data": {
      "text/plain": [
       "[1, 2, 3, 4]"
      ]
     },
     "execution_count": 66,
     "metadata": {},
     "output_type": "execute_result"
    }
   ],
   "source": [
    "list(range(1, 5))"
   ]
  },
  {
   "cell_type": "markdown",
   "id": "997e5b7a",
   "metadata": {},
   "source": [
    "To iterate over the indexes of a list `array`, we can just iterate over `range(0, len(array))`, or more simply over `range(len(array))`."
   ]
  },
  {
   "cell_type": "code",
   "execution_count": 67,
   "id": "6c7cd14b",
   "metadata": {},
   "outputs": [
    {
     "name": "stdout",
     "output_type": "stream",
     "text": [
      "index: 0, value: 3\n",
      "index: 1, value: 4\n",
      "index: 2, value: 5\n",
      "index: 3, value: 3\n",
      "index: 4, value: 2\n",
      "index: 5, value: 1\n"
     ]
    }
   ],
   "source": [
    "array = [3, 4, 5, 3, 2, 1]\n",
    "\n",
    "for i in range(len(array)):\n",
    "    value = array[i]\n",
    "    print(f'index: {i}, value: {value}')"
   ]
  },
  {
   "cell_type": "markdown",
   "id": "7a3e4c94",
   "metadata": {},
   "source": [
    "What if we wanted to loop over *both* the indexes and values of a list (or any other iterable)? The most natural way to do this in python is by wrapping the list inside `enumerate`, which iterates over the *pair* `(index, value)` across the array."
   ]
  },
  {
   "cell_type": "code",
   "execution_count": 69,
   "id": "f41da925",
   "metadata": {},
   "outputs": [
    {
     "name": "stdout",
     "output_type": "stream",
     "text": [
      "index: 0, value: 3\n",
      "index: 1, value: 4\n",
      "index: 2, value: 5\n",
      "index: 3, value: 3\n",
      "index: 4, value: 2\n",
      "index: 5, value: 1\n"
     ]
    }
   ],
   "source": [
    "for i, x in enumerate(array):\n",
    "    print(f'index: {i}, value: {x}')"
   ]
  },
  {
   "cell_type": "markdown",
   "id": "dae6d901",
   "metadata": {},
   "source": [
    "Sometimes we might want to do multiple, nested for loops. For example, suppose we want to iterate over a **list of lists**. Consider the following list, where each element of the outer list is a list of numbers. To iterate over this list of lists, we can iterate first over the outer list, and then over the inner list inside the loop body of the outer list."
   ]
  },
  {
   "cell_type": "code",
   "execution_count": 71,
   "id": "04e36016",
   "metadata": {},
   "outputs": [
    {
     "data": {
      "text/plain": [
       "4"
      ]
     },
     "execution_count": 71,
     "metadata": {},
     "output_type": "execute_result"
    }
   ],
   "source": [
    "array = [[1, 2, 3], [4, 5], [6, 7], [8]]\n",
    "len(array) # there are only 4 \"elements\" in array, the 4 lists inside it"
   ]
  },
  {
   "cell_type": "code",
   "execution_count": 72,
   "id": "6c0dd92a",
   "metadata": {},
   "outputs": [
    {
     "data": {
      "text/plain": [
       "[1, 2, 3]"
      ]
     },
     "execution_count": 72,
     "metadata": {},
     "output_type": "execute_result"
    }
   ],
   "source": [
    "array[0]"
   ]
  },
  {
   "cell_type": "code",
   "execution_count": 74,
   "id": "7d0e4804",
   "metadata": {},
   "outputs": [
    {
     "name": "stdout",
     "output_type": "stream",
     "text": [
      "[1, 2, 3]\n",
      "[4, 5]\n",
      "[6, 7]\n",
      "[8]\n"
     ]
    }
   ],
   "source": [
    "for row in array:\n",
    "    print(row)"
   ]
  },
  {
   "cell_type": "code",
   "execution_count": 73,
   "id": "02516fe0",
   "metadata": {},
   "outputs": [
    {
     "name": "stdout",
     "output_type": "stream",
     "text": [
      "1\n",
      "2\n",
      "3\n",
      "4\n",
      "5\n",
      "6\n",
      "7\n",
      "8\n"
     ]
    }
   ],
   "source": [
    "for row in array:\n",
    "    for x in row:\n",
    "        print(x)"
   ]
  },
  {
   "cell_type": "markdown",
   "id": "5553d35c",
   "metadata": {},
   "source": [
    "One common use case of loops is to create a new list (or other iterable) from an old list. In python, we can do that most easily by creating an empty new list `new_array`, and then **appending** a `value` to it inside the loop using `new_array.append(value)`. Note that appending is an \"in-place\" operation, which means you must not set it equal to anything. Just calling `new_array.append(value)` on its own line will automatically add `value` to `new_array`.\n",
    "\n",
    "As an example, suppose we have a list `array = [1, 2, 3, 4, 5]`, and want to create a new list whose values are the squares of `array`. We can do that as follows."
   ]
  },
  {
   "cell_type": "code",
   "execution_count": 76,
   "id": "5405e315",
   "metadata": {},
   "outputs": [
    {
     "data": {
      "text/plain": [
       "[1, 4, 9, 16, 25]"
      ]
     },
     "execution_count": 76,
     "metadata": {},
     "output_type": "execute_result"
    }
   ],
   "source": [
    "array = [1, 2, 3, 4, 5]\n",
    "\n",
    "new_array = []               # initialize empty new_array\n",
    "for x in array:\n",
    "    new_x = x ** 2\n",
    "    new_array.append(new_x)  # append is done in place\n",
    "    \n",
    "new_array"
   ]
  },
  {
   "cell_type": "markdown",
   "id": "088c6ec8",
   "metadata": {},
   "source": [
    "Oftentimes we find when doing loops that we're just performing a single operation in the loop body. In such cases, python has a nifty shorthand called a **list comprehension**. A list comprehension lets you perform a loop operation in one line and assign each value in the loop body to a new list."
   ]
  },
  {
   "cell_type": "code",
   "execution_count": null,
   "id": "468ae0ef",
   "metadata": {},
   "outputs": [],
   "source": []
  },
  {
   "cell_type": "code",
   "execution_count": null,
   "id": "131b63a3",
   "metadata": {},
   "outputs": [],
   "source": []
  },
  {
   "cell_type": "code",
   "execution_count": null,
   "id": "603cc022",
   "metadata": {},
   "outputs": [],
   "source": []
  },
  {
   "cell_type": "code",
   "execution_count": null,
   "id": "bfeb9d23",
   "metadata": {},
   "outputs": [],
   "source": []
  },
  {
   "cell_type": "code",
   "execution_count": null,
   "id": "3026897f",
   "metadata": {},
   "outputs": [],
   "source": []
  },
  {
   "cell_type": "code",
   "execution_count": null,
   "id": "4a6ceb6b",
   "metadata": {},
   "outputs": [],
   "source": []
  },
  {
   "cell_type": "code",
   "execution_count": null,
   "id": "e2b36352",
   "metadata": {},
   "outputs": [],
   "source": []
  },
  {
   "cell_type": "code",
   "execution_count": null,
   "id": "eafbab18",
   "metadata": {},
   "outputs": [],
   "source": []
  }
 ],
 "metadata": {
  "kernelspec": {
   "display_name": "Python 3 (ipykernel)",
   "language": "python",
   "name": "python3"
  },
  "language_info": {
   "codemirror_mode": {
    "name": "ipython",
    "version": 3
   },
   "file_extension": ".py",
   "mimetype": "text/x-python",
   "name": "python",
   "nbconvert_exporter": "python",
   "pygments_lexer": "ipython3",
   "version": "3.10.4"
  },
  "toc": {
   "base_numbering": 1,
   "nav_menu": {},
   "number_sections": true,
   "sideBar": true,
   "skip_h1_title": false,
   "title_cell": "Table of Contents",
   "title_sidebar": "Contents",
   "toc_cell": false,
   "toc_position": {},
   "toc_section_display": true,
   "toc_window_display": false
  },
  "varInspector": {
   "cols": {
    "lenName": 16,
    "lenType": 16,
    "lenVar": 40
   },
   "kernels_config": {
    "python": {
     "delete_cmd_postfix": "",
     "delete_cmd_prefix": "del ",
     "library": "var_list.py",
     "varRefreshCmd": "print(var_dic_list())"
    },
    "r": {
     "delete_cmd_postfix": ") ",
     "delete_cmd_prefix": "rm(",
     "library": "var_list.r",
     "varRefreshCmd": "cat(var_dic_list()) "
    }
   },
   "types_to_exclude": [
    "module",
    "function",
    "builtin_function_or_method",
    "instance",
    "_Feature"
   ],
   "window_display": false
  }
 },
 "nbformat": 4,
 "nbformat_minor": 5
}
