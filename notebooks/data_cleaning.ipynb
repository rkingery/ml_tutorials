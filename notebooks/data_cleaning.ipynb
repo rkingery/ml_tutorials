{
 "cells": [
  {
   "cell_type": "markdown",
   "metadata": {},
   "source": [
    "# End-to-End ML (Part 2): Data Cleaning and Feature Engineering\n",
    "\n",
    "This is the second part of the series of tutorials on data wrangling. In the first part we started the process of data wrangling on the Titanic dataset, focusing on the EDA aspects. Recall that the point of doing EDA first was to give us a feel of the data. How big the data is; how many samples; how many features; problematic problems like missing values, duplicate samples, and useless features; etc. To see the results of our EDA on the Titatic dataset see that previous tutorial.\n",
    "\n",
    "In this next part we'll focus on data cleaning and feature engineering. The goal of data cleaning is to take the messy raw data we have and transform it into quality data that an ML model can train on. The goal of feature engineering is to identify which raw features from the raw data might be useful, and where feasible create potentially useful new derived features from them.\n",
    "\n",
    "We'll continue on with the example Titanic dataset from before. Since the plan is to do data cleaning, feature engineering, and (finally) train a working model, I'll go ahead and load numpy, pandas, matplotlib, and various sklearn and imblearn functions we covered before for imbalanced classification. I'll also specify a seed since randomness will be used in this code, and finally port over a useful function I've used in prior tutorials for printing out various metrics during model training."
   ]
  },
  {
   "cell_type": "code",
   "execution_count": 1,
   "metadata": {},
   "outputs": [],
   "source": [
    "import numpy as np\n",
    "import pandas as pd\n",
    "import matplotlib.pyplot as plt\n",
    "from pathlib import Path\n",
    "\n",
    "from sklearn.linear_model import LogisticRegressionCV\n",
    "from sklearn.ensemble import RandomForestClassifier\n",
    "from sklearn.model_selection import train_test_split\n",
    "from sklearn.metrics import roc_auc_score, f1_score, confusion_matrix, accuracy_score, precision_score, recall_score\n",
    "\n",
    "seed = 123\n",
    "np.random.seed(seed)"
   ]
  },
  {
   "cell_type": "code",
   "execution_count": 2,
   "metadata": {},
   "outputs": [],
   "source": [
    "import warnings\n",
    "warnings.filterwarnings('ignore')"
   ]
  },
  {
   "cell_type": "code",
   "execution_count": 3,
   "metadata": {},
   "outputs": [],
   "source": [
    "def get_scores(y,yhat):\n",
    "    print('accuracy: ', round(accuracy_score(y, yhat), 4))\n",
    "    print('precision: ', round(precision_score(y, yhat), 4))\n",
    "    print('recall: ', round(recall_score(y, yhat), 4))\n",
    "    print('f1: ', round(f1_score(y, yhat), 4))\n",
    "    print('auc: ', round(roc_auc_score(y, yhat), 4))\n",
    "    print('confusion matrix:\\n', confusion_matrix(y, yhat))\n",
    "    \n",
    "def get_feature_importances(model):\n",
    "    if hasattr(model, 'feature_importances_'):\n",
    "        return model.feature_importances_\n",
    "    elif hasattr(model, 'coef_'):\n",
    "        return np.abs(model.coef_.flatten())\n",
    "\n",
    "def plot_feature_importances(model, feature_names=None, top_k=10, sort=True, **kwargs):\n",
    "    feature_importances = get_feature_importances(model)\n",
    "    idxs = feature_importances.argsort()[::-1] if sort else range(len(feature_importances))\n",
    "    feature_names = np.range(len(feature_importances)) if feature_names is None else np.array(feature_names)\n",
    "    feature_importances = feature_importances[idxs][:top_k]\n",
    "    feature_names = feature_names[idxs][:top_k]\n",
    "    plt.barh(feature_names[::-1], feature_importances[::-1], color='r', align='center')\n",
    "    plt.title('Feature Importances')\n",
    "    plt.show()"
   ]
  },
  {
   "cell_type": "markdown",
   "metadata": {},
   "source": [
    "## Data Prep\n",
    "\n",
    "Focusing on the Titanic dataset again, I'll again import the data from the URL below, verify that the output is what was expected, and drop the `PassengerId` column since EDA identified it as a useless feature (a duplicate index). Recall that the ultimate goal here is to build a model that can predict whether a passenger of the Titanic survived, given the other features present in this dataset.\n",
    "\n",
    "This time when loading the dataframe I'll call it `df_raw`, and then make a copy of it into the dataframe `df` that we'll clean up. This is a good idea to do because it's easy to screw something up when data cleaning, and so if you do it's worth having the raw data around to go back to and try again."
   ]
  },
  {
   "cell_type": "code",
   "execution_count": 4,
   "metadata": {},
   "outputs": [
    {
     "data": {
      "text/html": [
       "<div>\n",
       "<style scoped>\n",
       "    .dataframe tbody tr th:only-of-type {\n",
       "        vertical-align: middle;\n",
       "    }\n",
       "\n",
       "    .dataframe tbody tr th {\n",
       "        vertical-align: top;\n",
       "    }\n",
       "\n",
       "    .dataframe thead th {\n",
       "        text-align: right;\n",
       "    }\n",
       "</style>\n",
       "<table border=\"1\" class=\"dataframe\">\n",
       "  <thead>\n",
       "    <tr style=\"text-align: right;\">\n",
       "      <th></th>\n",
       "      <th>PassengerId</th>\n",
       "      <th>Survived</th>\n",
       "      <th>Pclass</th>\n",
       "      <th>Name</th>\n",
       "      <th>Sex</th>\n",
       "      <th>Age</th>\n",
       "      <th>SibSp</th>\n",
       "      <th>Parch</th>\n",
       "      <th>Ticket</th>\n",
       "      <th>Fare</th>\n",
       "      <th>Cabin</th>\n",
       "      <th>Embarked</th>\n",
       "    </tr>\n",
       "  </thead>\n",
       "  <tbody>\n",
       "    <tr>\n",
       "      <th>0</th>\n",
       "      <td>1</td>\n",
       "      <td>0</td>\n",
       "      <td>3</td>\n",
       "      <td>Braund, Mr. Owen Harris</td>\n",
       "      <td>male</td>\n",
       "      <td>22.0</td>\n",
       "      <td>1</td>\n",
       "      <td>0</td>\n",
       "      <td>A/5 21171</td>\n",
       "      <td>7.2500</td>\n",
       "      <td>NaN</td>\n",
       "      <td>S</td>\n",
       "    </tr>\n",
       "    <tr>\n",
       "      <th>1</th>\n",
       "      <td>2</td>\n",
       "      <td>1</td>\n",
       "      <td>1</td>\n",
       "      <td>Cumings, Mrs. John Bradley (Florence Briggs Th...</td>\n",
       "      <td>female</td>\n",
       "      <td>38.0</td>\n",
       "      <td>1</td>\n",
       "      <td>0</td>\n",
       "      <td>PC 17599</td>\n",
       "      <td>71.2833</td>\n",
       "      <td>C85</td>\n",
       "      <td>C</td>\n",
       "    </tr>\n",
       "    <tr>\n",
       "      <th>2</th>\n",
       "      <td>3</td>\n",
       "      <td>1</td>\n",
       "      <td>3</td>\n",
       "      <td>Heikkinen, Miss. Laina</td>\n",
       "      <td>female</td>\n",
       "      <td>26.0</td>\n",
       "      <td>0</td>\n",
       "      <td>0</td>\n",
       "      <td>STON/O2. 3101282</td>\n",
       "      <td>7.9250</td>\n",
       "      <td>NaN</td>\n",
       "      <td>S</td>\n",
       "    </tr>\n",
       "    <tr>\n",
       "      <th>3</th>\n",
       "      <td>4</td>\n",
       "      <td>1</td>\n",
       "      <td>1</td>\n",
       "      <td>Futrelle, Mrs. Jacques Heath (Lily May Peel)</td>\n",
       "      <td>female</td>\n",
       "      <td>35.0</td>\n",
       "      <td>1</td>\n",
       "      <td>0</td>\n",
       "      <td>113803</td>\n",
       "      <td>53.1000</td>\n",
       "      <td>C123</td>\n",
       "      <td>S</td>\n",
       "    </tr>\n",
       "    <tr>\n",
       "      <th>4</th>\n",
       "      <td>5</td>\n",
       "      <td>0</td>\n",
       "      <td>3</td>\n",
       "      <td>Allen, Mr. William Henry</td>\n",
       "      <td>male</td>\n",
       "      <td>35.0</td>\n",
       "      <td>0</td>\n",
       "      <td>0</td>\n",
       "      <td>373450</td>\n",
       "      <td>8.0500</td>\n",
       "      <td>NaN</td>\n",
       "      <td>S</td>\n",
       "    </tr>\n",
       "  </tbody>\n",
       "</table>\n",
       "</div>"
      ],
      "text/plain": [
       "   PassengerId  Survived  Pclass  \\\n",
       "0            1         0       3   \n",
       "1            2         1       1   \n",
       "2            3         1       3   \n",
       "3            4         1       1   \n",
       "4            5         0       3   \n",
       "\n",
       "                                                Name     Sex   Age  SibSp  \\\n",
       "0                            Braund, Mr. Owen Harris    male  22.0      1   \n",
       "1  Cumings, Mrs. John Bradley (Florence Briggs Th...  female  38.0      1   \n",
       "2                             Heikkinen, Miss. Laina  female  26.0      0   \n",
       "3       Futrelle, Mrs. Jacques Heath (Lily May Peel)  female  35.0      1   \n",
       "4                           Allen, Mr. William Henry    male  35.0      0   \n",
       "\n",
       "   Parch            Ticket     Fare Cabin Embarked  \n",
       "0      0         A/5 21171   7.2500   NaN        S  \n",
       "1      0          PC 17599  71.2833   C85        C  \n",
       "2      0  STON/O2. 3101282   7.9250   NaN        S  \n",
       "3      0            113803  53.1000  C123        S  \n",
       "4      0            373450   8.0500   NaN        S  "
      ]
     },
     "execution_count": 4,
     "metadata": {},
     "output_type": "execute_result"
    }
   ],
   "source": [
    "url = 'https://raw.githubusercontent.com/datasciencedojo/datasets/master/titanic.csv'\n",
    "df_raw = pd.read_csv(url)\n",
    "df_raw.head()"
   ]
  },
  {
   "cell_type": "code",
   "execution_count": 5,
   "metadata": {},
   "outputs": [
    {
     "name": "stdout",
     "output_type": "stream",
     "text": [
      "<class 'pandas.core.frame.DataFrame'>\n",
      "RangeIndex: 891 entries, 0 to 890\n",
      "Data columns (total 12 columns):\n",
      " #   Column       Non-Null Count  Dtype  \n",
      "---  ------       --------------  -----  \n",
      " 0   PassengerId  891 non-null    int64  \n",
      " 1   Survived     891 non-null    int64  \n",
      " 2   Pclass       891 non-null    int64  \n",
      " 3   Name         891 non-null    object \n",
      " 4   Sex          891 non-null    object \n",
      " 5   Age          714 non-null    float64\n",
      " 6   SibSp        891 non-null    int64  \n",
      " 7   Parch        891 non-null    int64  \n",
      " 8   Ticket       891 non-null    object \n",
      " 9   Fare         891 non-null    float64\n",
      " 10  Cabin        204 non-null    object \n",
      " 11  Embarked     889 non-null    object \n",
      "dtypes: float64(2), int64(5), object(5)\n",
      "memory usage: 83.7+ KB\n"
     ]
    }
   ],
   "source": [
    "df_raw.info()"
   ]
  },
  {
   "cell_type": "code",
   "execution_count": 6,
   "metadata": {},
   "outputs": [],
   "source": [
    "df = df_raw.copy()"
   ]
  },
  {
   "cell_type": "markdown",
   "metadata": {},
   "source": [
    "## Simple Baseline\n",
    "\n",
    "Before we try to do anything fancy, let's see how well we can do with a single, already cleaned feature. Recall from the EDA that it seems like `Sex` (the passenger's sex) is a significant predictor of `Survival`, with females being much more likely to survive than males on the Titanic. Let's try to build a simple model just on `Sex` to see how well we'd do. It's always a good idea to start your task by trying to get a quick and dirty model that requires minimal effort to get up and running. Such a model is called a **baseline**. If your baseline is already doing good enough (as defined by your product requirements or whatever else), then no need to waste valuable time trying to engineer new features or train fancier models. Just plug in the baseline model and go.\n",
    "\n",
    "Before doing any training we'll first need to encode `Sex` as a set of numbers, since currently it's a set of strings. Since it's a binary feature with no missing values, we can just replace the names with `0 = male` and `1 = female` and we're good to go."
   ]
  },
  {
   "cell_type": "code",
   "execution_count": 7,
   "metadata": {},
   "outputs": [
    {
     "data": {
      "text/html": [
       "<div>\n",
       "<style scoped>\n",
       "    .dataframe tbody tr th:only-of-type {\n",
       "        vertical-align: middle;\n",
       "    }\n",
       "\n",
       "    .dataframe tbody tr th {\n",
       "        vertical-align: top;\n",
       "    }\n",
       "\n",
       "    .dataframe thead th {\n",
       "        text-align: right;\n",
       "    }\n",
       "</style>\n",
       "<table border=\"1\" class=\"dataframe\">\n",
       "  <thead>\n",
       "    <tr style=\"text-align: right;\">\n",
       "      <th></th>\n",
       "      <th>Sex</th>\n",
       "    </tr>\n",
       "  </thead>\n",
       "  <tbody>\n",
       "    <tr>\n",
       "      <th>0</th>\n",
       "      <td>male</td>\n",
       "    </tr>\n",
       "    <tr>\n",
       "      <th>1</th>\n",
       "      <td>female</td>\n",
       "    </tr>\n",
       "    <tr>\n",
       "      <th>2</th>\n",
       "      <td>female</td>\n",
       "    </tr>\n",
       "    <tr>\n",
       "      <th>3</th>\n",
       "      <td>female</td>\n",
       "    </tr>\n",
       "    <tr>\n",
       "      <th>4</th>\n",
       "      <td>male</td>\n",
       "    </tr>\n",
       "  </tbody>\n",
       "</table>\n",
       "</div>"
      ],
      "text/plain": [
       "      Sex\n",
       "0    male\n",
       "1  female\n",
       "2  female\n",
       "3  female\n",
       "4    male"
      ]
     },
     "execution_count": 7,
     "metadata": {},
     "output_type": "execute_result"
    }
   ],
   "source": [
    "df[['Sex']].head()"
   ]
  },
  {
   "cell_type": "code",
   "execution_count": 8,
   "metadata": {},
   "outputs": [
    {
     "data": {
      "text/html": [
       "<div>\n",
       "<style scoped>\n",
       "    .dataframe tbody tr th:only-of-type {\n",
       "        vertical-align: middle;\n",
       "    }\n",
       "\n",
       "    .dataframe tbody tr th {\n",
       "        vertical-align: top;\n",
       "    }\n",
       "\n",
       "    .dataframe thead th {\n",
       "        text-align: right;\n",
       "    }\n",
       "</style>\n",
       "<table border=\"1\" class=\"dataframe\">\n",
       "  <thead>\n",
       "    <tr style=\"text-align: right;\">\n",
       "      <th></th>\n",
       "      <th>Sex</th>\n",
       "    </tr>\n",
       "  </thead>\n",
       "  <tbody>\n",
       "    <tr>\n",
       "      <th>0</th>\n",
       "      <td>0</td>\n",
       "    </tr>\n",
       "    <tr>\n",
       "      <th>1</th>\n",
       "      <td>1</td>\n",
       "    </tr>\n",
       "    <tr>\n",
       "      <th>2</th>\n",
       "      <td>1</td>\n",
       "    </tr>\n",
       "    <tr>\n",
       "      <th>3</th>\n",
       "      <td>1</td>\n",
       "    </tr>\n",
       "    <tr>\n",
       "      <th>4</th>\n",
       "      <td>0</td>\n",
       "    </tr>\n",
       "  </tbody>\n",
       "</table>\n",
       "</div>"
      ],
      "text/plain": [
       "   Sex\n",
       "0    0\n",
       "1    1\n",
       "2    1\n",
       "3    1\n",
       "4    0"
      ]
     },
     "execution_count": 8,
     "metadata": {},
     "output_type": "execute_result"
    }
   ],
   "source": [
    "df['Sex'] = df['Sex'].replace(to_replace='male', value=0)\n",
    "df['Sex'] = df['Sex'].replace(to_replace='female', value=1)\n",
    "df[['Sex']].head()"
   ]
  },
  {
   "cell_type": "markdown",
   "metadata": {},
   "source": [
    "Let's now create the data arrays `X_baseline` and `y`. Here `X_baseline` will just be a `(n, 1)` array consisting of just the binary-encoded `Sex` column, and `y` will be the `Survived` column as already encoded. After creating these, we'll go ahead and split off the training and test sets.\n",
    "\n",
    "Note that in defining the training and test data I do it slightly different here than usual. Instead of splitting the training and test data directly, I instead split on their indexes and then index them out to get the data. The reason I do this is because we'll train more models on different features below, and it's good to do an objective comparison between the different approaches. If you sample different training and test data at each iteration, you don't necessarily know if one set of models is better than another.\n",
    "\n",
    "That said, there's a caveat. You *must* be cognizant of the fact that it's easy to overfit your test set this way if you're not careful. Reason being you're training a bunch of models, tweaking the data, training a bunch more models, etc. When you do that it's easy to accidentally overfit your test set because you find yourself optimizing on test set metrics and pumping them up. Thus, be careful when you do this. It may be good practice to hold out a third **validation set** if you wish to do extensive data and model tuning like I'm doing here. Tune on the validation set, and only evaluate against your test set at the very very end."
   ]
  },
  {
   "cell_type": "code",
   "execution_count": 9,
   "metadata": {},
   "outputs": [
    {
     "data": {
      "text/plain": [
       "((891, 1), (891,))"
      ]
     },
     "execution_count": 9,
     "metadata": {},
     "output_type": "execute_result"
    }
   ],
   "source": [
    "X_baseline = df[['Sex']].values\n",
    "y = df['Survived'].values\n",
    "\n",
    "X_baseline.shape, y.shape"
   ]
  },
  {
   "cell_type": "code",
   "execution_count": 10,
   "metadata": {},
   "outputs": [
    {
     "data": {
      "text/plain": [
       "((712,), (179,))"
      ]
     },
     "execution_count": 10,
     "metadata": {},
     "output_type": "execute_result"
    }
   ],
   "source": [
    "idx_train, idx_test = train_test_split(np.arange(len(y)), test_size=0.2, random_state=seed)\n",
    "idx_train.shape, idx_test.shape"
   ]
  },
  {
   "cell_type": "code",
   "execution_count": 11,
   "metadata": {},
   "outputs": [],
   "source": [
    "X_train_baseline = X_baseline[idx_train]\n",
    "y_train = y[idx_train]\n",
    "X_test_baseline = X_baseline[idx_test]\n",
    "y_test = y[idx_test]"
   ]
  },
  {
   "cell_type": "markdown",
   "metadata": {},
   "source": [
    "Before trying an actual model, let's see how well we can do just guessing the majority class. Since the labels are imbalanced, we'd do better than 50% accuracy with this very naive approach. How well can we do?"
   ]
  },
  {
   "cell_type": "code",
   "execution_count": 12,
   "metadata": {},
   "outputs": [
    {
     "data": {
      "text/plain": [
       "0.6161616161616161"
      ]
     },
     "execution_count": 12,
     "metadata": {},
     "output_type": "execute_result"
    }
   ],
   "source": [
    "naive_accuracy = (y == 0).sum() / len(y)\n",
    "naive_accuracy"
   ]
  },
  {
   "cell_type": "markdown",
   "metadata": {},
   "source": [
    "Looks like around 61.6%. This means if we're getting about 62%, we're not really doing any better than random. If we do worse than 62%, something weird is probably going on.\n",
    "\n",
    "Let's train the models now. The two I'll train are a random forest and a logistic regression model. Note the logistic regression model used is `LogisticRegressionCV`, which is similar to `LogisticRegression`, but does a hyperparameter search for you so it's giving you the highest-accuracy model from its search.\n",
    "\n",
    "Not bad for a quick and dirty first go at it. Just with `Sex` alone as a feature we're already over 79% accuracy! Even accounting for the slight label imbalance (more died than survived) we're still doing pretty good, with an F1 of almost 72%."
   ]
  },
  {
   "cell_type": "code",
   "execution_count": 13,
   "metadata": {},
   "outputs": [
    {
     "name": "stdout",
     "output_type": "stream",
     "text": [
      "accuracy:  0.7989\n",
      "precision:  0.7302\n",
      "recall:  0.7077\n",
      "f1:  0.7188\n",
      "auc:  0.7793\n",
      "confusion matrix:\n",
      " [[97 17]\n",
      " [19 46]]\n"
     ]
    }
   ],
   "source": [
    "rf_model_baseline = RandomForestClassifier(n_estimators=100, max_depth=2, random_state=seed)\n",
    "rf_model_baseline.fit(X_train_baseline, y_train)\n",
    "\n",
    "yhat = rf_model_baseline.predict(X_test_baseline)\n",
    "get_scores(y_test, yhat)"
   ]
  },
  {
   "cell_type": "code",
   "execution_count": 14,
   "metadata": {},
   "outputs": [
    {
     "name": "stdout",
     "output_type": "stream",
     "text": [
      "accuracy:  0.7989\n",
      "precision:  0.7302\n",
      "recall:  0.7077\n",
      "f1:  0.7188\n",
      "auc:  0.7793\n",
      "confusion matrix:\n",
      " [[97 17]\n",
      " [19 46]]\n"
     ]
    }
   ],
   "source": [
    "lr_model_baseline = LogisticRegressionCV(random_state=seed)\n",
    "lr_model_baseline.fit(X_train_baseline, y_train)\n",
    "\n",
    "yhat = lr_model_baseline.predict(X_test_baseline)\n",
    "get_scores(y_test, yhat)"
   ]
  },
  {
   "cell_type": "markdown",
   "metadata": {},
   "source": [
    "## Data Cleaning and Feature Engineering\n",
    "\n",
    "Back to feature engineering, let's start by cleaning up the non-string columns since they're the easiest to deal with. Going in left-to-right order, we first have the `Survived` column, which will end up being the labels for the ML problem. From the EDA, we know that there are no missing values here, and that the values are already encoded as binary integers with `0 = not survived` and `1 = survived`. That means this column is already good and we can move on.\n",
    "\n",
    "The next column is `Pclass`. Recall that `Pclass` takes on the integer values `1, 2, 3`. It has no missing values. And it is evidently a categorical variable representing what boarding class the passenger was in. The fact that `Pclass` is categorical means that there is no (far as we can tell) no natural ordering. With categorical data, it wouldn't make sense to say `1 < 2 < 3`. It would make about as much sense as saying `red < blue < orange`. We thus may want to encode this data differently, e.g. one-hot encodings or embeddings. I'll ignore this for now and come back to it later. Other than this issue, this column appears good to go as well.\n",
    "\n",
    "Next we'd have the `Age` column. Recall this is a numerical feature with ages ranging roughly 0-80 years in not-necessarily-integer values (some passengers gave their age in years and months evidently). Also recall that indeed this column *does* have missing values. It looks like there are 177 of 891 missing values here."
   ]
  },
  {
   "cell_type": "code",
   "execution_count": 15,
   "metadata": {},
   "outputs": [
    {
     "data": {
      "text/plain": [
       "177"
      ]
     },
     "execution_count": 15,
     "metadata": {},
     "output_type": "execute_result"
    }
   ],
   "source": [
    "df['Age'].isna().sum()"
   ]
  },
  {
   "cell_type": "markdown",
   "metadata": {},
   "source": [
    "Let's address the missing value question first. With missing values present in a column you generally have a few options:\n",
    "\n",
    "1. Drop the rows with missing values in that column. We could do this, and it may make since if there or only a handful missing. But 177 is a lot (almost 20% of the data). Dropping 20% of the data just doesn't seem like a great idea.\n",
    "2. Impute the missing values with an agreed upon value. But what value? We could just pick something random like 0 or -1 or 999 or whatever, but then we skew the distribution since this feature is continuous. A better idea would be to impute it with some kind of average value in the feature distribution, e.g. the column's mean, median, or mode. This is equivalent to saying \"I don't know what this value is, and without any better info my best guess is the average from that column\".\n",
    "3. Build a model to learn what to impute with. That is, you train a model that can take in as an example a row containing all features but that feature with missing values, and try to predict what that missing value should be,  given what the values in the other features are. This can be thought of as building a prior, where you ask \"what is my best guess for this missing value, given that I know what the values in the other features are for this example\". You can get a smarter imputer this way. However, it can be time consuming to build such a model, and the gains usually aren't helpful enough in practice to justify the effort. If you're interested in an easier way to do this, checkout sklearn's imputation approaches [here](https://scikit-learn.org/stable/modules/impute.html).\n",
    "\n",
    "For simplicity, and because it's the most common way to deal with missing values in practice, I'll go with approach (2) for this tutorial. It's also become useful to create a *new* binary feature to keep track of *which* values in a given column are missing. The reason is that there may in fact be some information in the fact that those values are missing, and maybe this is information the ML model might find useful in learning to make predictions.\n",
    "\n",
    "Focusing on the `Age` column, we can fill in missing values with a fixed value using the `df.fillna` method. I'll fill in the missing values with the *mean* age of 29.699 years. Doing this, we can see that there are no no missing values in that column. Also note a consequence of imputing with the mean is that the mean of that column won't change. Why? Adding more values of the mean to a dataset never changes the mean (prove it). It *will* affect the spread of the data though, making it generally go down.\n",
    "\n",
    "Notice I also create the new feature `Age_missing`, which is a binary feature where `0 = not missing` and `1 = missing`. I'll do this for every missing value column below as well. It's also good to check that `Age_missing` does indeed have 177 `1` values as well.\n",
    "\n",
    "After imputing missing values we'll go ahead and normalize the column as well by dividing by the max age."
   ]
  },
  {
   "cell_type": "code",
   "execution_count": 16,
   "metadata": {},
   "outputs": [
    {
     "data": {
      "text/html": [
       "<div>\n",
       "<style scoped>\n",
       "    .dataframe tbody tr th:only-of-type {\n",
       "        vertical-align: middle;\n",
       "    }\n",
       "\n",
       "    .dataframe tbody tr th {\n",
       "        vertical-align: top;\n",
       "    }\n",
       "\n",
       "    .dataframe thead th {\n",
       "        text-align: right;\n",
       "    }\n",
       "</style>\n",
       "<table border=\"1\" class=\"dataframe\">\n",
       "  <thead>\n",
       "    <tr style=\"text-align: right;\">\n",
       "      <th></th>\n",
       "      <th>PassengerId</th>\n",
       "      <th>Survived</th>\n",
       "      <th>Pclass</th>\n",
       "      <th>Name</th>\n",
       "      <th>Sex</th>\n",
       "      <th>Age</th>\n",
       "      <th>SibSp</th>\n",
       "      <th>Parch</th>\n",
       "      <th>Ticket</th>\n",
       "      <th>Fare</th>\n",
       "      <th>Cabin</th>\n",
       "      <th>Embarked</th>\n",
       "      <th>Age_missing</th>\n",
       "    </tr>\n",
       "  </thead>\n",
       "  <tbody>\n",
       "    <tr>\n",
       "      <th>0</th>\n",
       "      <td>1</td>\n",
       "      <td>0</td>\n",
       "      <td>3</td>\n",
       "      <td>Braund, Mr. Owen Harris</td>\n",
       "      <td>0</td>\n",
       "      <td>0.2750</td>\n",
       "      <td>1</td>\n",
       "      <td>0</td>\n",
       "      <td>A/5 21171</td>\n",
       "      <td>7.2500</td>\n",
       "      <td>NaN</td>\n",
       "      <td>S</td>\n",
       "      <td>0</td>\n",
       "    </tr>\n",
       "    <tr>\n",
       "      <th>1</th>\n",
       "      <td>2</td>\n",
       "      <td>1</td>\n",
       "      <td>1</td>\n",
       "      <td>Cumings, Mrs. John Bradley (Florence Briggs Th...</td>\n",
       "      <td>1</td>\n",
       "      <td>0.4750</td>\n",
       "      <td>1</td>\n",
       "      <td>0</td>\n",
       "      <td>PC 17599</td>\n",
       "      <td>71.2833</td>\n",
       "      <td>C85</td>\n",
       "      <td>C</td>\n",
       "      <td>0</td>\n",
       "    </tr>\n",
       "    <tr>\n",
       "      <th>2</th>\n",
       "      <td>3</td>\n",
       "      <td>1</td>\n",
       "      <td>3</td>\n",
       "      <td>Heikkinen, Miss. Laina</td>\n",
       "      <td>1</td>\n",
       "      <td>0.3250</td>\n",
       "      <td>0</td>\n",
       "      <td>0</td>\n",
       "      <td>STON/O2. 3101282</td>\n",
       "      <td>7.9250</td>\n",
       "      <td>NaN</td>\n",
       "      <td>S</td>\n",
       "      <td>0</td>\n",
       "    </tr>\n",
       "    <tr>\n",
       "      <th>3</th>\n",
       "      <td>4</td>\n",
       "      <td>1</td>\n",
       "      <td>1</td>\n",
       "      <td>Futrelle, Mrs. Jacques Heath (Lily May Peel)</td>\n",
       "      <td>1</td>\n",
       "      <td>0.4375</td>\n",
       "      <td>1</td>\n",
       "      <td>0</td>\n",
       "      <td>113803</td>\n",
       "      <td>53.1000</td>\n",
       "      <td>C123</td>\n",
       "      <td>S</td>\n",
       "      <td>0</td>\n",
       "    </tr>\n",
       "    <tr>\n",
       "      <th>4</th>\n",
       "      <td>5</td>\n",
       "      <td>0</td>\n",
       "      <td>3</td>\n",
       "      <td>Allen, Mr. William Henry</td>\n",
       "      <td>0</td>\n",
       "      <td>0.4375</td>\n",
       "      <td>0</td>\n",
       "      <td>0</td>\n",
       "      <td>373450</td>\n",
       "      <td>8.0500</td>\n",
       "      <td>NaN</td>\n",
       "      <td>S</td>\n",
       "      <td>0</td>\n",
       "    </tr>\n",
       "  </tbody>\n",
       "</table>\n",
       "</div>"
      ],
      "text/plain": [
       "   PassengerId  Survived  Pclass  \\\n",
       "0            1         0       3   \n",
       "1            2         1       1   \n",
       "2            3         1       3   \n",
       "3            4         1       1   \n",
       "4            5         0       3   \n",
       "\n",
       "                                                Name  Sex     Age  SibSp  \\\n",
       "0                            Braund, Mr. Owen Harris    0  0.2750      1   \n",
       "1  Cumings, Mrs. John Bradley (Florence Briggs Th...    1  0.4750      1   \n",
       "2                             Heikkinen, Miss. Laina    1  0.3250      0   \n",
       "3       Futrelle, Mrs. Jacques Heath (Lily May Peel)    1  0.4375      1   \n",
       "4                           Allen, Mr. William Henry    0  0.4375      0   \n",
       "\n",
       "   Parch            Ticket     Fare Cabin Embarked  Age_missing  \n",
       "0      0         A/5 21171   7.2500   NaN        S            0  \n",
       "1      0          PC 17599  71.2833   C85        C            0  \n",
       "2      0  STON/O2. 3101282   7.9250   NaN        S            0  \n",
       "3      0            113803  53.1000  C123        S            0  \n",
       "4      0            373450   8.0500   NaN        S            0  "
      ]
     },
     "execution_count": 16,
     "metadata": {},
     "output_type": "execute_result"
    }
   ],
   "source": [
    "mean_age = df['Age'].mean()\n",
    "max_age = df['Age'].max()\n",
    "df['Age_missing'] = df['Age'].isna().astype(int)\n",
    "df['Age'] = df['Age'].fillna(value=mean_age)\n",
    "df['Age'] /= max_age\n",
    "df.head()"
   ]
  },
  {
   "cell_type": "code",
   "execution_count": 17,
   "metadata": {},
   "outputs": [
    {
     "data": {
      "text/plain": [
       "177"
      ]
     },
     "execution_count": 17,
     "metadata": {},
     "output_type": "execute_result"
    }
   ],
   "source": [
    "df['Age_missing'].sum()"
   ]
  },
  {
   "cell_type": "markdown",
   "metadata": {},
   "source": [
    "It looks like `Age` is now good to go. It's a numerical datatype with all missing values imputed, and the values have been normalized."
   ]
  },
  {
   "cell_type": "markdown",
   "metadata": {},
   "source": [
    "The next non-string column is `Fare`. This is a numerical feature with no missing values. Let's take a look at the range of fare values first."
   ]
  },
  {
   "cell_type": "code",
   "execution_count": 18,
   "metadata": {},
   "outputs": [
    {
     "data": {
      "text/plain": [
       "count    891.000000\n",
       "mean      32.204208\n",
       "std       49.693429\n",
       "min        0.000000\n",
       "25%        7.910400\n",
       "50%       14.454200\n",
       "75%       31.000000\n",
       "max      512.329200\n",
       "Name: Fare, dtype: float64"
      ]
     },
     "execution_count": 18,
     "metadata": {},
     "output_type": "execute_result"
    }
   ],
   "source": [
    "df['Fare'].describe()"
   ]
  },
  {
   "cell_type": "markdown",
   "metadata": {},
   "source": [
    "Notice that the fares are quite separated from each other, with a min of 0, median of 14.45, and a max all the way up at 512, which is well above the 75% percentile value of 31.\n",
    "\n",
    "When you have continuous data that's heavily skewed like this, it's often a good idea to take the log of the data before normalizing it. This ensures that spreads that when you have a very uneven distribution like `Fare` that the values get more equitably distributed, which can improve.\n",
    "\n",
    "**Note:** When taking the log of a set of data on a computer, it's usually a good idea to make sure all the terms are positive, and then add a small term to the function argument to prevent divisions by zero. This prevents getting weird NaN or infinity values, which can cause problems with analysis or machine learning results. In this case, I'll use a value of `eps = 1`. It's not small, but it doesn't matter for stuff like renormalizing data. A value of 1 is just fine."
   ]
  },
  {
   "cell_type": "code",
   "execution_count": 19,
   "metadata": {},
   "outputs": [],
   "source": [
    "eps = 1\n",
    "df['Fare'] = np.log(df['Fare'] + eps)"
   ]
  },
  {
   "cell_type": "code",
   "execution_count": 20,
   "metadata": {},
   "outputs": [],
   "source": [
    "max_fare, min_fare = df['Fare'].max(), df['Fare'].min()\n",
    "df['Fare'] =  (df['Fare'] - min_fare) / (max_fare - min_fare)"
   ]
  },
  {
   "cell_type": "code",
   "execution_count": 21,
   "metadata": {},
   "outputs": [
    {
     "data": {
      "text/plain": [
       "count    891.000000\n",
       "mean       0.474649\n",
       "std        0.155273\n",
       "min        0.000000\n",
       "25%        0.350464\n",
       "50%        0.438698\n",
       "75%        0.555325\n",
       "max        1.000000\n",
       "Name: Fare, dtype: float64"
      ]
     },
     "execution_count": 21,
     "metadata": {},
     "output_type": "execute_result"
    }
   ],
   "source": [
    "df['Fare'].describe()"
   ]
  },
  {
   "cell_type": "markdown",
   "metadata": {},
   "source": [
    "Moving on, we have `Embarked`. From the EDA it looks like it's a categorical feature with 3 values `S, C, Q`. It also has missing values, but only 2 of them. Filling those in makes sense. Since this feature is categorical, you'd want to fill it in with the *mode* (the most frequently occuring value). In this case that mode is `S`. \n",
    "\n",
    "Next, we'll want to encode the categories with numbers, as ML models can't handle strings. To do this I'll perform the following mapping: `0 = S`, `1 = C`, `2 = Q`.\n",
    "\n",
    "Since there are only 2 missing values I won't bother to create a missing column here. It's just too sparse to matter. Thus, once we've done the imputing and format conversions we're done with this column."
   ]
  },
  {
   "cell_type": "code",
   "execution_count": 22,
   "metadata": {},
   "outputs": [
    {
     "data": {
      "text/plain": [
       "S      644\n",
       "C      168\n",
       "Q       77\n",
       "NaN      2\n",
       "Name: Embarked, dtype: int64"
      ]
     },
     "execution_count": 22,
     "metadata": {},
     "output_type": "execute_result"
    }
   ],
   "source": [
    "df['Embarked'].value_counts(dropna=False)"
   ]
  },
  {
   "cell_type": "code",
   "execution_count": 23,
   "metadata": {},
   "outputs": [
    {
     "data": {
      "text/plain": [
       "0"
      ]
     },
     "execution_count": 23,
     "metadata": {},
     "output_type": "execute_result"
    }
   ],
   "source": [
    "mode_embarked = df['Embarked'].mode().item()\n",
    "df['Embarked'] = df['Embarked'].fillna(value=mode_embarked)\n",
    "df['Embarked'].isna().sum()"
   ]
  },
  {
   "cell_type": "code",
   "execution_count": 24,
   "metadata": {},
   "outputs": [
    {
     "data": {
      "text/html": [
       "<div>\n",
       "<style scoped>\n",
       "    .dataframe tbody tr th:only-of-type {\n",
       "        vertical-align: middle;\n",
       "    }\n",
       "\n",
       "    .dataframe tbody tr th {\n",
       "        vertical-align: top;\n",
       "    }\n",
       "\n",
       "    .dataframe thead th {\n",
       "        text-align: right;\n",
       "    }\n",
       "</style>\n",
       "<table border=\"1\" class=\"dataframe\">\n",
       "  <thead>\n",
       "    <tr style=\"text-align: right;\">\n",
       "      <th></th>\n",
       "      <th>PassengerId</th>\n",
       "      <th>Survived</th>\n",
       "      <th>Pclass</th>\n",
       "      <th>Name</th>\n",
       "      <th>Sex</th>\n",
       "      <th>Age</th>\n",
       "      <th>SibSp</th>\n",
       "      <th>Parch</th>\n",
       "      <th>Ticket</th>\n",
       "      <th>Fare</th>\n",
       "      <th>Cabin</th>\n",
       "      <th>Embarked</th>\n",
       "      <th>Age_missing</th>\n",
       "    </tr>\n",
       "  </thead>\n",
       "  <tbody>\n",
       "    <tr>\n",
       "      <th>0</th>\n",
       "      <td>1</td>\n",
       "      <td>0</td>\n",
       "      <td>3</td>\n",
       "      <td>Braund, Mr. Owen Harris</td>\n",
       "      <td>0</td>\n",
       "      <td>0.2750</td>\n",
       "      <td>1</td>\n",
       "      <td>0</td>\n",
       "      <td>A/5 21171</td>\n",
       "      <td>0.338125</td>\n",
       "      <td>NaN</td>\n",
       "      <td>0</td>\n",
       "      <td>0</td>\n",
       "    </tr>\n",
       "    <tr>\n",
       "      <th>1</th>\n",
       "      <td>2</td>\n",
       "      <td>1</td>\n",
       "      <td>1</td>\n",
       "      <td>Cumings, Mrs. John Bradley (Florence Briggs Th...</td>\n",
       "      <td>1</td>\n",
       "      <td>0.4750</td>\n",
       "      <td>1</td>\n",
       "      <td>0</td>\n",
       "      <td>PC 17599</td>\n",
       "      <td>0.685892</td>\n",
       "      <td>C85</td>\n",
       "      <td>1</td>\n",
       "      <td>0</td>\n",
       "    </tr>\n",
       "    <tr>\n",
       "      <th>2</th>\n",
       "      <td>3</td>\n",
       "      <td>1</td>\n",
       "      <td>3</td>\n",
       "      <td>Heikkinen, Miss. Laina</td>\n",
       "      <td>1</td>\n",
       "      <td>0.3250</td>\n",
       "      <td>0</td>\n",
       "      <td>0</td>\n",
       "      <td>STON/O2. 3101282</td>\n",
       "      <td>0.350727</td>\n",
       "      <td>NaN</td>\n",
       "      <td>0</td>\n",
       "      <td>0</td>\n",
       "    </tr>\n",
       "    <tr>\n",
       "      <th>3</th>\n",
       "      <td>4</td>\n",
       "      <td>1</td>\n",
       "      <td>1</td>\n",
       "      <td>Futrelle, Mrs. Jacques Heath (Lily May Peel)</td>\n",
       "      <td>1</td>\n",
       "      <td>0.4375</td>\n",
       "      <td>1</td>\n",
       "      <td>0</td>\n",
       "      <td>113803</td>\n",
       "      <td>0.639463</td>\n",
       "      <td>C123</td>\n",
       "      <td>0</td>\n",
       "      <td>0</td>\n",
       "    </tr>\n",
       "    <tr>\n",
       "      <th>4</th>\n",
       "      <td>5</td>\n",
       "      <td>0</td>\n",
       "      <td>3</td>\n",
       "      <td>Allen, Mr. William Henry</td>\n",
       "      <td>0</td>\n",
       "      <td>0.4375</td>\n",
       "      <td>0</td>\n",
       "      <td>0</td>\n",
       "      <td>373450</td>\n",
       "      <td>0.352955</td>\n",
       "      <td>NaN</td>\n",
       "      <td>0</td>\n",
       "      <td>0</td>\n",
       "    </tr>\n",
       "  </tbody>\n",
       "</table>\n",
       "</div>"
      ],
      "text/plain": [
       "   PassengerId  Survived  Pclass  \\\n",
       "0            1         0       3   \n",
       "1            2         1       1   \n",
       "2            3         1       3   \n",
       "3            4         1       1   \n",
       "4            5         0       3   \n",
       "\n",
       "                                                Name  Sex     Age  SibSp  \\\n",
       "0                            Braund, Mr. Owen Harris    0  0.2750      1   \n",
       "1  Cumings, Mrs. John Bradley (Florence Briggs Th...    1  0.4750      1   \n",
       "2                             Heikkinen, Miss. Laina    1  0.3250      0   \n",
       "3       Futrelle, Mrs. Jacques Heath (Lily May Peel)    1  0.4375      1   \n",
       "4                           Allen, Mr. William Henry    0  0.4375      0   \n",
       "\n",
       "   Parch            Ticket      Fare Cabin  Embarked  Age_missing  \n",
       "0      0         A/5 21171  0.338125   NaN         0            0  \n",
       "1      0          PC 17599  0.685892   C85         1            0  \n",
       "2      0  STON/O2. 3101282  0.350727   NaN         0            0  \n",
       "3      0            113803  0.639463  C123         0            0  \n",
       "4      0            373450  0.352955   NaN         0            0  "
      ]
     },
     "execution_count": 24,
     "metadata": {},
     "output_type": "execute_result"
    }
   ],
   "source": [
    "df['Embarked'] = df['Embarked'].replace(to_replace='S', value=0)\n",
    "df['Embarked'] = df['Embarked'].replace(to_replace='C', value=1)\n",
    "df['Embarked'] = df['Embarked'].replace(to_replace='Q', value=2)\n",
    "df.head()"
   ]
  },
  {
   "cell_type": "markdown",
   "metadata": {},
   "source": [
    "The next two columns we'll look at are `SigSp` and `Parch` together. Recall that these columns both take on positive integer values, and have no missing values present.\n",
    "\n",
    "Since both of these columns seem to refer to how many family members somebody has, as `SigSp` is the number of siblings and `Parch` is the number of parents. It may seem sensible that having a family is a decent predictor of survival. Thus, maybe we should create a new feature `Family` that sums these two columns together. We'll also create another feature `Alone` that just asks whether that person has any family. These could be useful later."
   ]
  },
  {
   "cell_type": "code",
   "execution_count": 25,
   "metadata": {},
   "outputs": [
    {
     "data": {
      "text/html": [
       "<div>\n",
       "<style scoped>\n",
       "    .dataframe tbody tr th:only-of-type {\n",
       "        vertical-align: middle;\n",
       "    }\n",
       "\n",
       "    .dataframe tbody tr th {\n",
       "        vertical-align: top;\n",
       "    }\n",
       "\n",
       "    .dataframe thead th {\n",
       "        text-align: right;\n",
       "    }\n",
       "</style>\n",
       "<table border=\"1\" class=\"dataframe\">\n",
       "  <thead>\n",
       "    <tr style=\"text-align: right;\">\n",
       "      <th></th>\n",
       "      <th>PassengerId</th>\n",
       "      <th>Survived</th>\n",
       "      <th>Pclass</th>\n",
       "      <th>Name</th>\n",
       "      <th>Sex</th>\n",
       "      <th>Age</th>\n",
       "      <th>SibSp</th>\n",
       "      <th>Parch</th>\n",
       "      <th>Ticket</th>\n",
       "      <th>Fare</th>\n",
       "      <th>Cabin</th>\n",
       "      <th>Embarked</th>\n",
       "      <th>Age_missing</th>\n",
       "      <th>Family</th>\n",
       "      <th>Alone</th>\n",
       "    </tr>\n",
       "  </thead>\n",
       "  <tbody>\n",
       "    <tr>\n",
       "      <th>0</th>\n",
       "      <td>1</td>\n",
       "      <td>0</td>\n",
       "      <td>3</td>\n",
       "      <td>Braund, Mr. Owen Harris</td>\n",
       "      <td>0</td>\n",
       "      <td>0.2750</td>\n",
       "      <td>1</td>\n",
       "      <td>0</td>\n",
       "      <td>A/5 21171</td>\n",
       "      <td>0.338125</td>\n",
       "      <td>NaN</td>\n",
       "      <td>0</td>\n",
       "      <td>0</td>\n",
       "      <td>1</td>\n",
       "      <td>0</td>\n",
       "    </tr>\n",
       "    <tr>\n",
       "      <th>1</th>\n",
       "      <td>2</td>\n",
       "      <td>1</td>\n",
       "      <td>1</td>\n",
       "      <td>Cumings, Mrs. John Bradley (Florence Briggs Th...</td>\n",
       "      <td>1</td>\n",
       "      <td>0.4750</td>\n",
       "      <td>1</td>\n",
       "      <td>0</td>\n",
       "      <td>PC 17599</td>\n",
       "      <td>0.685892</td>\n",
       "      <td>C85</td>\n",
       "      <td>1</td>\n",
       "      <td>0</td>\n",
       "      <td>1</td>\n",
       "      <td>0</td>\n",
       "    </tr>\n",
       "    <tr>\n",
       "      <th>2</th>\n",
       "      <td>3</td>\n",
       "      <td>1</td>\n",
       "      <td>3</td>\n",
       "      <td>Heikkinen, Miss. Laina</td>\n",
       "      <td>1</td>\n",
       "      <td>0.3250</td>\n",
       "      <td>0</td>\n",
       "      <td>0</td>\n",
       "      <td>STON/O2. 3101282</td>\n",
       "      <td>0.350727</td>\n",
       "      <td>NaN</td>\n",
       "      <td>0</td>\n",
       "      <td>0</td>\n",
       "      <td>0</td>\n",
       "      <td>1</td>\n",
       "    </tr>\n",
       "    <tr>\n",
       "      <th>3</th>\n",
       "      <td>4</td>\n",
       "      <td>1</td>\n",
       "      <td>1</td>\n",
       "      <td>Futrelle, Mrs. Jacques Heath (Lily May Peel)</td>\n",
       "      <td>1</td>\n",
       "      <td>0.4375</td>\n",
       "      <td>1</td>\n",
       "      <td>0</td>\n",
       "      <td>113803</td>\n",
       "      <td>0.639463</td>\n",
       "      <td>C123</td>\n",
       "      <td>0</td>\n",
       "      <td>0</td>\n",
       "      <td>1</td>\n",
       "      <td>0</td>\n",
       "    </tr>\n",
       "    <tr>\n",
       "      <th>4</th>\n",
       "      <td>5</td>\n",
       "      <td>0</td>\n",
       "      <td>3</td>\n",
       "      <td>Allen, Mr. William Henry</td>\n",
       "      <td>0</td>\n",
       "      <td>0.4375</td>\n",
       "      <td>0</td>\n",
       "      <td>0</td>\n",
       "      <td>373450</td>\n",
       "      <td>0.352955</td>\n",
       "      <td>NaN</td>\n",
       "      <td>0</td>\n",
       "      <td>0</td>\n",
       "      <td>0</td>\n",
       "      <td>1</td>\n",
       "    </tr>\n",
       "  </tbody>\n",
       "</table>\n",
       "</div>"
      ],
      "text/plain": [
       "   PassengerId  Survived  Pclass  \\\n",
       "0            1         0       3   \n",
       "1            2         1       1   \n",
       "2            3         1       3   \n",
       "3            4         1       1   \n",
       "4            5         0       3   \n",
       "\n",
       "                                                Name  Sex     Age  SibSp  \\\n",
       "0                            Braund, Mr. Owen Harris    0  0.2750      1   \n",
       "1  Cumings, Mrs. John Bradley (Florence Briggs Th...    1  0.4750      1   \n",
       "2                             Heikkinen, Miss. Laina    1  0.3250      0   \n",
       "3       Futrelle, Mrs. Jacques Heath (Lily May Peel)    1  0.4375      1   \n",
       "4                           Allen, Mr. William Henry    0  0.4375      0   \n",
       "\n",
       "   Parch            Ticket      Fare Cabin  Embarked  Age_missing  Family  \\\n",
       "0      0         A/5 21171  0.338125   NaN         0            0       1   \n",
       "1      0          PC 17599  0.685892   C85         1            0       1   \n",
       "2      0  STON/O2. 3101282  0.350727   NaN         0            0       0   \n",
       "3      0            113803  0.639463  C123         0            0       1   \n",
       "4      0            373450  0.352955   NaN         0            0       0   \n",
       "\n",
       "   Alone  \n",
       "0      0  \n",
       "1      0  \n",
       "2      1  \n",
       "3      0  \n",
       "4      1  "
      ]
     },
     "execution_count": 25,
     "metadata": {},
     "output_type": "execute_result"
    }
   ],
   "source": [
    "df['Family'] = df['SibSp'] + df['Parch']\n",
    "df['Alone'] = (df['Family'] == 0).astype(int)\n",
    "df.head()"
   ]
  },
  {
   "cell_type": "markdown",
   "metadata": {},
   "source": [
    "The next column we'll look at is `Name`. Let's first look at a sample of these values. Printing the first 10 names we can see some patterns. First, names by and large tend to be in the order `last name, title, first name, middle name, alias`. Outside of that the strings don't appear to be that consistently formatted.\n",
    "\n",
    "Since we're trying to predict survival, it also *might* be work printing out some examples of `Name` strings of those who survived vs those who didn't, and see if there's a pattern we can maybe exploit."
   ]
  },
  {
   "cell_type": "code",
   "execution_count": 26,
   "metadata": {},
   "outputs": [
    {
     "data": {
      "text/html": [
       "<div>\n",
       "<style scoped>\n",
       "    .dataframe tbody tr th:only-of-type {\n",
       "        vertical-align: middle;\n",
       "    }\n",
       "\n",
       "    .dataframe tbody tr th {\n",
       "        vertical-align: top;\n",
       "    }\n",
       "\n",
       "    .dataframe thead th {\n",
       "        text-align: right;\n",
       "    }\n",
       "</style>\n",
       "<table border=\"1\" class=\"dataframe\">\n",
       "  <thead>\n",
       "    <tr style=\"text-align: right;\">\n",
       "      <th></th>\n",
       "      <th>Name</th>\n",
       "    </tr>\n",
       "  </thead>\n",
       "  <tbody>\n",
       "    <tr>\n",
       "      <th>0</th>\n",
       "      <td>Braund, Mr. Owen Harris</td>\n",
       "    </tr>\n",
       "    <tr>\n",
       "      <th>1</th>\n",
       "      <td>Cumings, Mrs. John Bradley (Florence Briggs Th...</td>\n",
       "    </tr>\n",
       "    <tr>\n",
       "      <th>2</th>\n",
       "      <td>Heikkinen, Miss. Laina</td>\n",
       "    </tr>\n",
       "    <tr>\n",
       "      <th>3</th>\n",
       "      <td>Futrelle, Mrs. Jacques Heath (Lily May Peel)</td>\n",
       "    </tr>\n",
       "    <tr>\n",
       "      <th>4</th>\n",
       "      <td>Allen, Mr. William Henry</td>\n",
       "    </tr>\n",
       "    <tr>\n",
       "      <th>5</th>\n",
       "      <td>Moran, Mr. James</td>\n",
       "    </tr>\n",
       "    <tr>\n",
       "      <th>6</th>\n",
       "      <td>McCarthy, Mr. Timothy J</td>\n",
       "    </tr>\n",
       "    <tr>\n",
       "      <th>7</th>\n",
       "      <td>Palsson, Master. Gosta Leonard</td>\n",
       "    </tr>\n",
       "    <tr>\n",
       "      <th>8</th>\n",
       "      <td>Johnson, Mrs. Oscar W (Elisabeth Vilhelmina Berg)</td>\n",
       "    </tr>\n",
       "    <tr>\n",
       "      <th>9</th>\n",
       "      <td>Nasser, Mrs. Nicholas (Adele Achem)</td>\n",
       "    </tr>\n",
       "  </tbody>\n",
       "</table>\n",
       "</div>"
      ],
      "text/plain": [
       "                                                Name\n",
       "0                            Braund, Mr. Owen Harris\n",
       "1  Cumings, Mrs. John Bradley (Florence Briggs Th...\n",
       "2                             Heikkinen, Miss. Laina\n",
       "3       Futrelle, Mrs. Jacques Heath (Lily May Peel)\n",
       "4                           Allen, Mr. William Henry\n",
       "5                                   Moran, Mr. James\n",
       "6                            McCarthy, Mr. Timothy J\n",
       "7                     Palsson, Master. Gosta Leonard\n",
       "8  Johnson, Mrs. Oscar W (Elisabeth Vilhelmina Berg)\n",
       "9                Nasser, Mrs. Nicholas (Adele Achem)"
      ]
     },
     "execution_count": 26,
     "metadata": {},
     "output_type": "execute_result"
    }
   ],
   "source": [
    "df[['Name']].head(10)"
   ]
  },
  {
   "cell_type": "code",
   "execution_count": 27,
   "metadata": {},
   "outputs": [
    {
     "data": {
      "text/html": [
       "<div>\n",
       "<style scoped>\n",
       "    .dataframe tbody tr th:only-of-type {\n",
       "        vertical-align: middle;\n",
       "    }\n",
       "\n",
       "    .dataframe tbody tr th {\n",
       "        vertical-align: top;\n",
       "    }\n",
       "\n",
       "    .dataframe thead th {\n",
       "        text-align: right;\n",
       "    }\n",
       "</style>\n",
       "<table border=\"1\" class=\"dataframe\">\n",
       "  <thead>\n",
       "    <tr style=\"text-align: right;\">\n",
       "      <th></th>\n",
       "      <th>Name</th>\n",
       "    </tr>\n",
       "  </thead>\n",
       "  <tbody>\n",
       "    <tr>\n",
       "      <th>1</th>\n",
       "      <td>Cumings, Mrs. John Bradley (Florence Briggs Th...</td>\n",
       "    </tr>\n",
       "    <tr>\n",
       "      <th>2</th>\n",
       "      <td>Heikkinen, Miss. Laina</td>\n",
       "    </tr>\n",
       "    <tr>\n",
       "      <th>3</th>\n",
       "      <td>Futrelle, Mrs. Jacques Heath (Lily May Peel)</td>\n",
       "    </tr>\n",
       "    <tr>\n",
       "      <th>8</th>\n",
       "      <td>Johnson, Mrs. Oscar W (Elisabeth Vilhelmina Berg)</td>\n",
       "    </tr>\n",
       "    <tr>\n",
       "      <th>9</th>\n",
       "      <td>Nasser, Mrs. Nicholas (Adele Achem)</td>\n",
       "    </tr>\n",
       "    <tr>\n",
       "      <th>10</th>\n",
       "      <td>Sandstrom, Miss. Marguerite Rut</td>\n",
       "    </tr>\n",
       "    <tr>\n",
       "      <th>11</th>\n",
       "      <td>Bonnell, Miss. Elizabeth</td>\n",
       "    </tr>\n",
       "    <tr>\n",
       "      <th>15</th>\n",
       "      <td>Hewlett, Mrs. (Mary D Kingcome)</td>\n",
       "    </tr>\n",
       "    <tr>\n",
       "      <th>17</th>\n",
       "      <td>Williams, Mr. Charles Eugene</td>\n",
       "    </tr>\n",
       "    <tr>\n",
       "      <th>19</th>\n",
       "      <td>Masselmani, Mrs. Fatima</td>\n",
       "    </tr>\n",
       "  </tbody>\n",
       "</table>\n",
       "</div>"
      ],
      "text/plain": [
       "                                                 Name\n",
       "1   Cumings, Mrs. John Bradley (Florence Briggs Th...\n",
       "2                              Heikkinen, Miss. Laina\n",
       "3        Futrelle, Mrs. Jacques Heath (Lily May Peel)\n",
       "8   Johnson, Mrs. Oscar W (Elisabeth Vilhelmina Berg)\n",
       "9                 Nasser, Mrs. Nicholas (Adele Achem)\n",
       "10                    Sandstrom, Miss. Marguerite Rut\n",
       "11                           Bonnell, Miss. Elizabeth\n",
       "15                   Hewlett, Mrs. (Mary D Kingcome) \n",
       "17                       Williams, Mr. Charles Eugene\n",
       "19                            Masselmani, Mrs. Fatima"
      ]
     },
     "execution_count": 27,
     "metadata": {},
     "output_type": "execute_result"
    }
   ],
   "source": [
    "df[['Name']][df['Survived'] == 1].head(10)"
   ]
  },
  {
   "cell_type": "code",
   "execution_count": 28,
   "metadata": {},
   "outputs": [
    {
     "data": {
      "text/html": [
       "<div>\n",
       "<style scoped>\n",
       "    .dataframe tbody tr th:only-of-type {\n",
       "        vertical-align: middle;\n",
       "    }\n",
       "\n",
       "    .dataframe tbody tr th {\n",
       "        vertical-align: top;\n",
       "    }\n",
       "\n",
       "    .dataframe thead th {\n",
       "        text-align: right;\n",
       "    }\n",
       "</style>\n",
       "<table border=\"1\" class=\"dataframe\">\n",
       "  <thead>\n",
       "    <tr style=\"text-align: right;\">\n",
       "      <th></th>\n",
       "      <th>Name</th>\n",
       "    </tr>\n",
       "  </thead>\n",
       "  <tbody>\n",
       "    <tr>\n",
       "      <th>0</th>\n",
       "      <td>Braund, Mr. Owen Harris</td>\n",
       "    </tr>\n",
       "    <tr>\n",
       "      <th>4</th>\n",
       "      <td>Allen, Mr. William Henry</td>\n",
       "    </tr>\n",
       "    <tr>\n",
       "      <th>5</th>\n",
       "      <td>Moran, Mr. James</td>\n",
       "    </tr>\n",
       "    <tr>\n",
       "      <th>6</th>\n",
       "      <td>McCarthy, Mr. Timothy J</td>\n",
       "    </tr>\n",
       "    <tr>\n",
       "      <th>7</th>\n",
       "      <td>Palsson, Master. Gosta Leonard</td>\n",
       "    </tr>\n",
       "    <tr>\n",
       "      <th>12</th>\n",
       "      <td>Saundercock, Mr. William Henry</td>\n",
       "    </tr>\n",
       "    <tr>\n",
       "      <th>13</th>\n",
       "      <td>Andersson, Mr. Anders Johan</td>\n",
       "    </tr>\n",
       "    <tr>\n",
       "      <th>14</th>\n",
       "      <td>Vestrom, Miss. Hulda Amanda Adolfina</td>\n",
       "    </tr>\n",
       "    <tr>\n",
       "      <th>16</th>\n",
       "      <td>Rice, Master. Eugene</td>\n",
       "    </tr>\n",
       "    <tr>\n",
       "      <th>18</th>\n",
       "      <td>Vander Planke, Mrs. Julius (Emelia Maria Vande...</td>\n",
       "    </tr>\n",
       "  </tbody>\n",
       "</table>\n",
       "</div>"
      ],
      "text/plain": [
       "                                                 Name\n",
       "0                             Braund, Mr. Owen Harris\n",
       "4                            Allen, Mr. William Henry\n",
       "5                                    Moran, Mr. James\n",
       "6                             McCarthy, Mr. Timothy J\n",
       "7                      Palsson, Master. Gosta Leonard\n",
       "12                     Saundercock, Mr. William Henry\n",
       "13                        Andersson, Mr. Anders Johan\n",
       "14               Vestrom, Miss. Hulda Amanda Adolfina\n",
       "16                               Rice, Master. Eugene\n",
       "18  Vander Planke, Mrs. Julius (Emelia Maria Vande..."
      ]
     },
     "execution_count": 28,
     "metadata": {},
     "output_type": "execute_result"
    }
   ],
   "source": [
    "df[['Name']][df['Survived'] == 0].head(10)"
   ]
  },
  {
   "cell_type": "markdown",
   "metadata": {},
   "source": [
    "One pattern appears very clear in those who survived vs didn't: Those with titles like `Mr.` or `Master.` seem less likely to have survived than those with titles like `Mrs.` or `Miss.`. This is yet another reminder that survival on the Titanic strongly correlated with sex, something we already saw above in the baseline model. \n",
    "\n",
    "But, there may be something else to keeping these titles and making features out of them. So let's do that. I'm going to take the `Name` column and extract out of it a new column `Titles`. Let's first write some code to extract out the title for each column, and then show the value counts of those, so we can see which titles are worth keeping vs lumping together into a `Rare` group.\n",
    "\n",
    "The way I'll extract titles is by using the regular expression (\"regex\") string `' ([A-Za-z]+)\\.'`. If you're not familiar with regexes, this particular regex string says to take the input string from `Name`, match with any substring that\n",
    "- doesn't come first in the input string,\n",
    "- contains one or more alphabetical characters, possibly capitalized,\n",
    "- ends in a period.\n",
    "\n",
    "This makes sense for this particular problem of extracting titles because the titles aren't written first in the string, and always contain alphabetical characters followed by a period. After matching with substrings of this form, the regex will extract the alphabetical text *before* the period, and then show that (which we'll eventually dump into a new `Titles` column).\n",
    "\n",
    "Looking at the value counts, we can see that the set of titles `Mr, Miss, Mrs, Master` all occur over 10 times in the dataset, and the rest look to be rare. We'll map all of these rare titles into their own `Rare` title class and keep the rest separately."
   ]
  },
  {
   "cell_type": "code",
   "execution_count": 29,
   "metadata": {},
   "outputs": [
    {
     "data": {
      "text/plain": [
       "Mr          517\n",
       "Miss        182\n",
       "Mrs         125\n",
       "Master       40\n",
       "Dr            7\n",
       "Rev           6\n",
       "Major         2\n",
       "Col           2\n",
       "Mlle          2\n",
       "Mme           1\n",
       "Ms            1\n",
       "Capt          1\n",
       "Lady          1\n",
       "Jonkheer      1\n",
       "Don           1\n",
       "Countess      1\n",
       "Sir           1\n",
       "dtype: int64"
      ]
     },
     "execution_count": 29,
     "metadata": {},
     "output_type": "execute_result"
    }
   ],
   "source": [
    "df['Name'].str.extract(' ([A-Za-z]+)\\.').value_counts()"
   ]
  },
  {
   "cell_type": "code",
   "execution_count": 30,
   "metadata": {},
   "outputs": [
    {
     "data": {
      "text/plain": [
       "Mr        517\n",
       "Miss      182\n",
       "Mrs       125\n",
       "Master     40\n",
       "Rare       27\n",
       "Name: Titles, dtype: int64"
      ]
     },
     "execution_count": 30,
     "metadata": {},
     "output_type": "execute_result"
    }
   ],
   "source": [
    "titles = ['Mr', 'Miss', 'Mrs', 'Master', 'Rare']\n",
    "df['Titles'] = df['Name'].str.extract(' ([A-Za-z]+)\\.')\n",
    "df['Titles'] = df['Titles'].apply(lambda x: x if x in titles else 'Rare')\n",
    "df['Titles'].value_counts()"
   ]
  },
  {
   "cell_type": "markdown",
   "metadata": {},
   "source": [
    "The last move will be to make `Titles` a good feature by mapping its values to integers and treating it as a categorical variable."
   ]
  },
  {
   "cell_type": "code",
   "execution_count": 31,
   "metadata": {},
   "outputs": [
    {
     "data": {
      "text/plain": [
       "0    517\n",
       "1    182\n",
       "2    125\n",
       "3     40\n",
       "4     27\n",
       "Name: Titles, dtype: int64"
      ]
     },
     "execution_count": 31,
     "metadata": {},
     "output_type": "execute_result"
    }
   ],
   "source": [
    "titles_dict = {title:idx for (idx,title) in enumerate(titles)}\n",
    "df['Titles'] = df['Titles'].apply(lambda x: titles_dict[x])\n",
    "df['Titles'].value_counts()"
   ]
  },
  {
   "cell_type": "code",
   "execution_count": 32,
   "metadata": {},
   "outputs": [
    {
     "data": {
      "text/html": [
       "<div>\n",
       "<style scoped>\n",
       "    .dataframe tbody tr th:only-of-type {\n",
       "        vertical-align: middle;\n",
       "    }\n",
       "\n",
       "    .dataframe tbody tr th {\n",
       "        vertical-align: top;\n",
       "    }\n",
       "\n",
       "    .dataframe thead th {\n",
       "        text-align: right;\n",
       "    }\n",
       "</style>\n",
       "<table border=\"1\" class=\"dataframe\">\n",
       "  <thead>\n",
       "    <tr style=\"text-align: right;\">\n",
       "      <th></th>\n",
       "      <th>PassengerId</th>\n",
       "      <th>Survived</th>\n",
       "      <th>Pclass</th>\n",
       "      <th>Name</th>\n",
       "      <th>Sex</th>\n",
       "      <th>Age</th>\n",
       "      <th>SibSp</th>\n",
       "      <th>Parch</th>\n",
       "      <th>Ticket</th>\n",
       "      <th>Fare</th>\n",
       "      <th>Cabin</th>\n",
       "      <th>Embarked</th>\n",
       "      <th>Age_missing</th>\n",
       "      <th>Family</th>\n",
       "      <th>Alone</th>\n",
       "      <th>Titles</th>\n",
       "    </tr>\n",
       "  </thead>\n",
       "  <tbody>\n",
       "    <tr>\n",
       "      <th>0</th>\n",
       "      <td>1</td>\n",
       "      <td>0</td>\n",
       "      <td>3</td>\n",
       "      <td>Braund, Mr. Owen Harris</td>\n",
       "      <td>0</td>\n",
       "      <td>0.2750</td>\n",
       "      <td>1</td>\n",
       "      <td>0</td>\n",
       "      <td>A/5 21171</td>\n",
       "      <td>0.338125</td>\n",
       "      <td>NaN</td>\n",
       "      <td>0</td>\n",
       "      <td>0</td>\n",
       "      <td>1</td>\n",
       "      <td>0</td>\n",
       "      <td>0</td>\n",
       "    </tr>\n",
       "    <tr>\n",
       "      <th>1</th>\n",
       "      <td>2</td>\n",
       "      <td>1</td>\n",
       "      <td>1</td>\n",
       "      <td>Cumings, Mrs. John Bradley (Florence Briggs Th...</td>\n",
       "      <td>1</td>\n",
       "      <td>0.4750</td>\n",
       "      <td>1</td>\n",
       "      <td>0</td>\n",
       "      <td>PC 17599</td>\n",
       "      <td>0.685892</td>\n",
       "      <td>C85</td>\n",
       "      <td>1</td>\n",
       "      <td>0</td>\n",
       "      <td>1</td>\n",
       "      <td>0</td>\n",
       "      <td>2</td>\n",
       "    </tr>\n",
       "    <tr>\n",
       "      <th>2</th>\n",
       "      <td>3</td>\n",
       "      <td>1</td>\n",
       "      <td>3</td>\n",
       "      <td>Heikkinen, Miss. Laina</td>\n",
       "      <td>1</td>\n",
       "      <td>0.3250</td>\n",
       "      <td>0</td>\n",
       "      <td>0</td>\n",
       "      <td>STON/O2. 3101282</td>\n",
       "      <td>0.350727</td>\n",
       "      <td>NaN</td>\n",
       "      <td>0</td>\n",
       "      <td>0</td>\n",
       "      <td>0</td>\n",
       "      <td>1</td>\n",
       "      <td>1</td>\n",
       "    </tr>\n",
       "    <tr>\n",
       "      <th>3</th>\n",
       "      <td>4</td>\n",
       "      <td>1</td>\n",
       "      <td>1</td>\n",
       "      <td>Futrelle, Mrs. Jacques Heath (Lily May Peel)</td>\n",
       "      <td>1</td>\n",
       "      <td>0.4375</td>\n",
       "      <td>1</td>\n",
       "      <td>0</td>\n",
       "      <td>113803</td>\n",
       "      <td>0.639463</td>\n",
       "      <td>C123</td>\n",
       "      <td>0</td>\n",
       "      <td>0</td>\n",
       "      <td>1</td>\n",
       "      <td>0</td>\n",
       "      <td>2</td>\n",
       "    </tr>\n",
       "    <tr>\n",
       "      <th>4</th>\n",
       "      <td>5</td>\n",
       "      <td>0</td>\n",
       "      <td>3</td>\n",
       "      <td>Allen, Mr. William Henry</td>\n",
       "      <td>0</td>\n",
       "      <td>0.4375</td>\n",
       "      <td>0</td>\n",
       "      <td>0</td>\n",
       "      <td>373450</td>\n",
       "      <td>0.352955</td>\n",
       "      <td>NaN</td>\n",
       "      <td>0</td>\n",
       "      <td>0</td>\n",
       "      <td>0</td>\n",
       "      <td>1</td>\n",
       "      <td>0</td>\n",
       "    </tr>\n",
       "  </tbody>\n",
       "</table>\n",
       "</div>"
      ],
      "text/plain": [
       "   PassengerId  Survived  Pclass  \\\n",
       "0            1         0       3   \n",
       "1            2         1       1   \n",
       "2            3         1       3   \n",
       "3            4         1       1   \n",
       "4            5         0       3   \n",
       "\n",
       "                                                Name  Sex     Age  SibSp  \\\n",
       "0                            Braund, Mr. Owen Harris    0  0.2750      1   \n",
       "1  Cumings, Mrs. John Bradley (Florence Briggs Th...    1  0.4750      1   \n",
       "2                             Heikkinen, Miss. Laina    1  0.3250      0   \n",
       "3       Futrelle, Mrs. Jacques Heath (Lily May Peel)    1  0.4375      1   \n",
       "4                           Allen, Mr. William Henry    0  0.4375      0   \n",
       "\n",
       "   Parch            Ticket      Fare Cabin  Embarked  Age_missing  Family  \\\n",
       "0      0         A/5 21171  0.338125   NaN         0            0       1   \n",
       "1      0          PC 17599  0.685892   C85         1            0       1   \n",
       "2      0  STON/O2. 3101282  0.350727   NaN         0            0       0   \n",
       "3      0            113803  0.639463  C123         0            0       1   \n",
       "4      0            373450  0.352955   NaN         0            0       0   \n",
       "\n",
       "   Alone  Titles  \n",
       "0      0       0  \n",
       "1      0       2  \n",
       "2      1       1  \n",
       "3      0       2  \n",
       "4      1       0  "
      ]
     },
     "execution_count": 32,
     "metadata": {},
     "output_type": "execute_result"
    }
   ],
   "source": [
    "df.head()"
   ]
  },
  {
   "cell_type": "markdown",
   "metadata": {},
   "source": [
    "The next column to attend to is `Ticket`. Let's again look at what these values tend to look like and see if there's a pattern. It looks like these are mostly strings of numbers. Some of them also have an alphanumeric prefix like `A/5` or `STON/02.`. Looking at the value counts, a small handful of ticket numbers are repeated, but the vast majority only have one count.\n",
    "\n",
    "Looking at the numbers, it's difficult to say what they refer to. If they're like most ticket numbers today they're just arbitrary strings of numbers with no clear meaning. Maybe there's something to saving the prefixes though?"
   ]
  },
  {
   "cell_type": "code",
   "execution_count": 33,
   "metadata": {},
   "outputs": [
    {
     "data": {
      "text/html": [
       "<div>\n",
       "<style scoped>\n",
       "    .dataframe tbody tr th:only-of-type {\n",
       "        vertical-align: middle;\n",
       "    }\n",
       "\n",
       "    .dataframe tbody tr th {\n",
       "        vertical-align: top;\n",
       "    }\n",
       "\n",
       "    .dataframe thead th {\n",
       "        text-align: right;\n",
       "    }\n",
       "</style>\n",
       "<table border=\"1\" class=\"dataframe\">\n",
       "  <thead>\n",
       "    <tr style=\"text-align: right;\">\n",
       "      <th></th>\n",
       "      <th>Ticket</th>\n",
       "    </tr>\n",
       "  </thead>\n",
       "  <tbody>\n",
       "    <tr>\n",
       "      <th>0</th>\n",
       "      <td>A/5 21171</td>\n",
       "    </tr>\n",
       "    <tr>\n",
       "      <th>1</th>\n",
       "      <td>PC 17599</td>\n",
       "    </tr>\n",
       "    <tr>\n",
       "      <th>2</th>\n",
       "      <td>STON/O2. 3101282</td>\n",
       "    </tr>\n",
       "    <tr>\n",
       "      <th>3</th>\n",
       "      <td>113803</td>\n",
       "    </tr>\n",
       "    <tr>\n",
       "      <th>4</th>\n",
       "      <td>373450</td>\n",
       "    </tr>\n",
       "    <tr>\n",
       "      <th>5</th>\n",
       "      <td>330877</td>\n",
       "    </tr>\n",
       "    <tr>\n",
       "      <th>6</th>\n",
       "      <td>17463</td>\n",
       "    </tr>\n",
       "    <tr>\n",
       "      <th>7</th>\n",
       "      <td>349909</td>\n",
       "    </tr>\n",
       "    <tr>\n",
       "      <th>8</th>\n",
       "      <td>347742</td>\n",
       "    </tr>\n",
       "    <tr>\n",
       "      <th>9</th>\n",
       "      <td>237736</td>\n",
       "    </tr>\n",
       "  </tbody>\n",
       "</table>\n",
       "</div>"
      ],
      "text/plain": [
       "             Ticket\n",
       "0         A/5 21171\n",
       "1          PC 17599\n",
       "2  STON/O2. 3101282\n",
       "3            113803\n",
       "4            373450\n",
       "5            330877\n",
       "6             17463\n",
       "7            349909\n",
       "8            347742\n",
       "9            237736"
      ]
     },
     "execution_count": 33,
     "metadata": {},
     "output_type": "execute_result"
    }
   ],
   "source": [
    "df[['Ticket']].head(10)"
   ]
  },
  {
   "cell_type": "code",
   "execution_count": 34,
   "metadata": {},
   "outputs": [
    {
     "data": {
      "text/plain": [
       "347082      7\n",
       "CA. 2343    7\n",
       "1601        7\n",
       "3101295     6\n",
       "CA 2144     6\n",
       "           ..\n",
       "9234        1\n",
       "19988       1\n",
       "2693        1\n",
       "PC 17612    1\n",
       "370376      1\n",
       "Name: Ticket, Length: 681, dtype: int64"
      ]
     },
     "execution_count": 34,
     "metadata": {},
     "output_type": "execute_result"
    }
   ],
   "source": [
    "df['Ticket'].value_counts()"
   ]
  },
  {
   "cell_type": "markdown",
   "metadata": {},
   "source": [
    "Focusing on the idea that the prefixes might have meaning, let's split off that part of the string and print out only the rows that have those prefixes (which I determine by checking if the string split contains at least 2 elements and dropping the rest). It looks like 226 of 891 passengers had a ticket with a prefix. Of those, it looks like 60 passengers had a `PC` prefix, 27 a `C.A.` prefix, etc."
   ]
  },
  {
   "cell_type": "code",
   "execution_count": 35,
   "metadata": {},
   "outputs": [
    {
     "data": {
      "text/plain": [
       "PC            60\n",
       "C.A.          27\n",
       "STON/O        12\n",
       "A/5           10\n",
       "W./C.          9\n",
       "CA.            8\n",
       "SOTON/O.Q.     8\n",
       "A/5.           7\n",
       "SOTON/OQ       7\n",
       "STON/O2.       6\n",
       "CA             6\n",
       "F.C.C.         5\n",
       "C              5\n",
       "SC/PARIS       5\n",
       "S.O.C.         5\n",
       "Name: Ticket, dtype: int64"
      ]
     },
     "execution_count": 35,
     "metadata": {},
     "output_type": "execute_result"
    }
   ],
   "source": [
    "ticket_prefixes = df['Ticket'].str.split().apply(lambda x: x[0] if len(x) >= 2 else None)\n",
    "ticket_prefixes.value_counts().head(15)"
   ]
  },
  {
   "cell_type": "markdown",
   "metadata": {},
   "source": [
    "The prefix strings do look a little messy. There are a lot of prefixes that are probably the same (e.g. `A/5`, `A/5.`, `A./5.`, and `A.5.`). It may help to clean these up by stripping out the punctuation, and then comparing.\n",
    "\n",
    "This looks somewhat better. It looks like we have 5 values that occur more than 10 times. What I think I'll do is this: Create new category values for the top 5 most occuring prefixes, and map the rest to a new `Other` value. This will give us a new column with 6 categories. As most rows won't have a prefix, most of the time the value will be `Other`. But enough rows *do* have another value that there should be enough information in this column to use. This is *not* to say it'll do any good with improving the model, but it's something to try and see."
   ]
  },
  {
   "cell_type": "code",
   "execution_count": 36,
   "metadata": {},
   "outputs": [
    {
     "data": {
      "text/plain": [
       "PC         60\n",
       "CA         41\n",
       "A5         21\n",
       "SOTONOQ    15\n",
       "STONO      12\n",
       "WC         10\n",
       "SCPARIS     7\n",
       "A4          7\n",
       "STONO2      6\n",
       "SOC         6\n",
       "FCC         5\n",
       "C           5\n",
       "SCParis     4\n",
       "WEP         3\n",
       "SCAH        3\n",
       "Name: Ticket, dtype: int64"
      ]
     },
     "execution_count": 36,
     "metadata": {},
     "output_type": "execute_result"
    }
   ],
   "source": [
    "ticket_prefixes = ticket_prefixes.str.replace('/', '')\n",
    "ticket_prefixes = ticket_prefixes.str.replace('.', '')\n",
    "ticket_prefixes.value_counts().head(15)"
   ]
  },
  {
   "cell_type": "code",
   "execution_count": 37,
   "metadata": {},
   "outputs": [
    {
     "data": {
      "text/plain": [
       "Other      742\n",
       "PC          60\n",
       "CA          41\n",
       "A5          21\n",
       "SOTONOQ     15\n",
       "STONO       12\n",
       "Name: Prefix, dtype: int64"
      ]
     },
     "execution_count": 37,
     "metadata": {},
     "output_type": "execute_result"
    }
   ],
   "source": [
    "prefixes = ['PC', 'CA', 'A5', 'SOTONOQ', 'STONO', 'Other']\n",
    "df['Prefix'] = ticket_prefixes.apply(lambda x: x if x in prefixes else 'Other')\n",
    "df['Prefix'].value_counts()"
   ]
  },
  {
   "cell_type": "markdown",
   "metadata": {},
   "source": [
    "Let's now map these new `Prefix` values to integers and treat them as a proper category. Note by the value counts this feature is highly imbalanced, so this may be kind of a crap shoot with improving performance."
   ]
  },
  {
   "cell_type": "code",
   "execution_count": 38,
   "metadata": {},
   "outputs": [
    {
     "data": {
      "text/plain": [
       "5    742\n",
       "0     60\n",
       "1     41\n",
       "2     21\n",
       "3     15\n",
       "4     12\n",
       "Name: Prefix, dtype: int64"
      ]
     },
     "execution_count": 38,
     "metadata": {},
     "output_type": "execute_result"
    }
   ],
   "source": [
    "prefix_dict = {prefix:idx for (idx,prefix) in enumerate(prefixes)}\n",
    "df['Prefix'] = df['Prefix'].apply(lambda x: prefix_dict[x])\n",
    "df['Prefix'].value_counts()"
   ]
  },
  {
   "cell_type": "markdown",
   "metadata": {},
   "source": [
    "One other thing that might be useful to do is to keep track of ticket counts, i.e. the number of time each one ticket number occurs. To do this we'll create a continuous `Ticket_freq` column and normalize it by the max count.\n",
    "\n",
    "While the vast majority of ticket numbers only occur once, it's interesting that there are so many copies of ticket numbers. Counterfeit tickets maybe?"
   ]
  },
  {
   "cell_type": "code",
   "execution_count": 39,
   "metadata": {},
   "outputs": [],
   "source": [
    "df['Ticket_freq'] = df.groupby('Ticket')['Ticket'].transform('count')\n",
    "max_freq = df['Ticket_freq'].max()\n",
    "df['Ticket_freq'] /= max_freq"
   ]
  },
  {
   "cell_type": "code",
   "execution_count": 40,
   "metadata": {},
   "outputs": [
    {
     "data": {
      "text/html": [
       "<div>\n",
       "<style scoped>\n",
       "    .dataframe tbody tr th:only-of-type {\n",
       "        vertical-align: middle;\n",
       "    }\n",
       "\n",
       "    .dataframe tbody tr th {\n",
       "        vertical-align: top;\n",
       "    }\n",
       "\n",
       "    .dataframe thead th {\n",
       "        text-align: right;\n",
       "    }\n",
       "</style>\n",
       "<table border=\"1\" class=\"dataframe\">\n",
       "  <thead>\n",
       "    <tr style=\"text-align: right;\">\n",
       "      <th></th>\n",
       "      <th>0</th>\n",
       "      <th>1</th>\n",
       "      <th>2</th>\n",
       "      <th>3</th>\n",
       "      <th>4</th>\n",
       "    </tr>\n",
       "  </thead>\n",
       "  <tbody>\n",
       "    <tr>\n",
       "      <th>PassengerId</th>\n",
       "      <td>1</td>\n",
       "      <td>2</td>\n",
       "      <td>3</td>\n",
       "      <td>4</td>\n",
       "      <td>5</td>\n",
       "    </tr>\n",
       "    <tr>\n",
       "      <th>Survived</th>\n",
       "      <td>0</td>\n",
       "      <td>1</td>\n",
       "      <td>1</td>\n",
       "      <td>1</td>\n",
       "      <td>0</td>\n",
       "    </tr>\n",
       "    <tr>\n",
       "      <th>Pclass</th>\n",
       "      <td>3</td>\n",
       "      <td>1</td>\n",
       "      <td>3</td>\n",
       "      <td>1</td>\n",
       "      <td>3</td>\n",
       "    </tr>\n",
       "    <tr>\n",
       "      <th>Name</th>\n",
       "      <td>Braund, Mr. Owen Harris</td>\n",
       "      <td>Cumings, Mrs. John Bradley (Florence Briggs Th...</td>\n",
       "      <td>Heikkinen, Miss. Laina</td>\n",
       "      <td>Futrelle, Mrs. Jacques Heath (Lily May Peel)</td>\n",
       "      <td>Allen, Mr. William Henry</td>\n",
       "    </tr>\n",
       "    <tr>\n",
       "      <th>Sex</th>\n",
       "      <td>0</td>\n",
       "      <td>1</td>\n",
       "      <td>1</td>\n",
       "      <td>1</td>\n",
       "      <td>0</td>\n",
       "    </tr>\n",
       "    <tr>\n",
       "      <th>Age</th>\n",
       "      <td>0.275</td>\n",
       "      <td>0.475</td>\n",
       "      <td>0.325</td>\n",
       "      <td>0.4375</td>\n",
       "      <td>0.4375</td>\n",
       "    </tr>\n",
       "    <tr>\n",
       "      <th>SibSp</th>\n",
       "      <td>1</td>\n",
       "      <td>1</td>\n",
       "      <td>0</td>\n",
       "      <td>1</td>\n",
       "      <td>0</td>\n",
       "    </tr>\n",
       "    <tr>\n",
       "      <th>Parch</th>\n",
       "      <td>0</td>\n",
       "      <td>0</td>\n",
       "      <td>0</td>\n",
       "      <td>0</td>\n",
       "      <td>0</td>\n",
       "    </tr>\n",
       "    <tr>\n",
       "      <th>Ticket</th>\n",
       "      <td>A/5 21171</td>\n",
       "      <td>PC 17599</td>\n",
       "      <td>STON/O2. 3101282</td>\n",
       "      <td>113803</td>\n",
       "      <td>373450</td>\n",
       "    </tr>\n",
       "    <tr>\n",
       "      <th>Fare</th>\n",
       "      <td>0.338125</td>\n",
       "      <td>0.685892</td>\n",
       "      <td>0.350727</td>\n",
       "      <td>0.639463</td>\n",
       "      <td>0.352955</td>\n",
       "    </tr>\n",
       "    <tr>\n",
       "      <th>Cabin</th>\n",
       "      <td>NaN</td>\n",
       "      <td>C85</td>\n",
       "      <td>NaN</td>\n",
       "      <td>C123</td>\n",
       "      <td>NaN</td>\n",
       "    </tr>\n",
       "    <tr>\n",
       "      <th>Embarked</th>\n",
       "      <td>0</td>\n",
       "      <td>1</td>\n",
       "      <td>0</td>\n",
       "      <td>0</td>\n",
       "      <td>0</td>\n",
       "    </tr>\n",
       "    <tr>\n",
       "      <th>Age_missing</th>\n",
       "      <td>0</td>\n",
       "      <td>0</td>\n",
       "      <td>0</td>\n",
       "      <td>0</td>\n",
       "      <td>0</td>\n",
       "    </tr>\n",
       "    <tr>\n",
       "      <th>Family</th>\n",
       "      <td>1</td>\n",
       "      <td>1</td>\n",
       "      <td>0</td>\n",
       "      <td>1</td>\n",
       "      <td>0</td>\n",
       "    </tr>\n",
       "    <tr>\n",
       "      <th>Alone</th>\n",
       "      <td>0</td>\n",
       "      <td>0</td>\n",
       "      <td>1</td>\n",
       "      <td>0</td>\n",
       "      <td>1</td>\n",
       "    </tr>\n",
       "    <tr>\n",
       "      <th>Titles</th>\n",
       "      <td>0</td>\n",
       "      <td>2</td>\n",
       "      <td>1</td>\n",
       "      <td>2</td>\n",
       "      <td>0</td>\n",
       "    </tr>\n",
       "    <tr>\n",
       "      <th>Prefix</th>\n",
       "      <td>2</td>\n",
       "      <td>0</td>\n",
       "      <td>5</td>\n",
       "      <td>5</td>\n",
       "      <td>5</td>\n",
       "    </tr>\n",
       "    <tr>\n",
       "      <th>Ticket_freq</th>\n",
       "      <td>0.142857</td>\n",
       "      <td>0.142857</td>\n",
       "      <td>0.142857</td>\n",
       "      <td>0.285714</td>\n",
       "      <td>0.142857</td>\n",
       "    </tr>\n",
       "  </tbody>\n",
       "</table>\n",
       "</div>"
      ],
      "text/plain": [
       "                                   0  \\\n",
       "PassengerId                        1   \n",
       "Survived                           0   \n",
       "Pclass                             3   \n",
       "Name         Braund, Mr. Owen Harris   \n",
       "Sex                                0   \n",
       "Age                            0.275   \n",
       "SibSp                              1   \n",
       "Parch                              0   \n",
       "Ticket                     A/5 21171   \n",
       "Fare                        0.338125   \n",
       "Cabin                            NaN   \n",
       "Embarked                           0   \n",
       "Age_missing                        0   \n",
       "Family                             1   \n",
       "Alone                              0   \n",
       "Titles                             0   \n",
       "Prefix                             2   \n",
       "Ticket_freq                 0.142857   \n",
       "\n",
       "                                                             1  \\\n",
       "PassengerId                                                  2   \n",
       "Survived                                                     1   \n",
       "Pclass                                                       1   \n",
       "Name         Cumings, Mrs. John Bradley (Florence Briggs Th...   \n",
       "Sex                                                          1   \n",
       "Age                                                      0.475   \n",
       "SibSp                                                        1   \n",
       "Parch                                                        0   \n",
       "Ticket                                                PC 17599   \n",
       "Fare                                                  0.685892   \n",
       "Cabin                                                      C85   \n",
       "Embarked                                                     1   \n",
       "Age_missing                                                  0   \n",
       "Family                                                       1   \n",
       "Alone                                                        0   \n",
       "Titles                                                       2   \n",
       "Prefix                                                       0   \n",
       "Ticket_freq                                           0.142857   \n",
       "\n",
       "                                  2  \\\n",
       "PassengerId                       3   \n",
       "Survived                          1   \n",
       "Pclass                            3   \n",
       "Name         Heikkinen, Miss. Laina   \n",
       "Sex                               1   \n",
       "Age                           0.325   \n",
       "SibSp                             0   \n",
       "Parch                             0   \n",
       "Ticket             STON/O2. 3101282   \n",
       "Fare                       0.350727   \n",
       "Cabin                           NaN   \n",
       "Embarked                          0   \n",
       "Age_missing                       0   \n",
       "Family                            0   \n",
       "Alone                             1   \n",
       "Titles                            1   \n",
       "Prefix                            5   \n",
       "Ticket_freq                0.142857   \n",
       "\n",
       "                                                        3  \\\n",
       "PassengerId                                             4   \n",
       "Survived                                                1   \n",
       "Pclass                                                  1   \n",
       "Name         Futrelle, Mrs. Jacques Heath (Lily May Peel)   \n",
       "Sex                                                     1   \n",
       "Age                                                0.4375   \n",
       "SibSp                                                   1   \n",
       "Parch                                                   0   \n",
       "Ticket                                             113803   \n",
       "Fare                                             0.639463   \n",
       "Cabin                                                C123   \n",
       "Embarked                                                0   \n",
       "Age_missing                                             0   \n",
       "Family                                                  1   \n",
       "Alone                                                   0   \n",
       "Titles                                                  2   \n",
       "Prefix                                                  5   \n",
       "Ticket_freq                                      0.285714   \n",
       "\n",
       "                                    4  \n",
       "PassengerId                         5  \n",
       "Survived                            0  \n",
       "Pclass                              3  \n",
       "Name         Allen, Mr. William Henry  \n",
       "Sex                                 0  \n",
       "Age                            0.4375  \n",
       "SibSp                               0  \n",
       "Parch                               0  \n",
       "Ticket                         373450  \n",
       "Fare                         0.352955  \n",
       "Cabin                             NaN  \n",
       "Embarked                            0  \n",
       "Age_missing                         0  \n",
       "Family                              0  \n",
       "Alone                               1  \n",
       "Titles                              0  \n",
       "Prefix                              5  \n",
       "Ticket_freq                  0.142857  "
      ]
     },
     "execution_count": 40,
     "metadata": {},
     "output_type": "execute_result"
    }
   ],
   "source": [
    "df.head().T"
   ]
  },
  {
   "cell_type": "markdown",
   "metadata": {},
   "source": [
    "Next is `Cabin`, which like `Name` and `Ticket` appears to be a high-dimensional categorical column, but unlike those it has lots of missing values. A full 77% of the data is missing! How should you impute this one? Let's step back and see if we can extract a feature here.\n",
    "\n",
    "Printing the first few values, it looks like the cabin value is formatted letter-number, sometimes having multiple such values per passenger. Let's split these up by letter and number and see if we can spot a pattern in each separately."
   ]
  },
  {
   "cell_type": "code",
   "execution_count": 41,
   "metadata": {},
   "outputs": [
    {
     "data": {
      "text/html": [
       "<div>\n",
       "<style scoped>\n",
       "    .dataframe tbody tr th:only-of-type {\n",
       "        vertical-align: middle;\n",
       "    }\n",
       "\n",
       "    .dataframe tbody tr th {\n",
       "        vertical-align: top;\n",
       "    }\n",
       "\n",
       "    .dataframe thead th {\n",
       "        text-align: right;\n",
       "    }\n",
       "</style>\n",
       "<table border=\"1\" class=\"dataframe\">\n",
       "  <thead>\n",
       "    <tr style=\"text-align: right;\">\n",
       "      <th></th>\n",
       "      <th>Cabin</th>\n",
       "    </tr>\n",
       "  </thead>\n",
       "  <tbody>\n",
       "    <tr>\n",
       "      <th>1</th>\n",
       "      <td>C85</td>\n",
       "    </tr>\n",
       "    <tr>\n",
       "      <th>3</th>\n",
       "      <td>C123</td>\n",
       "    </tr>\n",
       "    <tr>\n",
       "      <th>6</th>\n",
       "      <td>E46</td>\n",
       "    </tr>\n",
       "    <tr>\n",
       "      <th>10</th>\n",
       "      <td>G6</td>\n",
       "    </tr>\n",
       "    <tr>\n",
       "      <th>11</th>\n",
       "      <td>C103</td>\n",
       "    </tr>\n",
       "    <tr>\n",
       "      <th>21</th>\n",
       "      <td>D56</td>\n",
       "    </tr>\n",
       "    <tr>\n",
       "      <th>23</th>\n",
       "      <td>A6</td>\n",
       "    </tr>\n",
       "    <tr>\n",
       "      <th>27</th>\n",
       "      <td>C23 C25 C27</td>\n",
       "    </tr>\n",
       "    <tr>\n",
       "      <th>31</th>\n",
       "      <td>B78</td>\n",
       "    </tr>\n",
       "    <tr>\n",
       "      <th>52</th>\n",
       "      <td>D33</td>\n",
       "    </tr>\n",
       "  </tbody>\n",
       "</table>\n",
       "</div>"
      ],
      "text/plain": [
       "          Cabin\n",
       "1           C85\n",
       "3          C123\n",
       "6           E46\n",
       "10           G6\n",
       "11         C103\n",
       "21          D56\n",
       "23           A6\n",
       "27  C23 C25 C27\n",
       "31          B78\n",
       "52          D33"
      ]
     },
     "execution_count": 41,
     "metadata": {},
     "output_type": "execute_result"
    }
   ],
   "source": [
    "df[['Cabin']].dropna().head(10)"
   ]
  },
  {
   "cell_type": "code",
   "execution_count": 42,
   "metadata": {},
   "outputs": [
    {
     "data": {
      "text/plain": [
       "NaN            687\n",
       "C23 C25 C27      4\n",
       "G6               4\n",
       "B96 B98          4\n",
       "C22 C26          3\n",
       "D                3\n",
       "F33              3\n",
       "E101             3\n",
       "F2               3\n",
       "B20              2\n",
       "Name: Cabin, dtype: int64"
      ]
     },
     "execution_count": 42,
     "metadata": {},
     "output_type": "execute_result"
    }
   ],
   "source": [
    "df['Cabin'].value_counts(dropna=False).head(10)"
   ]
  },
  {
   "cell_type": "markdown",
   "metadata": {},
   "source": [
    "Below I look at some useful statistics that might be worth looking into for creating a feature here:\n",
    "- From the printouts above it looks like some passengers have multiple cabin numbers. How frequent is this? If this is a fairly common thing, maybe we should create a feature tracking this.\n",
    "- How often does each letter prefix in the cabin numbers appear? If they occur with enough frequency, it may be worth tracking them as a feature.\n",
    "- How often does each number suffix in the cabin numbers appear? Again, if they occur enough, may be worth tracking.\n",
    "\n",
    "Looking at these one by one. First, it looks like there are only 24 rows with multiple cabin numbers. That's like 2% of the data. Probably not worth keeping track of? This may be something to come back to later in model improvement iterations.\n",
    "\n",
    "Second, looking at the value counts of the cabin prefix letters, they seem to take on 8 possible values, with most occuring with enough frequency that it may be worth tracking this.\n",
    "\n",
    "Last, looking at the value counts of the cabin suffix numbers, there seem to be a lot of these, with none occuring at least 10 time. This suggest to me that this isn't worth keeping track of."
   ]
  },
  {
   "cell_type": "code",
   "execution_count": 43,
   "metadata": {},
   "outputs": [
    {
     "data": {
      "text/plain": [
       "24"
      ]
     },
     "execution_count": 43,
     "metadata": {},
     "output_type": "execute_result"
    }
   ],
   "source": [
    "# number of rows with multiple cabins\n",
    "df['Cabin'].str.split().dropna().apply(lambda x: len(x) > 1).sum()"
   ]
  },
  {
   "cell_type": "code",
   "execution_count": 44,
   "metadata": {},
   "outputs": [
    {
     "data": {
      "text/plain": [
       "C    59\n",
       "B    47\n",
       "D    33\n",
       "E    32\n",
       "A    15\n",
       "F    13\n",
       "G     4\n",
       "T     1\n",
       "Name: Cabin, dtype: int64"
      ]
     },
     "execution_count": 44,
     "metadata": {},
     "output_type": "execute_result"
    }
   ],
   "source": [
    "df['Cabin'].str.split().dropna().apply(lambda x: x[0][0]).value_counts()"
   ]
  },
  {
   "cell_type": "code",
   "execution_count": 45,
   "metadata": {},
   "outputs": [
    {
     "data": {
      "text/plain": [
       "33     7\n",
       "6      6\n",
       "23     5\n",
       "22     5\n",
       "2      5\n",
       "      ..\n",
       "21     1\n",
       "12     1\n",
       "63     1\n",
       "14     1\n",
       "148    1\n",
       "Name: Cabin, Length: 92, dtype: int64"
      ]
     },
     "execution_count": 45,
     "metadata": {},
     "output_type": "execute_result"
    }
   ],
   "source": [
    "df['Cabin'].str.split().dropna().apply(lambda x: x[0][1:] if x[0][1:] != '' else None).value_counts()"
   ]
  },
  {
   "cell_type": "markdown",
   "metadata": {},
   "source": [
    "Let's do this. We'll create a `Level` feature that extracts and stores the cabin letter for each passenger, binned into levels. We'll map `A`,`B`,`C` to `ABC`; `D`,`E` to `DE`; `F`,`G` to `FG`; and finally map the rest to `Other`.\n",
    "\n",
    "Since there are so many missing values, we need to deal with these as well. Since we can't drop them, I'll do the next simplest thing for now: I'll create a new `Level_missing` feature to track which values are missing, and then impute the missing values in `Level` with the mode `ABC`. This *does* risk grossly overweighting the importance of `ABC` relative to other levels, but hopefully the missing column combined with a model capable of learning complex correlations will help deal with this.\n",
    "\n",
    "Finally, I'll convert these into proper categorical features by mapping them to integers, and then drop the `Cabin` column."
   ]
  },
  {
   "cell_type": "code",
   "execution_count": 46,
   "metadata": {},
   "outputs": [
    {
     "data": {
      "text/plain": [
       "C    59\n",
       "B    47\n",
       "D    33\n",
       "E    32\n",
       "A    15\n",
       "F    13\n",
       "G     4\n",
       "T     1\n",
       "Name: Level, dtype: int64"
      ]
     },
     "execution_count": 46,
     "metadata": {},
     "output_type": "execute_result"
    }
   ],
   "source": [
    "# using x[0][0] to account for possibility of multiple cabin numbers in a row, selecting first one arbitrarily\n",
    "df['Level'] = df['Cabin'].fillna(value='?').str.split().apply(lambda x: x[0][0])\n",
    "df['Level'] = df['Level'].replace('?', np.nan)\n",
    "df['Level'].value_counts()"
   ]
  },
  {
   "cell_type": "code",
   "execution_count": 47,
   "metadata": {},
   "outputs": [
    {
     "data": {
      "text/plain": [
       "1    687\n",
       "0    204\n",
       "Name: Level_missing, dtype: int64"
      ]
     },
     "execution_count": 47,
     "metadata": {},
     "output_type": "execute_result"
    }
   ],
   "source": [
    "df['Level_missing'] = df['Level'].isna().astype(int)\n",
    "df['Level_missing'].value_counts()"
   ]
  },
  {
   "cell_type": "code",
   "execution_count": 48,
   "metadata": {},
   "outputs": [
    {
     "data": {
      "text/plain": [
       "ABC    0.636364\n",
       "DE     0.753846\n",
       "FG     0.588235\n",
       "Name: Level, dtype: float64"
      ]
     },
     "execution_count": 48,
     "metadata": {},
     "output_type": "execute_result"
    }
   ],
   "source": [
    "levels = {'A': 'ABC', 'B': 'ABC', 'C': 'ABC', 'D': 'DE', 'E': 'DE', 'F': 'FG', 'G': 'FG'}\n",
    "df['Level'] = df['Cabin'].str[0].map(levels)\n",
    "df['Level'] = df['Level'].apply(lambda x: x if x in levels.values() or pd.isna(x) else 'Other')\n",
    "df['Level'][df['Survived'] == 1].dropna().value_counts() / df['Level'].dropna().value_counts()"
   ]
  },
  {
   "cell_type": "code",
   "execution_count": 49,
   "metadata": {},
   "outputs": [
    {
     "data": {
      "text/plain": [
       "ABC    809\n",
       "DE      65\n",
       "FG      17\n",
       "Name: Level, dtype: int64"
      ]
     },
     "execution_count": 49,
     "metadata": {},
     "output_type": "execute_result"
    }
   ],
   "source": [
    "mode_level = df['Level'].mode().item()\n",
    "df['Level'] = df['Level'].replace(np.nan, mode_level)\n",
    "df['Level'].value_counts()"
   ]
  },
  {
   "cell_type": "code",
   "execution_count": 50,
   "metadata": {},
   "outputs": [
    {
     "data": {
      "text/plain": [
       "2    809\n",
       "4     65\n",
       "6     17\n",
       "Name: Level, dtype: int64"
      ]
     },
     "execution_count": 50,
     "metadata": {},
     "output_type": "execute_result"
    }
   ],
   "source": [
    "level_dict = {level:idx for (idx,level) in enumerate(levels.values())}\n",
    "df['Level'] = df['Level'].apply(lambda x: level_dict[x])\n",
    "df['Level'].value_counts()"
   ]
  },
  {
   "cell_type": "code",
   "execution_count": 51,
   "metadata": {},
   "outputs": [
    {
     "data": {
      "text/html": [
       "<div>\n",
       "<style scoped>\n",
       "    .dataframe tbody tr th:only-of-type {\n",
       "        vertical-align: middle;\n",
       "    }\n",
       "\n",
       "    .dataframe tbody tr th {\n",
       "        vertical-align: top;\n",
       "    }\n",
       "\n",
       "    .dataframe thead th {\n",
       "        text-align: right;\n",
       "    }\n",
       "</style>\n",
       "<table border=\"1\" class=\"dataframe\">\n",
       "  <thead>\n",
       "    <tr style=\"text-align: right;\">\n",
       "      <th></th>\n",
       "      <th>0</th>\n",
       "      <th>1</th>\n",
       "      <th>2</th>\n",
       "      <th>3</th>\n",
       "      <th>4</th>\n",
       "    </tr>\n",
       "  </thead>\n",
       "  <tbody>\n",
       "    <tr>\n",
       "      <th>PassengerId</th>\n",
       "      <td>1</td>\n",
       "      <td>2</td>\n",
       "      <td>3</td>\n",
       "      <td>4</td>\n",
       "      <td>5</td>\n",
       "    </tr>\n",
       "    <tr>\n",
       "      <th>Survived</th>\n",
       "      <td>0</td>\n",
       "      <td>1</td>\n",
       "      <td>1</td>\n",
       "      <td>1</td>\n",
       "      <td>0</td>\n",
       "    </tr>\n",
       "    <tr>\n",
       "      <th>Pclass</th>\n",
       "      <td>3</td>\n",
       "      <td>1</td>\n",
       "      <td>3</td>\n",
       "      <td>1</td>\n",
       "      <td>3</td>\n",
       "    </tr>\n",
       "    <tr>\n",
       "      <th>Name</th>\n",
       "      <td>Braund, Mr. Owen Harris</td>\n",
       "      <td>Cumings, Mrs. John Bradley (Florence Briggs Th...</td>\n",
       "      <td>Heikkinen, Miss. Laina</td>\n",
       "      <td>Futrelle, Mrs. Jacques Heath (Lily May Peel)</td>\n",
       "      <td>Allen, Mr. William Henry</td>\n",
       "    </tr>\n",
       "    <tr>\n",
       "      <th>Sex</th>\n",
       "      <td>0</td>\n",
       "      <td>1</td>\n",
       "      <td>1</td>\n",
       "      <td>1</td>\n",
       "      <td>0</td>\n",
       "    </tr>\n",
       "    <tr>\n",
       "      <th>Age</th>\n",
       "      <td>0.275</td>\n",
       "      <td>0.475</td>\n",
       "      <td>0.325</td>\n",
       "      <td>0.4375</td>\n",
       "      <td>0.4375</td>\n",
       "    </tr>\n",
       "    <tr>\n",
       "      <th>SibSp</th>\n",
       "      <td>1</td>\n",
       "      <td>1</td>\n",
       "      <td>0</td>\n",
       "      <td>1</td>\n",
       "      <td>0</td>\n",
       "    </tr>\n",
       "    <tr>\n",
       "      <th>Parch</th>\n",
       "      <td>0</td>\n",
       "      <td>0</td>\n",
       "      <td>0</td>\n",
       "      <td>0</td>\n",
       "      <td>0</td>\n",
       "    </tr>\n",
       "    <tr>\n",
       "      <th>Ticket</th>\n",
       "      <td>A/5 21171</td>\n",
       "      <td>PC 17599</td>\n",
       "      <td>STON/O2. 3101282</td>\n",
       "      <td>113803</td>\n",
       "      <td>373450</td>\n",
       "    </tr>\n",
       "    <tr>\n",
       "      <th>Fare</th>\n",
       "      <td>0.338125</td>\n",
       "      <td>0.685892</td>\n",
       "      <td>0.350727</td>\n",
       "      <td>0.639463</td>\n",
       "      <td>0.352955</td>\n",
       "    </tr>\n",
       "    <tr>\n",
       "      <th>Cabin</th>\n",
       "      <td>NaN</td>\n",
       "      <td>C85</td>\n",
       "      <td>NaN</td>\n",
       "      <td>C123</td>\n",
       "      <td>NaN</td>\n",
       "    </tr>\n",
       "    <tr>\n",
       "      <th>Embarked</th>\n",
       "      <td>0</td>\n",
       "      <td>1</td>\n",
       "      <td>0</td>\n",
       "      <td>0</td>\n",
       "      <td>0</td>\n",
       "    </tr>\n",
       "    <tr>\n",
       "      <th>Age_missing</th>\n",
       "      <td>0</td>\n",
       "      <td>0</td>\n",
       "      <td>0</td>\n",
       "      <td>0</td>\n",
       "      <td>0</td>\n",
       "    </tr>\n",
       "    <tr>\n",
       "      <th>Family</th>\n",
       "      <td>1</td>\n",
       "      <td>1</td>\n",
       "      <td>0</td>\n",
       "      <td>1</td>\n",
       "      <td>0</td>\n",
       "    </tr>\n",
       "    <tr>\n",
       "      <th>Alone</th>\n",
       "      <td>0</td>\n",
       "      <td>0</td>\n",
       "      <td>1</td>\n",
       "      <td>0</td>\n",
       "      <td>1</td>\n",
       "    </tr>\n",
       "    <tr>\n",
       "      <th>Titles</th>\n",
       "      <td>0</td>\n",
       "      <td>2</td>\n",
       "      <td>1</td>\n",
       "      <td>2</td>\n",
       "      <td>0</td>\n",
       "    </tr>\n",
       "    <tr>\n",
       "      <th>Prefix</th>\n",
       "      <td>2</td>\n",
       "      <td>0</td>\n",
       "      <td>5</td>\n",
       "      <td>5</td>\n",
       "      <td>5</td>\n",
       "    </tr>\n",
       "    <tr>\n",
       "      <th>Ticket_freq</th>\n",
       "      <td>0.142857</td>\n",
       "      <td>0.142857</td>\n",
       "      <td>0.142857</td>\n",
       "      <td>0.285714</td>\n",
       "      <td>0.142857</td>\n",
       "    </tr>\n",
       "    <tr>\n",
       "      <th>Level</th>\n",
       "      <td>2</td>\n",
       "      <td>2</td>\n",
       "      <td>2</td>\n",
       "      <td>2</td>\n",
       "      <td>2</td>\n",
       "    </tr>\n",
       "    <tr>\n",
       "      <th>Level_missing</th>\n",
       "      <td>1</td>\n",
       "      <td>0</td>\n",
       "      <td>1</td>\n",
       "      <td>0</td>\n",
       "      <td>1</td>\n",
       "    </tr>\n",
       "  </tbody>\n",
       "</table>\n",
       "</div>"
      ],
      "text/plain": [
       "                                     0  \\\n",
       "PassengerId                          1   \n",
       "Survived                             0   \n",
       "Pclass                               3   \n",
       "Name           Braund, Mr. Owen Harris   \n",
       "Sex                                  0   \n",
       "Age                              0.275   \n",
       "SibSp                                1   \n",
       "Parch                                0   \n",
       "Ticket                       A/5 21171   \n",
       "Fare                          0.338125   \n",
       "Cabin                              NaN   \n",
       "Embarked                             0   \n",
       "Age_missing                          0   \n",
       "Family                               1   \n",
       "Alone                                0   \n",
       "Titles                               0   \n",
       "Prefix                               2   \n",
       "Ticket_freq                   0.142857   \n",
       "Level                                2   \n",
       "Level_missing                        1   \n",
       "\n",
       "                                                               1  \\\n",
       "PassengerId                                                    2   \n",
       "Survived                                                       1   \n",
       "Pclass                                                         1   \n",
       "Name           Cumings, Mrs. John Bradley (Florence Briggs Th...   \n",
       "Sex                                                            1   \n",
       "Age                                                        0.475   \n",
       "SibSp                                                          1   \n",
       "Parch                                                          0   \n",
       "Ticket                                                  PC 17599   \n",
       "Fare                                                    0.685892   \n",
       "Cabin                                                        C85   \n",
       "Embarked                                                       1   \n",
       "Age_missing                                                    0   \n",
       "Family                                                         1   \n",
       "Alone                                                          0   \n",
       "Titles                                                         2   \n",
       "Prefix                                                         0   \n",
       "Ticket_freq                                             0.142857   \n",
       "Level                                                          2   \n",
       "Level_missing                                                  0   \n",
       "\n",
       "                                    2  \\\n",
       "PassengerId                         3   \n",
       "Survived                            1   \n",
       "Pclass                              3   \n",
       "Name           Heikkinen, Miss. Laina   \n",
       "Sex                                 1   \n",
       "Age                             0.325   \n",
       "SibSp                               0   \n",
       "Parch                               0   \n",
       "Ticket               STON/O2. 3101282   \n",
       "Fare                         0.350727   \n",
       "Cabin                             NaN   \n",
       "Embarked                            0   \n",
       "Age_missing                         0   \n",
       "Family                              0   \n",
       "Alone                               1   \n",
       "Titles                              1   \n",
       "Prefix                              5   \n",
       "Ticket_freq                  0.142857   \n",
       "Level                               2   \n",
       "Level_missing                       1   \n",
       "\n",
       "                                                          3  \\\n",
       "PassengerId                                               4   \n",
       "Survived                                                  1   \n",
       "Pclass                                                    1   \n",
       "Name           Futrelle, Mrs. Jacques Heath (Lily May Peel)   \n",
       "Sex                                                       1   \n",
       "Age                                                  0.4375   \n",
       "SibSp                                                     1   \n",
       "Parch                                                     0   \n",
       "Ticket                                               113803   \n",
       "Fare                                               0.639463   \n",
       "Cabin                                                  C123   \n",
       "Embarked                                                  0   \n",
       "Age_missing                                               0   \n",
       "Family                                                    1   \n",
       "Alone                                                     0   \n",
       "Titles                                                    2   \n",
       "Prefix                                                    5   \n",
       "Ticket_freq                                        0.285714   \n",
       "Level                                                     2   \n",
       "Level_missing                                             0   \n",
       "\n",
       "                                      4  \n",
       "PassengerId                           5  \n",
       "Survived                              0  \n",
       "Pclass                                3  \n",
       "Name           Allen, Mr. William Henry  \n",
       "Sex                                   0  \n",
       "Age                              0.4375  \n",
       "SibSp                                 0  \n",
       "Parch                                 0  \n",
       "Ticket                           373450  \n",
       "Fare                           0.352955  \n",
       "Cabin                               NaN  \n",
       "Embarked                              0  \n",
       "Age_missing                           0  \n",
       "Family                                0  \n",
       "Alone                                 1  \n",
       "Titles                                0  \n",
       "Prefix                                5  \n",
       "Ticket_freq                    0.142857  \n",
       "Level                                 2  \n",
       "Level_missing                         1  "
      ]
     },
     "execution_count": 51,
     "metadata": {},
     "output_type": "execute_result"
    }
   ],
   "source": [
    "df.head().T"
   ]
  },
  {
   "cell_type": "markdown",
   "metadata": {},
   "source": [
    "## Model Training"
   ]
  },
  {
   "cell_type": "markdown",
   "metadata": {},
   "source": [
    "Now we're good to go. We've feature engineered all of our original input columns. We have an array of numerical data that we can do machine learning with.\n",
    "\n",
    "Let's start by looking at what happens if we train a model with the new features, but don't do any one-hot encoding of the categorical features."
   ]
  },
  {
   "cell_type": "code",
   "execution_count": 52,
   "metadata": {},
   "outputs": [
    {
     "data": {
      "text/plain": [
       "(891, 15)"
      ]
     },
     "execution_count": 52,
     "metadata": {},
     "output_type": "execute_result"
    }
   ],
   "source": [
    "no_onehot_columns = [\n",
    "    'Pclass', 'Sex', 'Age', 'SibSp', 'Parch', 'Fare', 'Embarked', 'Age_missing', 'Family', 'Alone', 'Titles', \n",
    "    'Prefix', 'Ticket_freq', 'Level', 'Level_missing'\n",
    "]\n",
    "\n",
    "X_no_onehot = df[no_onehot_columns].values\n",
    "X_no_onehot.shape"
   ]
  },
  {
   "cell_type": "code",
   "execution_count": 53,
   "metadata": {},
   "outputs": [],
   "source": [
    "X_train_no_onehot = X_no_onehot[idx_train]\n",
    "X_test_no_onehot = X_no_onehot[idx_test]"
   ]
  },
  {
   "cell_type": "code",
   "execution_count": 54,
   "metadata": {},
   "outputs": [
    {
     "name": "stdout",
     "output_type": "stream",
     "text": [
      "accuracy:  0.8324\n",
      "precision:  0.7465\n",
      "recall:  0.8154\n",
      "f1:  0.7794\n",
      "auc:  0.8287\n",
      "confusion matrix:\n",
      " [[96 18]\n",
      " [12 53]]\n"
     ]
    }
   ],
   "source": [
    "rf_model_no_onehot = RandomForestClassifier(n_estimators=100, random_state=seed)\n",
    "rf_model_no_onehot.fit(X_train_no_onehot, y_train)\n",
    "\n",
    "yhat = rf_model_no_onehot.predict(X_test_no_onehot)\n",
    "get_scores(y_test, yhat)"
   ]
  },
  {
   "cell_type": "code",
   "execution_count": 55,
   "metadata": {},
   "outputs": [
    {
     "name": "stdout",
     "output_type": "stream",
     "text": [
      "accuracy:  0.8212\n",
      "precision:  0.7619\n",
      "recall:  0.7385\n",
      "f1:  0.75\n",
      "auc:  0.8034\n",
      "confusion matrix:\n",
      " [[99 15]\n",
      " [17 48]]\n"
     ]
    }
   ],
   "source": [
    "lr_model_no_onehot = LogisticRegressionCV(random_state=seed)\n",
    "lr_model_no_onehot.fit(X_train_no_onehot, y_train)\n",
    "\n",
    "yhat = lr_model_no_onehot.predict(X_test_no_onehot)\n",
    "get_scores(y_test, yhat)"
   ]
  },
  {
   "cell_type": "markdown",
   "metadata": {},
   "source": [
    "Looks like we're already doing a little better with all the new features. We're now over 83% accuracy and almost 78% F1.\n",
    "\n",
    "Let's now instead treat the categorical features as we \"should\", by one-hot encoding them first. Recall that **one-hot encoding** is a way of converting one feature of k categories `A1, A2, ..., Ak` into k features of 2 categories `is_A1, is_A2, ..., is_A3`. Essentially it creates a series of binary indicator that looks for whether a particular category is present, each being its own feature.\n",
    "\n",
    "I'll only one-hot encode the features we'd already decided were categorical, and that contain more than 2 categories. Note that if a feature only contains 2 categories you don't need to one-hot encode it. Why?\n",
    "\n",
    "We can easily one-hot encode features by using the `pd.get_dummies` function, passing in the columns that we want to one-hot encode, i.e. the categorical columns with more than 2 categories."
   ]
  },
  {
   "cell_type": "code",
   "execution_count": 56,
   "metadata": {},
   "outputs": [
    {
     "data": {
      "text/html": [
       "<div>\n",
       "<style scoped>\n",
       "    .dataframe tbody tr th:only-of-type {\n",
       "        vertical-align: middle;\n",
       "    }\n",
       "\n",
       "    .dataframe tbody tr th {\n",
       "        vertical-align: top;\n",
       "    }\n",
       "\n",
       "    .dataframe thead th {\n",
       "        text-align: right;\n",
       "    }\n",
       "</style>\n",
       "<table border=\"1\" class=\"dataframe\">\n",
       "  <thead>\n",
       "    <tr style=\"text-align: right;\">\n",
       "      <th></th>\n",
       "      <th>0</th>\n",
       "      <th>1</th>\n",
       "      <th>2</th>\n",
       "      <th>3</th>\n",
       "      <th>4</th>\n",
       "    </tr>\n",
       "  </thead>\n",
       "  <tbody>\n",
       "    <tr>\n",
       "      <th>PassengerId</th>\n",
       "      <td>1</td>\n",
       "      <td>2</td>\n",
       "      <td>3</td>\n",
       "      <td>4</td>\n",
       "      <td>5</td>\n",
       "    </tr>\n",
       "    <tr>\n",
       "      <th>Survived</th>\n",
       "      <td>0</td>\n",
       "      <td>1</td>\n",
       "      <td>1</td>\n",
       "      <td>1</td>\n",
       "      <td>0</td>\n",
       "    </tr>\n",
       "    <tr>\n",
       "      <th>Name</th>\n",
       "      <td>Braund, Mr. Owen Harris</td>\n",
       "      <td>Cumings, Mrs. John Bradley (Florence Briggs Th...</td>\n",
       "      <td>Heikkinen, Miss. Laina</td>\n",
       "      <td>Futrelle, Mrs. Jacques Heath (Lily May Peel)</td>\n",
       "      <td>Allen, Mr. William Henry</td>\n",
       "    </tr>\n",
       "    <tr>\n",
       "      <th>Sex</th>\n",
       "      <td>0</td>\n",
       "      <td>1</td>\n",
       "      <td>1</td>\n",
       "      <td>1</td>\n",
       "      <td>0</td>\n",
       "    </tr>\n",
       "    <tr>\n",
       "      <th>Age</th>\n",
       "      <td>0.275</td>\n",
       "      <td>0.475</td>\n",
       "      <td>0.325</td>\n",
       "      <td>0.4375</td>\n",
       "      <td>0.4375</td>\n",
       "    </tr>\n",
       "    <tr>\n",
       "      <th>SibSp</th>\n",
       "      <td>1</td>\n",
       "      <td>1</td>\n",
       "      <td>0</td>\n",
       "      <td>1</td>\n",
       "      <td>0</td>\n",
       "    </tr>\n",
       "    <tr>\n",
       "      <th>Parch</th>\n",
       "      <td>0</td>\n",
       "      <td>0</td>\n",
       "      <td>0</td>\n",
       "      <td>0</td>\n",
       "      <td>0</td>\n",
       "    </tr>\n",
       "    <tr>\n",
       "      <th>Ticket</th>\n",
       "      <td>A/5 21171</td>\n",
       "      <td>PC 17599</td>\n",
       "      <td>STON/O2. 3101282</td>\n",
       "      <td>113803</td>\n",
       "      <td>373450</td>\n",
       "    </tr>\n",
       "    <tr>\n",
       "      <th>Fare</th>\n",
       "      <td>0.338125</td>\n",
       "      <td>0.685892</td>\n",
       "      <td>0.350727</td>\n",
       "      <td>0.639463</td>\n",
       "      <td>0.352955</td>\n",
       "    </tr>\n",
       "    <tr>\n",
       "      <th>Cabin</th>\n",
       "      <td>NaN</td>\n",
       "      <td>C85</td>\n",
       "      <td>NaN</td>\n",
       "      <td>C123</td>\n",
       "      <td>NaN</td>\n",
       "    </tr>\n",
       "    <tr>\n",
       "      <th>Age_missing</th>\n",
       "      <td>0</td>\n",
       "      <td>0</td>\n",
       "      <td>0</td>\n",
       "      <td>0</td>\n",
       "      <td>0</td>\n",
       "    </tr>\n",
       "    <tr>\n",
       "      <th>Family</th>\n",
       "      <td>1</td>\n",
       "      <td>1</td>\n",
       "      <td>0</td>\n",
       "      <td>1</td>\n",
       "      <td>0</td>\n",
       "    </tr>\n",
       "    <tr>\n",
       "      <th>Alone</th>\n",
       "      <td>0</td>\n",
       "      <td>0</td>\n",
       "      <td>1</td>\n",
       "      <td>0</td>\n",
       "      <td>1</td>\n",
       "    </tr>\n",
       "    <tr>\n",
       "      <th>Ticket_freq</th>\n",
       "      <td>0.142857</td>\n",
       "      <td>0.142857</td>\n",
       "      <td>0.142857</td>\n",
       "      <td>0.285714</td>\n",
       "      <td>0.142857</td>\n",
       "    </tr>\n",
       "    <tr>\n",
       "      <th>Level_missing</th>\n",
       "      <td>1</td>\n",
       "      <td>0</td>\n",
       "      <td>1</td>\n",
       "      <td>0</td>\n",
       "      <td>1</td>\n",
       "    </tr>\n",
       "    <tr>\n",
       "      <th>Pclass_1</th>\n",
       "      <td>0</td>\n",
       "      <td>1</td>\n",
       "      <td>0</td>\n",
       "      <td>1</td>\n",
       "      <td>0</td>\n",
       "    </tr>\n",
       "    <tr>\n",
       "      <th>Pclass_2</th>\n",
       "      <td>0</td>\n",
       "      <td>0</td>\n",
       "      <td>0</td>\n",
       "      <td>0</td>\n",
       "      <td>0</td>\n",
       "    </tr>\n",
       "    <tr>\n",
       "      <th>Pclass_3</th>\n",
       "      <td>1</td>\n",
       "      <td>0</td>\n",
       "      <td>1</td>\n",
       "      <td>0</td>\n",
       "      <td>1</td>\n",
       "    </tr>\n",
       "    <tr>\n",
       "      <th>Embarked_0</th>\n",
       "      <td>1</td>\n",
       "      <td>0</td>\n",
       "      <td>1</td>\n",
       "      <td>1</td>\n",
       "      <td>1</td>\n",
       "    </tr>\n",
       "    <tr>\n",
       "      <th>Embarked_1</th>\n",
       "      <td>0</td>\n",
       "      <td>1</td>\n",
       "      <td>0</td>\n",
       "      <td>0</td>\n",
       "      <td>0</td>\n",
       "    </tr>\n",
       "    <tr>\n",
       "      <th>Embarked_2</th>\n",
       "      <td>0</td>\n",
       "      <td>0</td>\n",
       "      <td>0</td>\n",
       "      <td>0</td>\n",
       "      <td>0</td>\n",
       "    </tr>\n",
       "    <tr>\n",
       "      <th>Titles_0</th>\n",
       "      <td>1</td>\n",
       "      <td>0</td>\n",
       "      <td>0</td>\n",
       "      <td>0</td>\n",
       "      <td>1</td>\n",
       "    </tr>\n",
       "    <tr>\n",
       "      <th>Titles_1</th>\n",
       "      <td>0</td>\n",
       "      <td>0</td>\n",
       "      <td>1</td>\n",
       "      <td>0</td>\n",
       "      <td>0</td>\n",
       "    </tr>\n",
       "    <tr>\n",
       "      <th>Titles_2</th>\n",
       "      <td>0</td>\n",
       "      <td>1</td>\n",
       "      <td>0</td>\n",
       "      <td>1</td>\n",
       "      <td>0</td>\n",
       "    </tr>\n",
       "    <tr>\n",
       "      <th>Titles_3</th>\n",
       "      <td>0</td>\n",
       "      <td>0</td>\n",
       "      <td>0</td>\n",
       "      <td>0</td>\n",
       "      <td>0</td>\n",
       "    </tr>\n",
       "    <tr>\n",
       "      <th>Titles_4</th>\n",
       "      <td>0</td>\n",
       "      <td>0</td>\n",
       "      <td>0</td>\n",
       "      <td>0</td>\n",
       "      <td>0</td>\n",
       "    </tr>\n",
       "    <tr>\n",
       "      <th>Prefix_0</th>\n",
       "      <td>0</td>\n",
       "      <td>1</td>\n",
       "      <td>0</td>\n",
       "      <td>0</td>\n",
       "      <td>0</td>\n",
       "    </tr>\n",
       "    <tr>\n",
       "      <th>Prefix_1</th>\n",
       "      <td>0</td>\n",
       "      <td>0</td>\n",
       "      <td>0</td>\n",
       "      <td>0</td>\n",
       "      <td>0</td>\n",
       "    </tr>\n",
       "    <tr>\n",
       "      <th>Prefix_2</th>\n",
       "      <td>1</td>\n",
       "      <td>0</td>\n",
       "      <td>0</td>\n",
       "      <td>0</td>\n",
       "      <td>0</td>\n",
       "    </tr>\n",
       "    <tr>\n",
       "      <th>Prefix_3</th>\n",
       "      <td>0</td>\n",
       "      <td>0</td>\n",
       "      <td>0</td>\n",
       "      <td>0</td>\n",
       "      <td>0</td>\n",
       "    </tr>\n",
       "    <tr>\n",
       "      <th>Prefix_4</th>\n",
       "      <td>0</td>\n",
       "      <td>0</td>\n",
       "      <td>0</td>\n",
       "      <td>0</td>\n",
       "      <td>0</td>\n",
       "    </tr>\n",
       "    <tr>\n",
       "      <th>Prefix_5</th>\n",
       "      <td>0</td>\n",
       "      <td>0</td>\n",
       "      <td>1</td>\n",
       "      <td>1</td>\n",
       "      <td>1</td>\n",
       "    </tr>\n",
       "    <tr>\n",
       "      <th>Level_2</th>\n",
       "      <td>1</td>\n",
       "      <td>1</td>\n",
       "      <td>1</td>\n",
       "      <td>1</td>\n",
       "      <td>1</td>\n",
       "    </tr>\n",
       "    <tr>\n",
       "      <th>Level_4</th>\n",
       "      <td>0</td>\n",
       "      <td>0</td>\n",
       "      <td>0</td>\n",
       "      <td>0</td>\n",
       "      <td>0</td>\n",
       "    </tr>\n",
       "    <tr>\n",
       "      <th>Level_6</th>\n",
       "      <td>0</td>\n",
       "      <td>0</td>\n",
       "      <td>0</td>\n",
       "      <td>0</td>\n",
       "      <td>0</td>\n",
       "    </tr>\n",
       "  </tbody>\n",
       "</table>\n",
       "</div>"
      ],
      "text/plain": [
       "                                     0  \\\n",
       "PassengerId                          1   \n",
       "Survived                             0   \n",
       "Name           Braund, Mr. Owen Harris   \n",
       "Sex                                  0   \n",
       "Age                              0.275   \n",
       "SibSp                                1   \n",
       "Parch                                0   \n",
       "Ticket                       A/5 21171   \n",
       "Fare                          0.338125   \n",
       "Cabin                              NaN   \n",
       "Age_missing                          0   \n",
       "Family                               1   \n",
       "Alone                                0   \n",
       "Ticket_freq                   0.142857   \n",
       "Level_missing                        1   \n",
       "Pclass_1                             0   \n",
       "Pclass_2                             0   \n",
       "Pclass_3                             1   \n",
       "Embarked_0                           1   \n",
       "Embarked_1                           0   \n",
       "Embarked_2                           0   \n",
       "Titles_0                             1   \n",
       "Titles_1                             0   \n",
       "Titles_2                             0   \n",
       "Titles_3                             0   \n",
       "Titles_4                             0   \n",
       "Prefix_0                             0   \n",
       "Prefix_1                             0   \n",
       "Prefix_2                             1   \n",
       "Prefix_3                             0   \n",
       "Prefix_4                             0   \n",
       "Prefix_5                             0   \n",
       "Level_2                              1   \n",
       "Level_4                              0   \n",
       "Level_6                              0   \n",
       "\n",
       "                                                               1  \\\n",
       "PassengerId                                                    2   \n",
       "Survived                                                       1   \n",
       "Name           Cumings, Mrs. John Bradley (Florence Briggs Th...   \n",
       "Sex                                                            1   \n",
       "Age                                                        0.475   \n",
       "SibSp                                                          1   \n",
       "Parch                                                          0   \n",
       "Ticket                                                  PC 17599   \n",
       "Fare                                                    0.685892   \n",
       "Cabin                                                        C85   \n",
       "Age_missing                                                    0   \n",
       "Family                                                         1   \n",
       "Alone                                                          0   \n",
       "Ticket_freq                                             0.142857   \n",
       "Level_missing                                                  0   \n",
       "Pclass_1                                                       1   \n",
       "Pclass_2                                                       0   \n",
       "Pclass_3                                                       0   \n",
       "Embarked_0                                                     0   \n",
       "Embarked_1                                                     1   \n",
       "Embarked_2                                                     0   \n",
       "Titles_0                                                       0   \n",
       "Titles_1                                                       0   \n",
       "Titles_2                                                       1   \n",
       "Titles_3                                                       0   \n",
       "Titles_4                                                       0   \n",
       "Prefix_0                                                       1   \n",
       "Prefix_1                                                       0   \n",
       "Prefix_2                                                       0   \n",
       "Prefix_3                                                       0   \n",
       "Prefix_4                                                       0   \n",
       "Prefix_5                                                       0   \n",
       "Level_2                                                        1   \n",
       "Level_4                                                        0   \n",
       "Level_6                                                        0   \n",
       "\n",
       "                                    2  \\\n",
       "PassengerId                         3   \n",
       "Survived                            1   \n",
       "Name           Heikkinen, Miss. Laina   \n",
       "Sex                                 1   \n",
       "Age                             0.325   \n",
       "SibSp                               0   \n",
       "Parch                               0   \n",
       "Ticket               STON/O2. 3101282   \n",
       "Fare                         0.350727   \n",
       "Cabin                             NaN   \n",
       "Age_missing                         0   \n",
       "Family                              0   \n",
       "Alone                               1   \n",
       "Ticket_freq                  0.142857   \n",
       "Level_missing                       1   \n",
       "Pclass_1                            0   \n",
       "Pclass_2                            0   \n",
       "Pclass_3                            1   \n",
       "Embarked_0                          1   \n",
       "Embarked_1                          0   \n",
       "Embarked_2                          0   \n",
       "Titles_0                            0   \n",
       "Titles_1                            1   \n",
       "Titles_2                            0   \n",
       "Titles_3                            0   \n",
       "Titles_4                            0   \n",
       "Prefix_0                            0   \n",
       "Prefix_1                            0   \n",
       "Prefix_2                            0   \n",
       "Prefix_3                            0   \n",
       "Prefix_4                            0   \n",
       "Prefix_5                            1   \n",
       "Level_2                             1   \n",
       "Level_4                             0   \n",
       "Level_6                             0   \n",
       "\n",
       "                                                          3  \\\n",
       "PassengerId                                               4   \n",
       "Survived                                                  1   \n",
       "Name           Futrelle, Mrs. Jacques Heath (Lily May Peel)   \n",
       "Sex                                                       1   \n",
       "Age                                                  0.4375   \n",
       "SibSp                                                     1   \n",
       "Parch                                                     0   \n",
       "Ticket                                               113803   \n",
       "Fare                                               0.639463   \n",
       "Cabin                                                  C123   \n",
       "Age_missing                                               0   \n",
       "Family                                                    1   \n",
       "Alone                                                     0   \n",
       "Ticket_freq                                        0.285714   \n",
       "Level_missing                                             0   \n",
       "Pclass_1                                                  1   \n",
       "Pclass_2                                                  0   \n",
       "Pclass_3                                                  0   \n",
       "Embarked_0                                                1   \n",
       "Embarked_1                                                0   \n",
       "Embarked_2                                                0   \n",
       "Titles_0                                                  0   \n",
       "Titles_1                                                  0   \n",
       "Titles_2                                                  1   \n",
       "Titles_3                                                  0   \n",
       "Titles_4                                                  0   \n",
       "Prefix_0                                                  0   \n",
       "Prefix_1                                                  0   \n",
       "Prefix_2                                                  0   \n",
       "Prefix_3                                                  0   \n",
       "Prefix_4                                                  0   \n",
       "Prefix_5                                                  1   \n",
       "Level_2                                                   1   \n",
       "Level_4                                                   0   \n",
       "Level_6                                                   0   \n",
       "\n",
       "                                      4  \n",
       "PassengerId                           5  \n",
       "Survived                              0  \n",
       "Name           Allen, Mr. William Henry  \n",
       "Sex                                   0  \n",
       "Age                              0.4375  \n",
       "SibSp                                 0  \n",
       "Parch                                 0  \n",
       "Ticket                           373450  \n",
       "Fare                           0.352955  \n",
       "Cabin                               NaN  \n",
       "Age_missing                           0  \n",
       "Family                                0  \n",
       "Alone                                 1  \n",
       "Ticket_freq                    0.142857  \n",
       "Level_missing                         1  \n",
       "Pclass_1                              0  \n",
       "Pclass_2                              0  \n",
       "Pclass_3                              1  \n",
       "Embarked_0                            1  \n",
       "Embarked_1                            0  \n",
       "Embarked_2                            0  \n",
       "Titles_0                              1  \n",
       "Titles_1                              0  \n",
       "Titles_2                              0  \n",
       "Titles_3                              0  \n",
       "Titles_4                              0  \n",
       "Prefix_0                              0  \n",
       "Prefix_1                              0  \n",
       "Prefix_2                              0  \n",
       "Prefix_3                              0  \n",
       "Prefix_4                              0  \n",
       "Prefix_5                              1  \n",
       "Level_2                               1  \n",
       "Level_4                               0  \n",
       "Level_6                               0  "
      ]
     },
     "execution_count": 56,
     "metadata": {},
     "output_type": "execute_result"
    }
   ],
   "source": [
    "df_one_hot = pd.get_dummies(df, columns=['Pclass', 'Embarked', 'Titles', 'Prefix', 'Level'])\n",
    "df_one_hot.head().T"
   ]
  },
  {
   "cell_type": "code",
   "execution_count": 57,
   "metadata": {},
   "outputs": [
    {
     "data": {
      "text/plain": [
       "(891, 30)"
      ]
     },
     "execution_count": 57,
     "metadata": {},
     "output_type": "execute_result"
    }
   ],
   "source": [
    "one_hot_columns = [\n",
    "    'Sex', 'Age', 'SibSp', 'Parch', 'Fare', 'Age_missing', 'Family', 'Alone', 'Ticket_freq', 'Level_missing', \n",
    "    'Pclass_1', 'Pclass_2', 'Pclass_3', 'Embarked_0', 'Embarked_1', 'Embarked_2', 'Titles_0', 'Titles_1', \n",
    "    'Titles_2', 'Titles_3', 'Titles_4', 'Prefix_0', 'Prefix_1', 'Prefix_2', 'Prefix_3', 'Prefix_4', 'Prefix_5', \n",
    "    'Level_2', 'Level_4', 'Level_6'\n",
    "]\n",
    "\n",
    "X_onehot = df_one_hot[one_hot_columns].values\n",
    "X_onehot.shape"
   ]
  },
  {
   "cell_type": "code",
   "execution_count": 58,
   "metadata": {},
   "outputs": [],
   "source": [
    "X_train_onehot = X_onehot[idx_train]\n",
    "X_test_onehot = X_onehot[idx_test]"
   ]
  },
  {
   "cell_type": "markdown",
   "metadata": {},
   "source": [
    "Let's train the same models now and see how we do."
   ]
  },
  {
   "cell_type": "code",
   "execution_count": 59,
   "metadata": {},
   "outputs": [
    {
     "name": "stdout",
     "output_type": "stream",
     "text": [
      "accuracy:  0.8547\n",
      "precision:  0.791\n",
      "recall:  0.8154\n",
      "f1:  0.803\n",
      "auc:  0.8463\n",
      "confusion matrix:\n",
      " [[100  14]\n",
      " [ 12  53]]\n"
     ]
    }
   ],
   "source": [
    "rf_model_onehot = RandomForestClassifier(n_estimators=100, random_state=seed)\n",
    "rf_model_onehot.fit(X_train_onehot, y_train)\n",
    "\n",
    "yhat = rf_model_onehot.predict(X_test_onehot)\n",
    "get_scores(y_test, yhat)"
   ]
  },
  {
   "cell_type": "code",
   "execution_count": 60,
   "metadata": {},
   "outputs": [
    {
     "name": "stdout",
     "output_type": "stream",
     "text": [
      "accuracy:  0.8603\n",
      "precision:  0.8125\n",
      "recall:  0.8\n",
      "f1:  0.8062\n",
      "auc:  0.8474\n",
      "confusion matrix:\n",
      " [[102  12]\n",
      " [ 13  52]]\n"
     ]
    }
   ],
   "source": [
    "lr_model_onehot = LogisticRegressionCV(random_state=seed)\n",
    "lr_model_onehot.fit(X_train_onehot, y_train)\n",
    "\n",
    "yhat = lr_model_onehot.predict(X_test_onehot)\n",
    "get_scores(y_test, yhat)"
   ]
  },
  {
   "cell_type": "markdown",
   "metadata": {},
   "source": [
    "It looks like we've improved still more, with the best model having an accuracy above 86% and an F1 above 80%.\n",
    "\n",
    "Since we can, let's also take a look at the logistic regression model's feature importances to see which features the model think is most important for `Survival`. It looks like `Age`, `Sex`, and `Fare` are important features, but some of the new one-hot features snuck in too. The top handful of new features appear to be `Prefix_4` (i.e. tickets with a `STON/O` prefix), `Title_3` (people title \"Master\", i.e. young boys), and `Title_0` (people title \"Mr\", i.e. older men). Since these two title features clearly correlate with `Sex` and `Age`, they're likely diminishing the true importance of the `Sex` `Age ` features as predictors of survival."
   ]
  },
  {
   "cell_type": "code",
   "execution_count": 61,
   "metadata": {},
   "outputs": [
    {
     "data": {
      "image/png": "[encoded data removed]",
      "text/plain": [
       "<Figure size 432x288 with 1 Axes>"
      ]
     },
     "metadata": {
      "needs_background": "light"
     },
     "output_type": "display_data"
    }
   ],
   "source": [
    "plot_feature_importances(lr_model_onehot, feature_names=one_hot_columns, top_k=10)"
   ]
  },
  {
   "cell_type": "markdown",
   "metadata": {},
   "source": [
    "At this stage we might choose to save the processed data for future use. We can do this using the pandas dataframe `to_csv` method, specifying the path where we want it to save. Note the use of the `pathlib.Path` object for specifying file paths. This is by far the most convenient way to work with paths in modern versions of python. The path we'll save to is `../resources/titanic_cleaned.csv`. Note that we won't actually use this saved file in the next tutorial, instead just importing our preprocessing as a function."
   ]
  },
  {
   "cell_type": "code",
   "execution_count": 62,
   "metadata": {},
   "outputs": [],
   "source": [
    "path = Path().cwd().parent / 'resources'\n",
    "df_one_hot.to_csv(path / 'titanic_cleaned.csv')"
   ]
  },
  {
   "cell_type": "markdown",
   "metadata": {},
   "source": [
    "## Summary\n",
    "\n",
    "Since we've calculated a lot of scores on several different models, it's not a bad idea to put them all into a table so we can compare them against each other. We'll do that in the table below, which is set up to auto fill in the scores from above (even if we run it with a different seed). Cool, right? \n",
    "\n",
    "**Note:** Unfortunately, this table won't render correctly if you're viewing it from Github or the online NB viewer, as it requires that extensions be installed. To view it correctly, you'll need to download the notebook and run it locally, after installing the Jupyter [contrib extensions](https://jupyter-contrib-nbextensions.readthedocs.io/en/latest/install.html) and enabling the python in markdown extension."
   ]
  },
  {
   "cell_type": "markdown",
   "metadata": {
    "variables": {
     "round(accuracy_score(y_test, lr_model_baseline.predict(X_test_baseline)),4)": "0.7989",
     "round(accuracy_score(y_test, lr_model_no_onehot.predict(X_test_no_onehot)),4)": "0.8212",
     "round(accuracy_score(y_test, lr_model_onehot.predict(X_test_onehot)),4)": "0.8603",
     "round(accuracy_score(y_test, rf_model_baseline.predict(X_test_baseline)),4)": "0.7989",
     "round(accuracy_score(y_test, rf_model_no_onehot.predict(X_test_no_onehot)),4)": "0.8324",
     "round(accuracy_score(y_test, rf_model_onehot.predict(X_test_onehot)),4)": "0.8547",
     "round(f1_score(y_test, lr_model_baseline.predict(X_test_baseline)),4)": "0.7188",
     "round(f1_score(y_test, lr_model_no_onehot.predict(X_test_no_onehot)),4)": "0.75",
     "round(f1_score(y_test, lr_model_onehot.predict(X_test_onehot)),4)": "0.8062",
     "round(f1_score(y_test, rf_model_baseline.predict(X_test_baseline)),4)": "0.7188",
     "round(f1_score(y_test, rf_model_no_onehot.predict(X_test_no_onehot)),4)": "0.7794",
     "round(f1_score(y_test, rf_model_onehot.predict(X_test_onehot)),4)": "0.803",
     "round(precision_score(y_test, lr_model_baseline.predict(X_test_baseline)),4)": "0.7302",
     "round(precision_score(y_test, lr_model_no_onehot.predict(X_test_no_onehot)),4)": "0.7619",
     "round(precision_score(y_test, lr_model_onehot.predict(X_test_onehot)),4)": "0.8125",
     "round(precision_score(y_test, rf_model_baseline.predict(X_test_baseline)),4)": "0.7302",
     "round(precision_score(y_test, rf_model_no_onehot.predict(X_test_no_onehot)),4)": "0.7465",
     "round(precision_score(y_test, rf_model_onehot.predict(X_test_onehot)),4)": "0.791",
     "round(recall_score(y_test, lr_model_baseline.predict(X_test_baseline)),4)": "0.7077",
     "round(recall_score(y_test, lr_model_no_onehot.predict(X_test_no_onehot)),4)": "0.7385",
     "round(recall_score(y_test, lr_model_onehot.predict(X_test_onehot)),4)": "0.8",
     "round(recall_score(y_test, rf_model_baseline.predict(X_test_baseline)),4)": "0.7077",
     "round(recall_score(y_test, rf_model_no_onehot.predict(X_test_no_onehot)),4)": "0.8154",
     "round(recall_score(y_test, rf_model_onehot.predict(X_test_onehot)),4)": "0.8154",
     "round(roc_auc_score(y_test, lr_model_baseline.predict(X_test_baseline)),4)": "0.7793",
     "round(roc_auc_score(y_test, lr_model_no_onehot.predict(X_test_no_onehot)),4)": "0.8034",
     "round(roc_auc_score(y_test, lr_model_onehot.predict(X_test_onehot)),4)": "0.8474",
     "round(roc_auc_score(y_test, rf_model_baseline.predict(X_test_baseline)),4)": "0.7793",
     "round(roc_auc_score(y_test, rf_model_no_onehot.predict(X_test_no_onehot)),4)": "0.8287",
     "round(roc_auc_score(y_test, rf_model_onehot.predict(X_test_onehot)),4)": "0.8463",
     "seed": "123"
    }
   },
   "source": [
    "|(seed={{seed}})|accuracy|precision|recall|F1|AUC|\n",
    "|---|---|---|---|---|---|\n",
    "|RF baseline|{{round(accuracy_score(y_test, rf_model_baseline.predict(X_test_baseline)),4)}}|{{round(precision_score(y_test, rf_model_baseline.predict(X_test_baseline)),4)}}|{{round(recall_score(y_test, rf_model_baseline.predict(X_test_baseline)),4)}}|{{round(f1_score(y_test, rf_model_baseline.predict(X_test_baseline)),4)}}|{{round(roc_auc_score(y_test, rf_model_baseline.predict(X_test_baseline)),4)}}|{{round(recall_score(y_test, rf_model_baseline.predict(X_test_baseline)),4)}}|\n",
    "|LR baseline|{{round(accuracy_score(y_test, lr_model_baseline.predict(X_test_baseline)),4)}}|{{round(precision_score(y_test, lr_model_baseline.predict(X_test_baseline)),4)}}|{{round(recall_score(y_test, lr_model_baseline.predict(X_test_baseline)),4)}}|{{round(f1_score(y_test, lr_model_baseline.predict(X_test_baseline)),4)}}|{{round(roc_auc_score(y_test, lr_model_baseline.predict(X_test_baseline)),4)}}|\n",
    "|RF no onehot|{{round(accuracy_score(y_test, rf_model_no_onehot.predict(X_test_no_onehot)),4)}}|{{round(precision_score(y_test, rf_model_no_onehot.predict(X_test_no_onehot)),4)}}|{{round(recall_score(y_test, rf_model_no_onehot.predict(X_test_no_onehot)),4)}}|{{round(f1_score(y_test, rf_model_no_onehot.predict(X_test_no_onehot)),4)}}|{{round(roc_auc_score(y_test, rf_model_no_onehot.predict(X_test_no_onehot)),4)}}|\n",
    "|LR no onehot|{{round(accuracy_score(y_test, lr_model_no_onehot.predict(X_test_no_onehot)),4)}}|{{round(precision_score(y_test, lr_model_no_onehot.predict(X_test_no_onehot)),4)}}|{{round(recall_score(y_test, lr_model_no_onehot.predict(X_test_no_onehot)),4)}}|{{round(f1_score(y_test, lr_model_no_onehot.predict(X_test_no_onehot)),4)}}|{{round(roc_auc_score(y_test, lr_model_no_onehot.predict(X_test_no_onehot)),4)}}|\n",
    "|RF onehot|{{round(accuracy_score(y_test, rf_model_onehot.predict(X_test_onehot)),4)}}|{{round(precision_score(y_test, rf_model_onehot.predict(X_test_onehot)),4)}}|{{round(recall_score(y_test, rf_model_onehot.predict(X_test_onehot)),4)}}|{{round(f1_score(y_test, rf_model_onehot.predict(X_test_onehot)),4)}}|{{round(roc_auc_score(y_test, rf_model_onehot.predict(X_test_onehot)),4)}}|\n",
    "|LR onehot|{{round(accuracy_score(y_test, lr_model_onehot.predict(X_test_onehot)),4)}}|{{round(precision_score(y_test, lr_model_onehot.predict(X_test_onehot)),4)}}|{{round(recall_score(y_test, lr_model_onehot.predict(X_test_onehot)),4)}}|{{round(f1_score(y_test, lr_model_onehot.predict(X_test_onehot)),4)}}|{{round(roc_auc_score(y_test, lr_model_onehot.predict(X_test_onehot)),4)}}|"
   ]
  },
  {
   "cell_type": "markdown",
   "metadata": {},
   "source": [
    "It looks like the LR onehot model is on the whole doing the best across all metrics. This suggests we should choose this model, right? Well, perhaps not. It turns out that the above scores are *very* sensitive to the choice of seed. I deliberately picked a seed (123) that gives \"high\" accuracies of 85-86%. Most other seeds will actually give lower accuracies, usually somewhere in the 79-86% range. Try changing the seed at the top of the notebook to a different number and re-running if you don't believe me! It'll almost certainly give much lower scores across the board.\n",
    "\n",
    "Given that our metrics have uncertainties on the order of 5% like this depending which seed we choose, how do we know which model is truly \"best\"? After all, in ML we usually want a model that works best on *all unseen* data, not particular \"lucky\" subsets of the data. The reason we're having this problem is because our dataset is \"small\". That may seem surprising, given that it has 891 examples, but *relative to the task* it's quite small. Predicting survival from this dataset turns out to be a surprisingly noisy task, which means to get stable, accurate estimates we'd need a lot more data.\n",
    "\n",
    "What can we do about this problem, given that we can't exactly get more Titanic data? The trick is to use model selection techniques like K-fold cross validation. These techniques will allow us to work better with small-ish, noisy data like Titanic. \n",
    "\n",
    "In the next tutorial, we'll use model selection techniques to help pick out the best model to use. We'll also talk a little bit about so-called ML Ops and how to deploy a simple Titanic survival prediction model to \"production\"."
   ]
  }
 ],
 "metadata": {
  "kernelspec": {
   "display_name": "Python 3 (ipykernel)",
   "language": "python",
   "name": "python3"
  },
  "language_info": {
   "codemirror_mode": {
    "name": "ipython",
    "version": 3
   },
   "file_extension": ".py",
   "mimetype": "text/x-python",
   "name": "python",
   "nbconvert_exporter": "python",
   "pygments_lexer": "ipython3",
   "version": "3.10.4"
  },
  "toc": {
   "base_numbering": 1,
   "nav_menu": {
    "height": "124px",
    "width": "411px"
   },
   "number_sections": true,
   "sideBar": true,
   "skip_h1_title": false,
   "title_cell": "Table of Contents",
   "title_sidebar": "Contents",
   "toc_cell": false,
   "toc_position": {},
   "toc_section_display": true,
   "toc_window_display": false
  },
  "varInspector": {
   "cols": {
    "lenName": 16,
    "lenType": 16,
    "lenVar": 40
   },
   "kernels_config": {
    "python": {
     "delete_cmd_postfix": "",
     "delete_cmd_prefix": "del ",
     "library": "var_list.py",
     "varRefreshCmd": "print(var_dic_list())"
    },
    "r": {
     "delete_cmd_postfix": ") ",
     "delete_cmd_prefix": "rm(",
     "library": "var_list.r",
     "varRefreshCmd": "cat(var_dic_list()) "
    }
   },
   "types_to_exclude": [
    "module",
    "function",
    "builtin_function_or_method",
    "instance",
    "_Feature"
   ],
   "window_display": false
  }
 },
 "nbformat": 4,
 "nbformat_minor": 4
}
