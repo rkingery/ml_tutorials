{
 "cells": [
  {
   "cell_type": "markdown",
   "metadata": {},
   "source": [
    "# Random Number Generation\n",
    "\n",
    "This notebook is an introduction to a somewhat tangential and perhaps advanced topic: How to generate random numbers. Many of you have probably used libraries like `random` or `np.random` before to quickly generate a random number. But what are they doing underneath the hood? While you may never in practice write your own random number generators from scratch, if for anything, knowing something about how to do so gives you a deeper understanding of the data sciences, and is a useful skill to know for data science interviews, where variants on such questions are often asked.\n",
    "\n",
    "Note: This tutorial assumes a certain knowledge of probability theory, particularly what probability distributions are. For a brief introduction to this subject, see my [Probability and Naive Bayes](https://nbviewer.jupyter.org/github/rkingery/ml_tutorials/blob/master/notebooks/naive_bayes.ipynb) tutorial.\n",
    "\n",
    "Now, let's talk about how one might go about generating random numbers from scratch in python. It turns out this is a subtle topic, because computers are deterministic devices (more or less). Programs follow a well-defined sequence of instructions, which is a deterministic process, so how can one generate anything approximating random behavior from a deterministic process? It turns out you can, kind of. We call the \"random\" numbers generated in such a way *pseudo-random*, because they're not really random (they can't be), but they none the less behave as random in most practical respects.\n",
    "\n",
    "Let's see how this can be done. The only libraries we allow ourselves to use here are `numpy` (but not `np.random`) , `pandas` (mainly for visualization), and `matplotlib`, except for some special util functions later on. Let's start by loading these libraries in as usual."
   ]
  },
  {
   "cell_type": "code",
   "execution_count": 1,
   "metadata": {},
   "outputs": [],
   "source": [
    "import numpy as np\n",
    "import pandas as pd\n",
    "import matplotlib.pyplot as plt\n",
    "\n",
    "seed = 123\n",
    "np.random.seed(seed)"
   ]
  },
  {
   "cell_type": "code",
   "execution_count": 2,
   "metadata": {},
   "outputs": [],
   "source": [
    "def summarize(sample, title=None):\n",
    "    df = pd.Series(samples)\n",
    "    print(df.describe())\n",
    "    plt.hist(sample);\n",
    "    plt.title(title)\n",
    "    plt.show()"
   ]
  },
  {
   "cell_type": "markdown",
   "metadata": {},
   "source": [
    "## Sampling From a Standard Uniform Distribution (rand)\n",
    "\n",
    "I've mentioned that random number generators are in fact not random, but deterministic, yet behave as random for many practical purposes. How do we achieve this? The trick is to define a function that generates outputs in a sequence that *look like* they have no discernible relationship to each other, while at the same time the (shuffled) sequence looks like it comes from some distribution. It will work as follows, we specify an initial value, called the *seed*, denoted $x_0$. Suppose we'd like to generate $n$ pseudo-random numbers $x_1, x_2, \\cdots, x_n$. For a suitable function $f$, we can do this via a recursion like this:\n",
    "$$x_1 = f(x_0)$$\n",
    "$$x_2 = f(x_1)$$\n",
    "$$x_3 = f(x_2)$$\n",
    "$$ \\dots $$\n",
    "$$x_n = f(x_{n-1}).$$\n",
    "\n",
    "The first goal will be to define a function $f$ that can generate a sequence of numbers $x_1, x_2, \\cdots, x_n$ that *look like* they were uniformly sampled from the continuous range $[0,1]$. That is, each sample is equally likely to take on any continuous value between 0 and 1, but nothing else. One simple, though non-intuitive type of function that can do this is the *linear congruence generator* (LCG). An LCG function has the form\n",
    "$$f(x) = (ax + c) \\mod m,$$\n",
    "where $a,c,m$ are suitably large integer constants fixed ahead of time. \n",
    "\n",
    "Let's see what a function like this outputs on a simple example, where $a=5, c=3, m=8$, and seed is $x_0=123$. Does it look random to you? Does the set look uniformly sampled from $[0,1]$?"
   ]
  },
  {
   "cell_type": "code",
   "execution_count": 3,
   "metadata": {},
   "outputs": [],
   "source": [
    "a = 5\n",
    "c = 3\n",
    "m = 8\n",
    "f = lambda x: (a * x + c) % m"
   ]
  },
  {
   "cell_type": "code",
   "execution_count": 4,
   "metadata": {},
   "outputs": [
    {
     "name": "stdout",
     "output_type": "stream",
     "text": [
      "2\n",
      "5\n",
      "4\n",
      "7\n",
      "6\n",
      "1\n",
      "0\n",
      "3\n",
      "2\n",
      "5\n"
     ]
    }
   ],
   "source": [
    "x = 123\n",
    "for i in range(10):\n",
    "    x = f(x)\n",
    "    print(x)"
   ]
  },
  {
   "cell_type": "markdown",
   "metadata": {},
   "source": [
    "The set does look kind of random. Could you predict the sequence without knowing $a, c, m, x_0$? It's obvious each number isn't between 0 and 1, yet, but we can fix that pretty easily. Does the sequence look uniformly random? Hard to say. Let's sample some more numbers and plot their histogram. \n",
    "\n",
    "Looks pretty uniform to me. Notice the values though. It turns out that this function only samples (pseudo) uniformly between 0 and 7, i.e. in the integer range $0, \\cdots, m-1$. This suggests two observations: 1) we can scale samples to be between 0 and 1 by dividing them by $m$, and 2) the size of $m$ controls the granularity of how fine we can sample (higher $m$ means finer sampling in $[0,1]$).\n",
    "\n",
    "Remark: It's actually very important that $a, c, m$ be chosen a certain way. You can't just pick any values or you'll get things like repeating sequences. See [here](https://en.wikipedia.org/wiki/Linear_congruential_generator) for details."
   ]
  },
  {
   "cell_type": "code",
   "execution_count": 5,
   "metadata": {},
   "outputs": [
    {
     "data": {
      "image/png": "[encoded data removed]",
      "text/plain": [
       "<Figure size 432x288 with 1 Axes>"
      ]
     },
     "metadata": {
      "needs_background": "light"
     },
     "output_type": "display_data"
    }
   ],
   "source": [
    "samples = []\n",
    "x = 123\n",
    "for i in range(1000):\n",
    "    x = f(x)\n",
    "    samples.append(x)\n",
    "\n",
    "# plotting a nicer histogram than plt.hist would give\n",
    "u, counts = np.unique(samples, return_counts=True);\n",
    "plt.bar(np.arange(len(u)), counts);\n",
    "plt.xticks(np.arange(len(u)), u);"
   ]
  },
  {
   "cell_type": "markdown",
   "metadata": {},
   "source": [
    "In practice, it's a good idea to choose $a, c, m$ to all be large integers. A standard choice (though by no means the only one) is to take $a=1664525, c=1013904223, m=2^{31}$. Let's sample again with these constants, and then rescale by $m$ so the samples are between 0 and 1. There's certainly some visible variation, but on the whole the histogram looks rectangular, which is what you'd expect from a standard uniform sample.\n",
    "\n",
    "We can sanity check the generator some more by verifying the statistics look as expected. For a standard uniform, we'd expect samples to have\n",
    "\n",
    "$$\\text{min}=0 \\qquad \\text{max}=1 \\qquad \\text{mean}=\\frac{1}{2} = 0.5 \\qquad \\text{std dev}=\\frac{1}{\\sqrt{12}} \\approx 0.289$$\n",
    "\n",
    "Notice also that by taking more samples that the samples start to appear more uniform. In the first example below, I generate 1000 samples. In that case the histogram looks kind of uniform, but a bit bumpy. In the second example, I generate 10,000 samples. In that case the histogram looks significantly less bumpy, and the statistic estimates are 1-2 orders of magnitude closer to the true values above for a standard uniform."
   ]
  },
  {
   "cell_type": "code",
   "execution_count": 6,
   "metadata": {},
   "outputs": [
    {
     "name": "stdout",
     "output_type": "stream",
     "text": [
      "count    1000.000000\n",
      "mean        0.508971\n",
      "std         0.291887\n",
      "min         0.001314\n",
      "25%         0.244950\n",
      "50%         0.517116\n",
      "75%         0.775725\n",
      "max         0.999371\n",
      "dtype: float64\n"
     ]
    },
    {
     "data": {
      "image/png": "[encoded data removed]",
      "text/plain": [
       "<Figure size 432x288 with 1 Axes>"
      ]
     },
     "metadata": {
      "needs_background": "light"
     },
     "output_type": "display_data"
    }
   ],
   "source": [
    "a = 1664525\n",
    "c = 1013904223\n",
    "m = 2**31\n",
    "f = lambda x: (a * x + c) % m\n",
    "\n",
    "samples = []\n",
    "x = 123\n",
    "size = 1000\n",
    "for i in range(size):\n",
    "    x = f(x)\n",
    "    u = x / m\n",
    "    samples.append(u)\n",
    "\n",
    "summarize(samples)"
   ]
  },
  {
   "cell_type": "code",
   "execution_count": 7,
   "metadata": {},
   "outputs": [
    {
     "name": "stdout",
     "output_type": "stream",
     "text": [
      "count    10000.000000\n",
      "mean         0.500245\n",
      "std          0.289041\n",
      "min          0.000142\n",
      "25%          0.249011\n",
      "50%          0.500668\n",
      "75%          0.753247\n",
      "max          0.999677\n",
      "dtype: float64\n"
     ]
    },
    {
     "data": {
      "image/png": "[encoded data removed]",
      "text/plain": [
       "<Figure size 432x288 with 1 Axes>"
      ]
     },
     "metadata": {
      "needs_background": "light"
     },
     "output_type": "display_data"
    }
   ],
   "source": [
    "samples = []\n",
    "x = 123\n",
    "size = 10000\n",
    "for i in range(size):\n",
    "    x = f(x)\n",
    "    u = x / m\n",
    "    samples.append(u)\n",
    "\n",
    "summarize(samples)"
   ]
  },
  {
   "cell_type": "markdown",
   "metadata": {},
   "source": [
    "We finally have everything we need to implement the most fundamental random number generator of all, the `rand` function. But first, a brief word on generating seeds.\n",
    "\n",
    "There are two common situations when it comes to seeds. In one case, the usual case in data science situations, the seed should always be fixed and pre-specified before hand. This allows for seemingly random programs to be reproduced by someone else, which is useful for verifying that the program is running as intended. In data science, this (sort of) allows one to be able to train a new model that reproduces the behavior of a previously trained model. As a rule of thumb, if you're trying to do *reproducible research*, you should always fix and specify your seed in advance.\n",
    "\n",
    "In the other case, fixing and publishing the seed is bad, as knowledge of the seed takes what *should* be a random process and makes it completely deterministic. If one knows the seed, the generator used, and how many samples have been sampled so far, one can in principle predict with certainty what the next sample will be. This is dangerous in certain fields like cryptography and security, where it's essential that one not easily be able to deconstruct a random function (as it might result in a very unfortunate hacking situation). \n",
    "\n",
    "In the latter case, it's essential that the seed be as hard as possible for a third party to guess. One often done way to generate hard-to-guess seeds is by choosing them based on the system clock the program is running on. For example, suppose the system clock reads `29344.743828348`. One can generate a seed by taking the sequence after the decimal point as an integer value for the seed, so in this case we'd have `seed = 743828348`. System clock seeds are hard to guess because it's hard for a human to figure out the *exact* time the seed was generated at the millisecond level. A simple such a seed generator is shown below as `get_seed`."
   ]
  },
  {
   "cell_type": "code",
   "execution_count": 8,
   "metadata": {},
   "outputs": [
    {
     "name": "stdout",
     "output_type": "stream",
     "text": [
      "9991382909938694\n",
      "9991518750030082\n",
      "9991535409935750\n",
      "9991550410049968\n",
      "9991564580122940\n",
      "9991579579946120\n",
      "9991594580060336\n",
      "9991609159915242\n",
      "9991623329988216\n",
      "9991637080092914\n"
     ]
    }
   ],
   "source": [
    "def get_seed():\n",
    "    \"\"\"Generates random seed using decimal part of system clock\"\"\"\n",
    "    import time\n",
    "    t = time.perf_counter()\n",
    "    return int((t % 1) * 1e16)\n",
    "\n",
    "for i in range(10):\n",
    "    print(get_seed())"
   ]
  },
  {
   "cell_type": "markdown",
   "metadata": {},
   "source": [
    "With this aside on seeds addressed, we return to the `rand` function, which is implemented below using the above linear congruence generator. The job of `rand` is to output a standard uniform number as described above. We will implement `rand` such that it takes constants `a, c, m`, a seed `seed`, and a size `size` specifying how many numbers to sample. To verify it works as intended we use `rand` to generate 1000 samples and show their summary statistics. To promote reproducibility, I fix all the seeds below in advance to the value defined at the beginning of the notebook."
   ]
  },
  {
   "cell_type": "code",
   "execution_count": 9,
   "metadata": {},
   "outputs": [
    {
     "name": "stdout",
     "output_type": "stream",
     "text": [
      "count    1000.000000\n",
      "mean        0.508486\n",
      "std         0.288553\n",
      "min         0.000689\n",
      "25%         0.269031\n",
      "50%         0.509139\n",
      "75%         0.761345\n",
      "max         0.995772\n",
      "dtype: float64\n"
     ]
    },
    {
     "data": {
      "image/png": "[encoded data removed]",
      "text/plain": [
       "<Figure size 432x288 with 1 Axes>"
      ]
     },
     "metadata": {
      "needs_background": "light"
     },
     "output_type": "display_data"
    }
   ],
   "source": [
    "def rand(a=1664525, c=1013904223, m=2**32, size=1, seed=None):\n",
    "    \"\"\"Generates Uniform(0,1) samples using linear congruence generator\"\"\"\n",
    "    f = lambda x: (a * x + c) % m\n",
    "    x = get_seed() if seed is None else seed\n",
    "    u = []\n",
    "    for i in range(size):\n",
    "        x = f(x)\n",
    "        u.append(x / m)\n",
    "    return np.array(u)\n",
    "\n",
    "size = 1000\n",
    "samples = rand(size=size, seed=seed)\n",
    "summarize(samples, title=f'rand')"
   ]
  },
  {
   "cell_type": "markdown",
   "metadata": {},
   "source": [
    "## Sampling From Other Probability Distributions\n",
    "\n",
    "Armed with `rand`, it turns out we can generate numbers from pretty much any probability distribution we want just by doing transformations on standard uniform samples. There are a few common ways to generate new distributions from a uniform random sample: simple probability transformations, inverse transform sampling, and rejection sampling.\n",
    "\n",
    "Simple probability transformations involve applying some kind of transformation to samples from the standard uniform to turn them into samples from a different desired distribution. Such transformations might involve translation, scaling, or simple operations like applying a common function (exp, log, power, trig, etc). We'll see a few examples of such techniques below.\n",
    "\n",
    "[Inverse transform sampling](https://en.wikipedia.org/wiki/Inverse_transform_sampling) works by making use of the following simple theorem from probability: If a [random variable](https://en.wikipedia.org/wiki/Continuous_random_variable) $X$ has a [cdf](https://en.wikipedia.org/wiki/Cumulative_distribution_function) $F$, then the random variable $U=F(X)$ has a standard uniform distribution. We can make use of the inverse of this theorem. Namely, if $U$ is standard uniform, then $F^{-1}(U)$ has the same distribution as $X$. This means we can use a uniform sample to generate samples with the intended distribution by applying that distribution's inverse cdf to it, if we know it.\n",
    "\n",
    "[Rejection Sampling](https://en.wikipedia.org/wiki/Rejection_sampling) is a more advanced technique that involves sampling from an easier \"proposal\" distribution, and then keep only samples that satisfy some acceptance criterion that relates the proposal to the original distribution. Such an approach falls under the general umbrella of [Markov Chain Monte Carlo](https://en.wikipedia.org/wiki/Markov_chain_Monte_Carlo) (MCMC) methods. Perhaps the most powerful algorithm for doing rejection sampling is the [Metropolis-Hastings Algorithm](https://en.wikipedia.org/wiki/Metropolis_algorithm), which allows one to sample from arbitrary distributions (even if you don't know its functional form). I won't touch on these techniques here, but may come back to it later.\n",
    "\n",
    "### Uniform Distribution\n",
    "\n",
    "Perhaps the simplest distribution we can create from `rand` is the (arbitrary) uniform distribution. A number sampled from `uniform` takes parameters $a$ and $b$, and should return any continuous number in the interval $[a, b]$ with equal probability. It's just a rescaling of the standard uniform distribution. We can easily transform a standard uniform sample $\\text{Uniform}(0,1)$ to a $\\text{Uniform}(a, b)$ sample by applying the following rescaling:\n",
    "\n",
    "$$\\text{Uniform}(a, b) = (b - a)\\text{Uniform}(0,1)+a.$$\n",
    "\n",
    "This is implemented below. The expected statistics for this distribution are given as follows. How well do these values match the ones in the example below?\n",
    "\n",
    "$$\\text{min}=a \\qquad \\text{max}=b \\qquad \\text{mean}=\\frac{a + b}{2} \\qquad \\text{std dev}=\\frac{b-a}{\\sqrt{12}}$$"
   ]
  },
  {
   "cell_type": "code",
   "execution_count": 10,
   "metadata": {},
   "outputs": [
    {
     "name": "stdout",
     "output_type": "stream",
     "text": [
      "count    1000.000000\n",
      "mean        5.084856\n",
      "std         2.885532\n",
      "min         0.006890\n",
      "25%         2.690312\n",
      "50%         5.091392\n",
      "75%         7.613449\n",
      "max         9.957720\n",
      "dtype: float64\n"
     ]
    },
    {
     "data": {
      "image/png": "[encoded data removed]",
      "text/plain": [
       "<Figure size 432x288 with 1 Axes>"
      ]
     },
     "metadata": {
      "needs_background": "light"
     },
     "output_type": "display_data"
    }
   ],
   "source": [
    "def uniform(a=0, b=1, size=1, seed=None):\n",
    "    \"\"\"Generates Uniform(low, high) samples\"\"\"\n",
    "    return ((b - a) * rand(seed=seed, size=size) + a)\n",
    "\n",
    "size = 1000\n",
    "samples = uniform(size=size, seed=seed, a=0, b=10)\n",
    "summarize(samples, title=f'uniform(a=0, b=10)')"
   ]
  },
  {
   "cell_type": "markdown",
   "metadata": {},
   "source": [
    "### Discrete Uniform Distribution (randint)\n",
    "\n",
    "The next distribution we'll discuss is the discrete uniform distribution, which is like the uniform distribution but only allowed allowed to take on integer values in the interval. Namely, given parameters $a$ and $b$, a $\\text{DiscreteUniform}(a,b)$ sample can take on any integer value between $a$ and $b$ with equal probability.\n",
    "\n",
    "The discrete uniform implementation is frequently called `randint`. It works simply by sampling from `uniform(a, b)` and rounding each number down to the nearest integer. Note this means in particular that `a` is inclusive while `b` is exclusive, so values take a range `a, ..., b-1`.\n",
    "\n",
    "The expected statistics for $\\text{DiscreteUniform}(a,b)$ with support $[a,b)$ are as follows. How well do these values match the ones in the example below?\n",
    "\n",
    "$$\\text{min}=a \\qquad \\text{max}=b \\qquad \\text{mean}=\\frac{b + a - 1}{2} \\qquad \\text{std dev}=\\sqrt{\\frac{(a-b)^2-1}{12}}$$"
   ]
  },
  {
   "cell_type": "code",
   "execution_count": 11,
   "metadata": {},
   "outputs": [
    {
     "name": "stdout",
     "output_type": "stream",
     "text": [
      "count    1000.000000\n",
      "mean        2.056000\n",
      "std         1.404577\n",
      "min         0.000000\n",
      "25%         1.000000\n",
      "50%         2.000000\n",
      "75%         3.000000\n",
      "max         4.000000\n",
      "dtype: float64\n"
     ]
    },
    {
     "data": {
      "image/png": "[encoded data removed]",
      "text/plain": [
       "<Figure size 432x288 with 1 Axes>"
      ]
     },
     "metadata": {
      "needs_background": "light"
     },
     "output_type": "display_data"
    }
   ],
   "source": [
    "def randint(a=0, b=2, size=1, seed=None):\n",
    "    \"\"\"Generates DiscreteUniform(a, b) samples, i.e. random ints [a, b)\"\"\"\n",
    "    u = uniform(a=a, b=b, size=size, seed=seed)\n",
    "    return np.floor(u).astype(int)\n",
    "\n",
    "size = 1000\n",
    "samples = randint(size=size, seed=seed, a=0, b=5)\n",
    "summarize(samples, title=f'randint(a=1, b=5)')"
   ]
  },
  {
   "cell_type": "markdown",
   "metadata": {},
   "source": [
    "### Sampling an Array (choice)\n",
    "\n",
    "Before continuing with the other distributions let's make a quick detour and talk about randomly sampling from an arbitrary array. When doing so it's necessary to distinguish between randomly sampling *with replacement* (WR) and randomly sampling *without replacement* (WOR). When sampling WR, we imagine putting that value back into the array so we can sample it again later if we wish with an equal probability. Whereas when sampling WOR, we imagine holding the value out so it can't be sampled again later (which means among other things that sampling can't be uniform since the probabilities change as a result of removing elements from the array).\n",
    "\n",
    "In the case of sampling from an array we usually mean sampling WR (though not always). The implementation of sampling from an array is called `choice` in python. Below is an implementation of `choice` to allow sampling WR from an arbitrary array. Notice all we have to do is randomly sample the index of the array with `randint`, and then just return the values corresponding to those indexes.\n",
    "\n",
    "In the sample below, we sample from `choice` `size` times on the string `abracadabra`, and display the counts for each letter and the histogram. Do the frequencies shown appear to match the frequency of the letters as they appear in `abracadabra`? They should."
   ]
  },
  {
   "cell_type": "code",
   "execution_count": 12,
   "metadata": {},
   "outputs": [
    {
     "name": "stdout",
     "output_type": "stream",
     "text": [
      "a    437\n",
      "b    181\n",
      "r    171\n",
      "d    106\n",
      "c    105\n",
      "dtype: int64\n"
     ]
    },
    {
     "data": {
      "image/png": "[encoded data removed]",
      "text/plain": [
       "<Figure size 432x288 with 1 Axes>"
      ]
     },
     "metadata": {
      "needs_background": "light"
     },
     "output_type": "display_data"
    }
   ],
   "source": [
    "def choice(array, size=1, seed=None):\n",
    "    \"\"\"Randomly samples from given array, with replacement\"\"\"\n",
    "    array = np.array(array)\n",
    "    r = randint(a=0, b=len(array), size=size, seed=seed)\n",
    "    return array[r]\n",
    "\n",
    "array = list('abracadabra')\n",
    "\n",
    "size = 1000\n",
    "samples = choice(array, size=size, seed=seed)\n",
    "print(pd.Series(samples).value_counts())\n",
    "plt.hist(samples);\n",
    "plt.title(f'choice(\\'{\"\".join(array)}\\')');"
   ]
  },
  {
   "cell_type": "markdown",
   "metadata": {},
   "source": [
    "### Bernoulli Distribution\n",
    "\n",
    "Returning to distributions, the Bernoulli distribution is a basic distribution that only takes on binary values 0 and 1. Sampling from $\\text{Bernoulli}(p)$ returns 1 with probability $p$ or 0 with probability $1-p$. As you probably know, this distribution is frequently used to model real-world binary processes like coin flips, and is the theoretical basis of (binary) logistic regression. Its density is given by\n",
    "\n",
    "$$p(x) = p^x (1-p)^{1-x}.$$\n",
    "\n",
    "We can again implement $\\text{Bernoulli}(p)$ using `rand`. The idea here is to use $p$ as a threshold to decide whether to round a `rand` number down to 0 or up to 1. This is implemented below as `bernoulli`, which takes a parameter `p` and returns a $\\text{Bernoulli}(p)$ sample.\n",
    "\n",
    "The expected statistics for $\\text{Bernoulli}(p)$ are below. How well do these values match the ones in the example below?\n",
    "\n",
    "$$\\text{min}=0 \\qquad \\text{max}=1 \\qquad \\text{mean}=p \\qquad \\text{std dev}=\\sqrt{p(1-p)}$$"
   ]
  },
  {
   "cell_type": "code",
   "execution_count": 13,
   "metadata": {},
   "outputs": [
    {
     "name": "stdout",
     "output_type": "stream",
     "text": [
      "count    1000.000000\n",
      "mean        0.188000\n",
      "std         0.390908\n",
      "min         0.000000\n",
      "25%         0.000000\n",
      "50%         0.000000\n",
      "75%         0.000000\n",
      "max         1.000000\n",
      "dtype: float64\n"
     ]
    },
    {
     "data": {
      "image/png": "[encoded data removed]",
      "text/plain": [
       "<Figure size 432x288 with 1 Axes>"
      ]
     },
     "metadata": {
      "needs_background": "light"
     },
     "output_type": "display_data"
    }
   ],
   "source": [
    "def bernoulli(p=0.5, size=1, seed=None):\n",
    "    \"\"\"Generates Bernoulli(p) samples\"\"\"\n",
    "    u = rand(size=size, seed=seed)\n",
    "    return (u <= p).astype(int)\n",
    "\n",
    "size = 1000\n",
    "samples = bernoulli(size=size, seed=seed, p=0.2)\n",
    "summarize(samples, title=f'bernoulli(p=0.2)')"
   ]
  },
  {
   "cell_type": "markdown",
   "metadata": {},
   "source": [
    "### Binomial Distribution\n",
    "\n",
    "As many of you know, the [binomial distribution](https://en.wikipedia.org/wiki/Binomial_distribution#Normal_approximation) is a model for the number of successful outcomes from $n$ binary (Bernoulli) trials. A $\\text{Binomial}(n,p)$ random variable is just a sum of $n$ Bernoulli random variables, and can thus take on integer values between $0$ and $n$. Its density is given by\n",
    "\n",
    "$$p(x) = {n \\choose x} p^x (1-p)^{n-x}.$$\n",
    "\n",
    "Given the binomial is just a sum of bernoullis, implementation is pretty easy. To create a function `binomial(n, p)`, we basically just call `bernoulli(p)` `n` times and sum the results together to get a single binomial sample. \n",
    "\n",
    "One subtlety in the implementation is worth addressing though. It's *very* important to make sure each bernoulli sample be taken with a different seed. If you use the same seed all of the bernoulli samples will end up being the same, which means each sample of `binomial` will be the same number! To get around this, and still keep things reproducible, the easiest thing to do is to increment the seed in each iteration of the loop.\n",
    "\n",
    "The expected statistics for $\\text{Binomial}(n,p)$ are below. How well do these values match the ones in the example below?\n",
    "\n",
    "$$\\text{min}=0 \\qquad \\text{max}=n \\qquad \\text{mean}=np \\qquad \\text{std dev}=\\sqrt{np(1-p)}$$\n",
    "\n",
    "**Aside:** Notice the histogram for this binomial sample looks almost like that of a Gaussian distribution. This is not a coincidence. Turns out $\\text{Binomial}(n,p) \\approx \\mathcal{N}(np, np(1-p))$ under certain regularity conditions. See [here](https://en.wikipedia.org/wiki/De_Moivre%E2%80%93Laplace_theorem) for details."
   ]
  },
  {
   "cell_type": "code",
   "execution_count": 14,
   "metadata": {},
   "outputs": [
    {
     "name": "stdout",
     "output_type": "stream",
     "text": [
      "count    1000.000000\n",
      "mean        4.929000\n",
      "std         1.560896\n",
      "min         1.000000\n",
      "25%         4.000000\n",
      "50%         5.000000\n",
      "75%         6.000000\n",
      "max        10.000000\n",
      "dtype: float64\n"
     ]
    },
    {
     "data": {
      "image/png": "[encoded data removed]",
      "text/plain": [
       "<Figure size 432x288 with 1 Axes>"
      ]
     },
     "metadata": {
      "needs_background": "light"
     },
     "output_type": "display_data"
    }
   ],
   "source": [
    "def binomial(n, p=0.5, size=1, seed=None):\n",
    "    \"\"\"Generates Binomial(n, p) samples\"\"\"\n",
    "    x = []\n",
    "    for i in range(size):\n",
    "        b = bernoulli(p=p, size=n, seed=seed)\n",
    "        x.append(b.sum())\n",
    "        seed += 1\n",
    "    return np.array(x)\n",
    "\n",
    "size = 1000\n",
    "samples = binomial(size=size, seed=seed, n=10, p=0.5)\n",
    "summarize(samples, title=f'binomial(n=10, p=0.5)')"
   ]
  },
  {
   "cell_type": "markdown",
   "metadata": {},
   "source": [
    "### Poisson Distribution\n",
    "\n",
    "The [Poisson distribution](https://en.wikipedia.org/wiki/Poisson_distribution) is used to model counting processes. $\\text{Poisson}(\\lambda)$ takes a parameter value $\\lambda > 0$, and can take on any positive integer value, and its density tends to have a \"hump\" character, where it peaks around the parameter value $\\lambda$. In math, its density is given by\n",
    "\n",
    "$$p(x) = \\frac{\\lambda^x e^{-\\lambda}}{x!}.$$\n",
    "\n",
    "Implementing a sampler for $\\text{Poisson}(\\lambda)$ is a bit different. Here I choose to implement `poisson` using a [sampling algorithm](https://en.wikipedia.org/wiki/Poisson_distribution#Generating_Poisson-distributed_random_variables) created by Donald Knuth. The idea here is to make use of a fact about Poisson distributions that states the time between new events is exponentially distributed. (More explanation to be added later.)\n",
    "\n",
    "Note: This algorithm only works well when `lambda_` is not too large (a rule of thumb is under `lambda_=30`). This is due to the fact that the inner loop depends on `np.exp(-lambda_)` taking on a non-zero value, which is impractical when `lambda_` is large due to numerical underflow. For larger values of `lambda_` the algorithm should be tweaked. See [here](https://www.johndcook.com/blog/2010/06/14/generating-poisson-random-values/) for an example of how to do this.\n",
    "\n",
    "The expected statistics for $\\text{Poisson}(\\lambda)$ are below. How well do these values match the ones in the example below?\n",
    "\n",
    "$$\\text{min}=0 \\qquad \\text{max}=\\infty \\qquad \\text{mean}= \\lambda \\qquad \\text{std dev}=\\sqrt{\\lambda}$$"
   ]
  },
  {
   "cell_type": "code",
   "execution_count": 15,
   "metadata": {},
   "outputs": [
    {
     "name": "stdout",
     "output_type": "stream",
     "text": [
      "count    1000.000000\n",
      "mean       13.960000\n",
      "std         4.751734\n",
      "min         7.000000\n",
      "25%        10.000000\n",
      "50%        13.000000\n",
      "75%        18.000000\n",
      "max        25.000000\n",
      "dtype: float64\n"
     ]
    },
    {
     "data": {
      "image/png": "[encoded data removed]",
      "text/plain": [
       "<Figure size 432x288 with 1 Axes>"
      ]
     },
     "metadata": {
      "needs_background": "light"
     },
     "output_type": "display_data"
    }
   ],
   "source": [
    "def poisson(lambda_=1, size=1, seed=None):\n",
    "    \"\"\"Generates Poisson(lambda) samples using Knuth algorithm\"\"\"\n",
    "    array = []\n",
    "    L = np.exp(-lambda_)\n",
    "    for j in range(size):\n",
    "        x = 0\n",
    "        p = 1\n",
    "        while p > L:\n",
    "            x += 1\n",
    "            p = p * rand(seed=seed)\n",
    "        array.append(x - 1)\n",
    "        seed += 1\n",
    "    return np.array(array)\n",
    "\n",
    "size = 1000\n",
    "samples = poisson(size=size, seed=seed, lambda_=10)\n",
    "summarize(samples, title=f'poisson(lambda=10)')"
   ]
  },
  {
   "cell_type": "markdown",
   "metadata": {},
   "source": [
    "### Exponential Distribution\n",
    "\n",
    "The exponential distribution is often used to model arrival times of processes following a Poisson distribution. Given that it's used to model times, an exponential random variable can take on any positive real value. It's parametrized by a rate parameter $\\lambda > 0$ that determines the (inverse) expected arrival time. Its density is given by\n",
    "\n",
    "$$p(x) = \\lambda e^{-\\lambda x}.$$\n",
    "\n",
    "An $\\text{Exponential}(\\lambda)$ random sample can easily be generated using inverse transform sampling. The CDF of $\\text{Exponential}(\\lambda)$ is \n",
    "$$F(x) = 1 - e^{-\\lambda x},$$\n",
    "which means its inverse CDF is \n",
    "$$F^{-1}(u) = -\\frac{1}{\\lambda} \\log(1-u).$$\n",
    "Thus, we merely have to generate a `rand()` and apply the inverse CDF to it to get an exponential random sample. This is implemented as `exponential` below, and takes in the rate parameter as `lambda_`. I merely sample a uniform sample via `rand()` and apply the above inverse CDF transformation to get an exponential sample.\n",
    "\n",
    "The expected statistics for $\\text{Exponential}(\\lambda)$ are below. How well do these values match the ones in the example below?\n",
    "\n",
    "$$\\text{min}=0 \\qquad \\text{max}=\\infty \\qquad \\text{mean}= \\frac{1}{\\lambda} \\qquad \\text{std dev}=\\frac{1}{\\lambda}$$"
   ]
  },
  {
   "cell_type": "code",
   "execution_count": 16,
   "metadata": {},
   "outputs": [
    {
     "name": "stdout",
     "output_type": "stream",
     "text": [
      "count    1000.000000\n",
      "mean        1.004936\n",
      "std         0.936356\n",
      "min         0.000689\n",
      "25%         0.313385\n",
      "50%         0.711595\n",
      "75%         1.432740\n",
      "max         5.466028\n",
      "dtype: float64\n"
     ]
    },
    {
     "data": {
      "image/png": "[encoded data removed]",
      "text/plain": [
       "<Figure size 432x288 with 1 Axes>"
      ]
     },
     "metadata": {
      "needs_background": "light"
     },
     "output_type": "display_data"
    }
   ],
   "source": [
    "def exponential(lambda_=1, size=1, seed=None):\n",
    "    \"\"\"Generates Exp(lambda) samples using Inverse Transform Sampling\"\"\"\n",
    "    u = rand(seed=seed, size=size)\n",
    "    x = - (1 / lambda_) * np.log(1 - u)\n",
    "    return x\n",
    "\n",
    "size = 1000\n",
    "samples = exponential(size=size, seed=seed, lambda_=1)\n",
    "summarize(samples, title=f'exponential(lambda=1)')"
   ]
  },
  {
   "cell_type": "markdown",
   "metadata": {},
   "source": [
    "### Gaussian / Normal Distribution\n",
    "\n",
    "The Gaussian distribution (aka the Normal distribution) is without a doubt the most important distribution out there. It's used to model all kinds of things: measurement errors, the parameter values in a neural net, the velocities of a gas in a container, approximating other distributions via the central limit theorem, and much more. This distribution takes on the characteristic \"bell curve\", where a mean value is centered at the top of the bell, and values away from the mean become less and less likely to get sampled. The Gaussian, represented as $\\mathcal{N}(\\mu, \\sigma^2)$, takes two parameters $\\mu$ and $\\sigma$, each of which can take on any real value. Its density is given by\n",
    "\n",
    "$$ p(x) = \\frac{1}{\\sqrt{2 \\pi \\sigma^2}} e^{-\\frac{(x-\\mu)^2}{2 \\sigma^2}}.$$\n",
    "\n",
    "Generating samples from a Gaussian is most frequently done using the [Box Muller Transform](https://en.wikipedia.org/wiki/Box%E2%80%93Muller_transform). The idea is to apply the following trig transformation to 2 standard uniform random variables $U_1, U_2$:\n",
    "\n",
    "$$ Z_0 = \\sqrt{-2 \\log U_1} \\cos (2 \\pi U_2)$$\n",
    "$$ Z_1 = \\sqrt{-2 \\log U_1} \\sin (2 \\pi U_2).$$\n",
    "\n",
    "It turns out that both $Z_0$ and $Z_1$ are both independent standard Gaussian random variables, $\\mathcal{N}(0,1)$. While Box Muller looks like a simple transformation to do, understanding why it works may take some more reading. Feel free to look at the linked Wikipedia page for details. \n",
    "\n",
    "Once we have these 2 standard Gaussian variables, we can easily recover any arbitrary Gaussian $\\mathcal{N}(\\mu, \\sigma^2)$ variables by applying the reverse-standardizing transformation\n",
    "\n",
    "$$ X = \\sigma Z + \\mu.$$\n",
    "\n",
    "I have this coded up in the `normal` function below, which takes as input the 2 parameters `mu` and `sigma`. The two uniform samples `u1, u2` are generated by `rand()`. I only return the Gaussian variable generated by `z0`, but code up `z1` anyway so you can see it.\n",
    "\n",
    "The expected statistics for $\\mathcal{N}(\\mu, \\sigma^2)$ are below. How well do the sample statistics match?\n",
    "\n",
    "$$\\text{min}=-\\infty \\qquad \\text{max}=\\infty \\qquad \\text{mean}= \\mu \\qquad \\text{std dev}=\\sigma$$"
   ]
  },
  {
   "cell_type": "code",
   "execution_count": 17,
   "metadata": {},
   "outputs": [
    {
     "name": "stdout",
     "output_type": "stream",
     "text": [
      "count    1000.000000\n",
      "mean       -0.025280\n",
      "std         1.009826\n",
      "min        -2.969240\n",
      "25%        -0.693808\n",
      "50%        -0.078186\n",
      "75%         0.633291\n",
      "max         3.339444\n",
      "dtype: float64\n"
     ]
    },
    {
     "data": {
      "image/png": "[encoded data removed]",
      "text/plain": [
       "<Figure size 432x288 with 1 Axes>"
      ]
     },
     "metadata": {
      "needs_background": "light"
     },
     "output_type": "display_data"
    }
   ],
   "source": [
    "def normal(mu=0, sigma=1, size=1, seed=None):\n",
    "    \"\"\"Generates N(mu, sigma) samples using Box-Muller Transform\"\"\"\n",
    "    u1 = rand(seed=seed, size=size)\n",
    "    u2 = rand(seed=seed+1, size=size)\n",
    "    z0 = np.sqrt(-2 * np.log(u1)) * np.cos(2 * np.pi * u2)\n",
    "    z1 = np.sqrt(-2 * np.log(u1)) * np.sin(2 * np.pi * u2)\n",
    "    return z0 * sigma + mu\n",
    "\n",
    "size = 1000\n",
    "samples = normal(size=size, seed=seed, mu=0, sigma=1)\n",
    "summarize(samples, title=f'normal(mu=0, sigma=1)')"
   ]
  },
  {
   "cell_type": "markdown",
   "metadata": {},
   "source": [
    "## References\n",
    "\n",
    "[1] https://towardsdatascience.com/how-to-generate-random-variables-from-scratch-no-library-used-4b71eb3c8dc7"
   ]
  }
 ],
 "metadata": {
  "kernelspec": {
   "display_name": "Python 3 (ipykernel)",
   "language": "python",
   "name": "python3"
  },
  "language_info": {
   "codemirror_mode": {
    "name": "ipython",
    "version": 3
   },
   "file_extension": ".py",
   "mimetype": "text/x-python",
   "name": "python",
   "nbconvert_exporter": "python",
   "pygments_lexer": "ipython3",
   "version": "3.10.4"
  },
  "toc": {
   "base_numbering": 1,
   "nav_menu": {},
   "number_sections": true,
   "sideBar": true,
   "skip_h1_title": false,
   "title_cell": "Table of Contents",
   "title_sidebar": "Contents",
   "toc_cell": false,
   "toc_position": {},
   "toc_section_display": true,
   "toc_window_display": false
  },
  "varInspector": {
   "cols": {
    "lenName": 16,
    "lenType": 16,
    "lenVar": 40
   },
   "kernels_config": {
    "python": {
     "delete_cmd_postfix": "",
     "delete_cmd_prefix": "del ",
     "library": "var_list.py",
     "varRefreshCmd": "print(var_dic_list())"
    },
    "r": {
     "delete_cmd_postfix": ") ",
     "delete_cmd_prefix": "rm(",
     "library": "var_list.r",
     "varRefreshCmd": "cat(var_dic_list()) "
    }
   },
   "types_to_exclude": [
    "module",
    "function",
    "builtin_function_or_method",
    "instance",
    "_Feature"
   ],
   "window_display": false
  }
 },
 "nbformat": 4,
 "nbformat_minor": 2
}
