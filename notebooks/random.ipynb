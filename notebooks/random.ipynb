{
 "cells": [
  {
   "cell_type": "markdown",
   "metadata": {},
   "source": [
    "# Random Numbers\n",
    "\n",
    "reference: https://towardsdatascience.com/how-to-generate-random-variables-from-scratch-no-library-used-4b71eb3c8dc7"
   ]
  },
  {
   "cell_type": "code",
   "execution_count": null,
   "metadata": {},
   "outputs": [],
   "source": [
    "import numpy as np\n",
    "import matplotlib.pyplot as plt\n",
    "import time"
   ]
  },
  {
   "cell_type": "code",
   "execution_count": null,
   "metadata": {},
   "outputs": [],
   "source": [
    "def get_seed():\n",
    "    \"\"\"Generates random seed using decimal part of system clock\"\"\"\n",
    "    t = time.perf_counter()\n",
    "    return int((t % 1) * 1e16)\n",
    "\n",
    "def rand(a=1664525, c=1013904223, m=2**32, size=1, seed=None):\n",
    "    \"\"\"Generates Uniform(0,1) samples using linear congruence generator\"\"\"\n",
    "    lcg = lambda x: (a * x + c) % m\n",
    "    x = get_seed() if seed is None else seed\n",
    "    u = []\n",
    "    for i in range(size):\n",
    "        x = lcg(x)\n",
    "        u.append(x / m)\n",
    "    return np.array(u)\n",
    "\n",
    "def uniform(low=0, high=1, size=1, seed=None):\n",
    "    \"\"\"Generates U(low, high) samples\"\"\"\n",
    "    return ((high - low) * rand(seed=seed, size=size) + low)\n",
    "\n",
    "def randint(low=0, high=2, size=1, seed=None):\n",
    "    \"\"\"Generates DU(low, high) samples, i.e. random ints [low, high)\"\"\"\n",
    "    u = uniform(low=low, high=high, size=size, seed=seed)\n",
    "    return np.floor(u).astype(int)\n",
    "\n",
    "def choice(array, size=1, seed=None):\n",
    "    \"\"\"Randomly samples from given array, with replacement\"\"\"\n",
    "    array = np.array(array)\n",
    "    r = randint(low=0, high=len(array), size=size, seed=seed)\n",
    "    return array[r]\n",
    "\n",
    "def bernoulli(p=0.5, size=1, seed=None):\n",
    "    \"\"\"Generates Bernoulli(p) samples\"\"\"\n",
    "    u = rand(size=size, seed=seed)\n",
    "    return (u <= p).astype(int)\n",
    "\n",
    "def binomial(n, p=0.5, size=1, seed=None):\n",
    "    \"\"\"Generates Binomial(n, p) samples\"\"\"\n",
    "    x = []\n",
    "    for i in range(size):\n",
    "        b = bernoulli(p=p, size=n, seed=seed)\n",
    "        x.append(b.sum())\n",
    "    return np.array(x)\n",
    "\n",
    "def poisson(lambda_=1, size=1, seed=None):\n",
    "    \"\"\"Generates Poisson(lambda) samples using Knuth algorithm\"\"\"\n",
    "    array = []\n",
    "    L = np.exp(-lambda_)\n",
    "    for j in range(size):\n",
    "        x = 0\n",
    "        p = 1\n",
    "        while p > np.exp(-lambda_):\n",
    "            x += 1\n",
    "            p = p * rand(seed=seed)\n",
    "        array.append(x - 1)\n",
    "    return np.array(array)\n",
    "\n",
    "def exponential(lambda_=1, size=1, seed=None):\n",
    "    \"\"\"Generates Exp(lambda) samples using Inverse Transform Sampling\"\"\"\n",
    "    u = rand(seed=seed, size=size)\n",
    "    x = - (1 / lambda_) * np.log(1 - u)\n",
    "    return x\n",
    "\n",
    "def normal(mu=0, sigma=1, size=1, seed=None):\n",
    "    \"\"\"Generates N(mu, sigma) samples using Box-Muller Transform\"\"\"\n",
    "    u1 = rand(seed=seed, size=size)\n",
    "    u2 = rand(seed=seed, size=size)\n",
    "    z0 = np.sqrt(-2 * np.log(u1)) * np.cos(2 * np.pi * u2)\n",
    "    z1 = np.sqrt(-2 * np.log(u1)) * np.sin(2 * np.pi * u2)\n",
    "    return z0 * sigma + mu\n",
    "\n",
    "def _gen_and_plot(dist, **kwargs):\n",
    "    x = dist(**kwargs)\n",
    "    print(f'--------- {dist.__name__} ---------')\n",
    "    print(f'params = {kwargs}')\n",
    "    if dist.__name__ != 'choice':\n",
    "        print(f'mean = {x.mean()}   var = {x.var()}')\n",
    "    plt.hist(x)\n",
    "    plt.title(f'{dist.__name__}{kwargs}')\n",
    "    plt.show()\n",
    "    print()\n",
    "    print()"
   ]
  },
  {
   "cell_type": "code",
   "execution_count": null,
   "metadata": {},
   "outputs": [],
   "source": [
    "size = 1000\n",
    "_gen_and_plot(rand, size=size)\n",
    "_gen_and_plot(uniform, size=size, low=1, high=10)\n",
    "_gen_and_plot(randint, size=size, low=1, high=5)\n",
    "_gen_and_plot(choice, size=size, array=['a', 'b', 'b', 'a'])\n",
    "_gen_and_plot(bernoulli, size=size, p=0.2)\n",
    "_gen_and_plot(binomial, size=size, n=10, p=0.5)\n",
    "_gen_and_plot(poisson, size=size, lambda_=3)\n",
    "_gen_and_plot(exponential, size=size, lambda_=1)\n",
    "_gen_and_plot(normal, size=size, mu=0, sigma=1)"
   ]
  },
  {
   "cell_type": "code",
   "execution_count": null,
   "metadata": {},
   "outputs": [],
   "source": []
  },
  {
   "cell_type": "code",
   "execution_count": null,
   "metadata": {},
   "outputs": [],
   "source": []
  },
  {
   "cell_type": "code",
   "execution_count": null,
   "metadata": {},
   "outputs": [],
   "source": []
  },
  {
   "cell_type": "code",
   "execution_count": null,
   "metadata": {},
   "outputs": [],
   "source": []
  },
  {
   "cell_type": "code",
   "execution_count": null,
   "metadata": {},
   "outputs": [],
   "source": []
  },
  {
   "cell_type": "code",
   "execution_count": null,
   "metadata": {},
   "outputs": [],
   "source": []
  }
 ],
 "metadata": {
  "kernelspec": {
   "display_name": "Python 3",
   "language": "python",
   "name": "python3"
  },
  "language_info": {
   "codemirror_mode": {
    "name": "ipython",
    "version": 3
   },
   "file_extension": ".py",
   "mimetype": "text/x-python",
   "name": "python",
   "nbconvert_exporter": "python",
   "pygments_lexer": "ipython3",
   "version": "3.7.4"
  }
 },
 "nbformat": 4,
 "nbformat_minor": 2
}
