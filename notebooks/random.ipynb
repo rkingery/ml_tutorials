{
 "cells": [
  {
   "cell_type": "markdown",
   "metadata": {},
   "source": [
    "# Random Number Generation\n",
    "\n",
    "This notebook is an introduction to a somewhat tangential and perhaps advanced topic: How to generate random numbers. Many of you have probably used libraries like `random` or `np.random` before to quickly generate a random number. But what are they doing underneath the hood? While you may never in practice write your own random number generators from scratch, if for anything, knowing something about how to do so gives you a deeper understanding of the data sciences, and is a useful skill to know for data science interviews, where variants on such questions are often asked.\n",
    "\n",
    "<!--\n",
    "## Why Care About Randomness?\n",
    "Randomness is an essential aspect of machine learning and data science. For one thing, the theoretical foundations of statistics and machine learning are based on the theory of probability, the formal study of randomness. Many machine learning algorithms are based on probability models. For example, many supervised algorithms try to learn a discriminative probability function of the form $p(y|x)$. This is not the same thing as learning a deterministic function like $y=f(x)$. Why? Because of randomness. In many ways, machine learning itself is really just about making automated predictions under uncertainty.\n",
    "\n",
    "A deterministic function like $y=f(x)$ says that for each fixed $x$, you're *guaranteed* that the output will be $y$. A probability function like $p(y|x)$ allows for the possibility that a fixed $x$ might output a different $y$ each time the function is called. One example of such a probability function might look simply like $y = f(x) + \\text{noise}$, which is just the deterministic function above with a little random noise added in. But what is random noise, and how do you create it in your code?\n",
    "\n",
    "Asking \"what is noise\" intimately ties into the question of \"what is probability\", and is perhaps best answered by a study of probability theory. While I'll try my best to minimize how much you need to know about probability theory in this tutorial, it would at the minimum be a good idea if you're familiar with the notion of probability distributions, particularly the common ones (uniform, normal, binomial, etc), as well as common statistics like mean and variance.\n",
    "\n",
    "Why should we care about noise? Why not just make all our models deterministic? A few reasons. One big reason is measurement error. We can't guarantee that our data was collected and labeled 100% correctly (in fact, poor data quality is one of if not the most common cause of ML systems performing poorly in production). Imagine you were trying to do regression and your training set consisted of human-collected $(x,y)$ pairs that look something like this:\n",
    "\n",
    "| x       | y |\n",
    "|---------|---|\n",
    "| 1.1     | 1.001 |\n",
    "| 2.001   | 1.9 |\n",
    "| 2.99    | 3.0 |\n",
    "| 4.00001 | 3.99 |\n",
    "| 5.0     | 5.0001 |\n",
    "\n",
    "It may at least cross your mind looking at this table that if you were able to round the values then you'd have a nice clean line $y=x$. While it is of course *possible* that the decimal parts are real, it does seem kind of unlikely. It seems much more likely that at least some of the decimal part is due to measurement error. Were you to assume no random noise and just blindly fit a deterministic model to this data you'd almost certainly generalize poorly to new data. You'd be *overfitting*. It would be far more sensible to fit a probability model $y = x + \\varepsilon$, where $\\varepsilon$ is a stand-in for random noise due to measurement error. You could imagine simulating this measurement process by *sampling* the *random variable* $\\varepsilon$ from a probability distribution (e.g. a standard normal), and then adding it to $x$ to get the target value $y$. Taking randomness into account thus allows ML models to learn *robust* (i.e. noise-tolerant) functions to estimate the data.\n",
    "\n",
    "Another reason randomness is important in ML is that it can be used to improve model performance. For example, here are a few interesting observations about deep neural networks:\n",
    "- They train better when their weights are randomly initialized a certain way. Bad initializations can result in very poor models.\n",
    "- They generalize better when their weights are stored in a reduced precision floating point (which is a way of adding randomness to the weights themselves). A common trend now is to use *half precision* floating point for the weights. Seems against the grain that more precise is better, right?\n",
    "- They train better when neurons in each layer are randomly zeroed out during each iteration. This is called dropout.\n",
    "-->\n",
    "\n",
    "Now, let's talk about how one might go about generating random numbers from scratch in python. It turns out this is a subtle topic, because computers are deterministic devices (more or less). Programs follow a well-defined sequence of instructions, which is a deterministic process, so how can one generate anything approximating random behavior from a deterministic process? It turns out you can, kind of. We call the \"random\" numbers generated in such a way *pseudo-random*, because they're not really random (they can't be), but they none the less behave as random in most practical respects.\n",
    "\n",
    "Let's see how this can be done. The only libraries we allow ourselves to use here are `numpy` (but not `np.random`) , `pandas` (mainly for visualization), and `matplotlib`, except for some special util functions later on. Let's start by loading these libraries in as usual."
   ]
  },
  {
   "cell_type": "code",
   "execution_count": 25,
   "metadata": {},
   "outputs": [],
   "source": [
    "import numpy as np\n",
    "import pandas as pd\n",
    "import matplotlib.pyplot as plt\n",
    "\n",
    "seed = 123\n",
    "np.random.seed(seed)"
   ]
  },
  {
   "cell_type": "code",
   "execution_count": 2,
   "metadata": {},
   "outputs": [],
   "source": [
    "def summarize(sample, title=None):\n",
    "    df = pd.Series(samples)\n",
    "    print(df.describe())\n",
    "    plt.hist(sample);\n",
    "    plt.title(title)\n",
    "    plt.show()"
   ]
  },
  {
   "cell_type": "markdown",
   "metadata": {},
   "source": [
    "## Sampling From a Standard Uniform Distribution (rand)\n",
    "\n",
    "I've mentioned that random number generators are in fact not random, but deterministic, yet behave as random for many practical purposes. How do we achieve this? The trick is to define a function that generates outputs in a sequence that *look like* they have no discernible relationship to each other, while at the same time the (shuffled) sequence looks like it comes from some distribution. It will work as follows, we specify an initial value, called the *seed*, denoted $x_0$. Suppose we'd like to generate $n$ pseudo-random numbers $x_1, x_2, \\cdots, x_n$. For a suitable function $f$, we can do this via a recursion like this:\n",
    "$$x_1 = f(x_0)$$\n",
    "$$x_2 = f(x_1)$$\n",
    "$$x_3 = f(x_2)$$\n",
    "$$ \\dots $$\n",
    "$$x_n = f(x_{n-1}).$$\n",
    "\n",
    "The first goal will be to define a function $f$ that can generate a sequence of numbers $x_1, x_2, \\cdots, x_n$ that *look like* they were uniformly sampled from the continuous range $[0,1]$. That is, each sample is equally likely to take on any continuous value between 0 and 1, but nothing else. One simple, though non-intuitive type of function that can do this is the *linear congruence generator* (LCG). An LCG function has the form\n",
    "$$f(x) = (ax + c) \\mod m,$$\n",
    "where $a,c,m$ are suitably large integer constants fixed ahead of time. \n",
    "\n",
    "Let's see what a function like this outputs on a simple example, where $a=5, c=3, m=8$, and seed is $x_0=123$. Does it look random to you? Does the set look uniformly sampled from $[0,1]$?"
   ]
  },
  {
   "cell_type": "code",
   "execution_count": 3,
   "metadata": {},
   "outputs": [],
   "source": [
    "a = 5\n",
    "c = 3\n",
    "m = 8\n",
    "f = lambda x: (a * x + c) % m"
   ]
  },
  {
   "cell_type": "code",
   "execution_count": 4,
   "metadata": {},
   "outputs": [
    {
     "name": "stdout",
     "output_type": "stream",
     "text": [
      "2\n",
      "5\n",
      "4\n",
      "7\n",
      "6\n",
      "1\n",
      "0\n",
      "3\n",
      "2\n",
      "5\n"
     ]
    }
   ],
   "source": [
    "x = 123\n",
    "for i in range(10):\n",
    "    x = f(x)\n",
    "    print(x)"
   ]
  },
  {
   "cell_type": "markdown",
   "metadata": {},
   "source": [
    "The set does look kind of random. Could you predict the sequence without knowing $a, c, m, x_0$? It's obvious each number isn't between 0 and 1, yet, but we can fix that pretty easily. Does the sequence look uniformly random? Hard to say. Let's sample some more numbers and plot their histogram. \n",
    "\n",
    "Looks pretty uniform to me. Notice the values though. It turns out that this function only samples (pseudo) uniformly between 0 and 7, i.e. in the integer range $0, \\cdots, m-1$. This suggests two observations: 1) we can scale samples to be between 0 and 1 by dividing them by $m$, and 2) the size of $m$ controls the granularity of how fine we can sample (higher $m$ means finer sampling in $[0,1]$).\n",
    "\n",
    "Remark: It's actually very important that $a, c, m$ be chosen a certain way. You can't just pick any values or you'll get things like repeating sequences. See [here](https://en.wikipedia.org/wiki/Linear_congruential_generator) for details."
   ]
  },
  {
   "cell_type": "code",
   "execution_count": 5,
   "metadata": {},
   "outputs": [
    {
     "data": {
      "image/png": "[encoded data removed]",
      "text/plain": [
       "<Figure size 432x288 with 1 Axes>"
      ]
     },
     "metadata": {
      "needs_background": "light"
     },
     "output_type": "display_data"
    }
   ],
   "source": [
    "samples = []\n",
    "x = 123\n",
    "for i in range(1000):\n",
    "    x = f(x)\n",
    "    samples.append(x)\n",
    "\n",
    "# plotting a nicer histogram than plt.hist would give\n",
    "u, counts = np.unique(samples, return_counts=True);\n",
    "plt.bar(np.arange(len(u)), counts);\n",
    "plt.xticks(np.arange(len(u)), u);"
   ]
  },
  {
   "cell_type": "markdown",
   "metadata": {},
   "source": [
    "In practice, it's a good idea to choose $a, c, m$ to all be large integers. A standard choice (though by no means the only one) is to take $a=1664525, c=1013904223, m=2^{31}$. Let's sample again with these constants, and then rescale by $m$ so the samples are between 0 and 1. There's certainly some visible variation, but on the whole the histogram looks rectangular, which is what you'd expect from a standard uniform sample.\n",
    "\n",
    "We can sanity check the generator some more by verifying the statistics look as expected. For a standard uniform, we'd expect samples to have\n",
    "\n",
    "\\begin{equation}\n",
    "\\begin{aligned}\n",
    "\\text{min}&=0, \\\\\n",
    "\\text{max}&=1, \\\\\n",
    "\\text{mean}&= \\frac{1}{2} = 0.5, \\\\\n",
    "\\text{std dev}&=\\sqrt{\\frac{1}{12}} \\approx 0.289.\n",
    "\\end{aligned}\n",
    "\\end{equation}\n",
    "\n",
    "Notice also that by taking more samples that the samples start to appear more uniform. In the first example below, I generate 1000 samples. In that case the histogram looks kind of uniform, but a bit bumpy. In the second example, I generate 10,000 samples. In that case the histogram looks significantly less bumpy, and the statistic estimates are 1-2 orders of magnitude closer to the true values above for a standard uniform."
   ]
  },
  {
   "cell_type": "code",
   "execution_count": 6,
   "metadata": {},
   "outputs": [
    {
     "name": "stdout",
     "output_type": "stream",
     "text": [
      "count    1000.000000\n",
      "mean        0.508971\n",
      "std         0.291887\n",
      "min         0.001314\n",
      "25%         0.244950\n",
      "50%         0.517116\n",
      "75%         0.775725\n",
      "max         0.999371\n",
      "dtype: float64\n"
     ]
    },
    {
     "data": {
      "image/png": "[encoded data removed]",
      "text/plain": [
       "<Figure size 432x288 with 1 Axes>"
      ]
     },
     "metadata": {
      "needs_background": "light"
     },
     "output_type": "display_data"
    }
   ],
   "source": [
    "a = 1664525\n",
    "c = 1013904223\n",
    "m = 2**31\n",
    "f = lambda x: (a * x + c) % m\n",
    "\n",
    "samples = []\n",
    "x = 123\n",
    "size = 1000\n",
    "for i in range(size):\n",
    "    x = f(x)\n",
    "    u = x / m\n",
    "    samples.append(u)\n",
    "\n",
    "summarize(samples)"
   ]
  },
  {
   "cell_type": "code",
   "execution_count": 7,
   "metadata": {},
   "outputs": [
    {
     "name": "stdout",
     "output_type": "stream",
     "text": [
      "count    10000.000000\n",
      "mean         0.500245\n",
      "std          0.289041\n",
      "min          0.000142\n",
      "25%          0.249011\n",
      "50%          0.500668\n",
      "75%          0.753247\n",
      "max          0.999677\n",
      "dtype: float64\n"
     ]
    },
    {
     "data": {
      "image/png": "[encoded data removed]",
      "text/plain": [
       "<Figure size 432x288 with 1 Axes>"
      ]
     },
     "metadata": {
      "needs_background": "light"
     },
     "output_type": "display_data"
    }
   ],
   "source": [
    "samples = []\n",
    "x = 123\n",
    "size = 10000\n",
    "for i in range(size):\n",
    "    x = f(x)\n",
    "    u = x / m\n",
    "    samples.append(u)\n",
    "\n",
    "summarize(samples)"
   ]
  },
  {
   "cell_type": "markdown",
   "metadata": {},
   "source": [
    "We finally have everything we need to implement the most fundamental random number generator of all, the `rand` function. But first, a brief word on generating seeds.\n",
    "\n",
    "There are two common situations when it comes to seeds. In one case, the usual case in data science situations, the seed should always be fixed and pre-specified before hand. This allows for seemingly random programs to be reproduced by someone else, which is useful for verifying that the program is running as intended. In data science, this (sort of) allows one to be able to train a new model that reproduces the behavior of a previously trained model. As a rule of thumb, if you're trying to do *reproducible research*, you should always fix and specify your seed in advance.\n",
    "\n",
    "In the other case, fixing and publishing the seed is bad, as knowledge of the seed takes what *should* be a random process and makes it completely deterministic. If one knows the seed, the generator used, and how many samples have been sampled so far, one can in principle predict with certainty what the next sample will be. This is dangerous in certain fields like cryptography and security, where it's essential that one not easily be able to deconstruct a random function (as it might result in a very unfortunate hacking situation). \n",
    "\n",
    "In the latter case, it's essential that the seed be as hard as possible for a third party to guess. One often done way to generate hard-to-guess seeds is by choosing them based on the system clock the program is running on. For example, suppose the system clock reads `29344.743828348`. One can generate a seed by taking the sequence after the decimal point as an integer value for the seed, so in this case we'd have `seed = 743828348`. System clock seeds are hard to guess because it's hard for a human to figure out the *exact* time the seed was generated at the millisecond level. A simple such a seed generator is shown below as `get_seed`."
   ]
  },
  {
   "cell_type": "code",
   "execution_count": 8,
   "metadata": {},
   "outputs": [
    {
     "name": "stdout",
     "output_type": "stream",
     "text": [
      "6929731410928071\n",
      "6933804550208151\n",
      "6934164632111788\n",
      "6934454198926687\n",
      "6934720599092543\n",
      "6934989900328219\n",
      "6935265129432082\n",
      "6935527832247317\n",
      "6935799731872976\n",
      "6936061270534992\n"
     ]
    }
   ],
   "source": [
    "def get_seed():\n",
    "    \"\"\"Generates random seed using decimal part of system clock\"\"\"\n",
    "    import time\n",
    "    t = time.perf_counter()\n",
    "    return int((t % 1) * 1e16)\n",
    "\n",
    "for i in range(10):\n",
    "    print(get_seed())"
   ]
  },
  {
   "cell_type": "markdown",
   "metadata": {},
   "source": [
    "With this aside on seeds addressed, we return to the `rand` function, which is implemented below using the above linear congruence generator. The job of `rand` is to output a standard uniform number as described above. We will implement `rand` such that it takes constants `a, c, m`, a seed `seed`, and a size `size` specifying how many numbers to sample. To verify it works as intended we use `rand` to generate 1000 samples and show their summary statistics. To promote reproducibility, I fix all the seeds below in advance to the value defined at the beginning of the notebook."
   ]
  },
  {
   "cell_type": "code",
   "execution_count": 55,
   "metadata": {},
   "outputs": [
    {
     "name": "stdout",
     "output_type": "stream",
     "text": [
      "count    1000.000000\n",
      "mean        0.508486\n",
      "std         0.288553\n",
      "min         0.000689\n",
      "25%         0.269031\n",
      "50%         0.509139\n",
      "75%         0.761345\n",
      "max         0.995772\n",
      "dtype: float64\n"
     ]
    },
    {
     "data": {
      "image/png": "[encoded data removed]",
      "text/plain": [
       "<Figure size 432x288 with 1 Axes>"
      ]
     },
     "metadata": {
      "needs_background": "light"
     },
     "output_type": "display_data"
    }
   ],
   "source": [
    "def rand(a=1664525, c=1013904223, m=2**32, size=1, seed=None):\n",
    "    \"\"\"Generates Uniform(0,1) samples using linear congruence generator\"\"\"\n",
    "    f = lambda x: (a * x + c) % m\n",
    "    x = get_seed() if seed is None else seed\n",
    "    u = []\n",
    "    for i in range(size):\n",
    "        x = f(x)\n",
    "        u.append(x / m)\n",
    "    return np.array(u)\n",
    "\n",
    "size = 1000\n",
    "samples = rand(size=size, seed=seed)\n",
    "summarize(samples, title=f'rand')"
   ]
  },
  {
   "cell_type": "markdown",
   "metadata": {},
   "source": [
    "## Sampling From Other Probability Distributions\n",
    "\n",
    "Armed with `rand`, it turns out we can generate numbers from pretty much any probability distribution we want just by doing transformations on standard uniform samples. There are a few common ways to generate new distributions from a uniform random sample: simple probability transformations, inverse transform sampling, and rejection sampling.\n",
    "\n",
    "Simple probability transformations involve applying some kind of transformation to samples from the standard uniform to turn them into samples from a different desired distribution. Such transformations might involve translation, scaling, or simple operations like applying a common function (exp, log, power, trig, etc). We'll see a few examples of such techniques below.\n",
    "\n",
    "[Inverse transform sampling](https://en.wikipedia.org/wiki/Inverse_transform_sampling) works by making use of the following simple theorem from probability: If a [random variable](https://en.wikipedia.org/wiki/Continuous_random_variable) $X$ has a [cdf](https://en.wikipedia.org/wiki/Cumulative_distribution_function) $F$, then the random variable $U=F(X)$ has a standard uniform distribution. We can make use of the inverse of this theorem. Namely, if $U$ is standard uniform, then $F^{-1}(U)$ has the same distribution as $X$. This means we can use a uniform sample to generate samples with the intended distribution by applying that distribution's inverse cdf to it, if we know it.\n",
    "\n",
    "[Rejection Sampling](https://en.wikipedia.org/wiki/Rejection_sampling) is a more advanced technique that involves sampling from an easier \"proposal\" distribution, and then keep only samples that satisfy some acceptance criterion that relates the proposal to the original distribution. Such an approach falls under the general umbrella of [Markov Chain Monte Carlo](https://en.wikipedia.org/wiki/Markov_chain_Monte_Carlo) (MCMC) methods. Perhaps the most powerful algorithm for doing rejection sampling is the [Metropolis-Hastings Algorithm](https://en.wikipedia.org/wiki/Metropolis_algorithm), which allows one to sample from arbitrary distributions (even if you don't know its functional form). I won't touch on these techniques here, but may come back to it later.\n",
    "\n",
    "### Uniform Distribution\n",
    "\n",
    "Perhaps the simplest distribution we can create from `rand` is the (arbitrary) uniform distribution. A number sampled from `uniform` takes parameters $low$ and $high$, and should return any continuous number in the interval $[low, high]$ with equal probability. It's just a rescaling of the standard uniform distribution. We can easily transform a standard uniform sample $\\text{Uniform}(0,1)$ to a $\\text{Uniform}(low, high)$ sample by applying the following rescaling:\n",
    "\n",
    "$$\\text{Uniform}(low, high) = (high - low)\\text{Uniform}(0,1)+low.$$\n",
    "\n",
    "This is implemented below. The expected statistics for this distribution are given below. How well do these values match the ones in the example below?\n",
    "\n",
    "\\begin{equation}\n",
    "\\begin{aligned}\n",
    "\\text{min}&=low, \\\\\n",
    "\\text{max}&=high, \\\\\n",
    "\\text{mean}&= \\frac{low + high}{2}, \\\\\n",
    "\\text{std dev}&=\\sqrt{\\frac{(high-low)^2}{12}}.\n",
    "\\end{aligned}\n",
    "\\end{equation}"
   ]
  },
  {
   "cell_type": "code",
   "execution_count": 71,
   "metadata": {},
   "outputs": [
    {
     "name": "stdout",
     "output_type": "stream",
     "text": [
      "count    1000.000000\n",
      "mean        5.084856\n",
      "std         2.885532\n",
      "min         0.006890\n",
      "25%         2.690312\n",
      "50%         5.091392\n",
      "75%         7.613449\n",
      "max         9.957720\n",
      "dtype: float64\n"
     ]
    },
    {
     "data": {
      "image/png": "[encoded data removed]",
      "text/plain": [
       "<Figure size 432x288 with 1 Axes>"
      ]
     },
     "metadata": {
      "needs_background": "light"
     },
     "output_type": "display_data"
    }
   ],
   "source": [
    "def uniform(low=0, high=1, size=1, seed=None):\n",
    "    \"\"\"Generates Uniform(low, high) samples\"\"\"\n",
    "    return ((high - low) * rand(seed=seed, size=size) + low)\n",
    "\n",
    "size = 1000\n",
    "samples = uniform(size=size, seed=seed, low=0, high=10)\n",
    "summarize(samples, title=f'uniform(low=0, high=10)')"
   ]
  },
  {
   "cell_type": "markdown",
   "metadata": {},
   "source": [
    "### Discrete Uniform Distribution (randint)\n",
    "\n",
    "The next distribution we'll discuss is the discrete uniform distribution, which is like the uniform distribution but only allowed allowed to take on integer values in the interval. Namely, given parameters $low$ and $high$, a $\\text{DiscreteUniform}(low, high)$ sample can take on any integer value between $low$ and $high$ with equal probability.\n",
    "\n",
    "The discrete uniform implementation is frequently called `randint`. It works simply by sampling from `uniform(low, high)` and rounding each number down to the nearest integer. Note this means in particular that `low` is inclusive while `high` is exclusive, so values take a range `low, ..., high-1`.\n",
    "\n",
    "The expected statistics for $\\text{DiscreteUniform}(low, high)$ with support $[low,high)$ are below. How well do these values match the ones in the example below?\n",
    "\n",
    "\\begin{equation}\n",
    "\\begin{aligned}\n",
    "\\text{min}&=low, \\\\\n",
    "\\text{max}&=high-1, \\\\\n",
    "\\text{mean}&= \\frac{low + high - 1}{2}, \\\\\n",
    "\\text{std dev}&=\\sqrt{\\frac{(high-low)^2-1}{12}}.\n",
    "\\end{aligned}\n",
    "\\end{equation}"
   ]
  },
  {
   "cell_type": "code",
   "execution_count": 72,
   "metadata": {},
   "outputs": [
    {
     "name": "stdout",
     "output_type": "stream",
     "text": [
      "count    1000.000000\n",
      "mean        2.056000\n",
      "std         1.404577\n",
      "min         0.000000\n",
      "25%         1.000000\n",
      "50%         2.000000\n",
      "75%         3.000000\n",
      "max         4.000000\n",
      "dtype: float64\n"
     ]
    },
    {
     "data": {
      "image/png": "[encoded data removed]",
      "text/plain": [
       "<Figure size 432x288 with 1 Axes>"
      ]
     },
     "metadata": {
      "needs_background": "light"
     },
     "output_type": "display_data"
    }
   ],
   "source": [
    "def randint(low=0, high=2, size=1, seed=None):\n",
    "    \"\"\"Generates DiscreteUniform(low, high) samples, i.e. random ints [low, high)\"\"\"\n",
    "    u = uniform(low=low, high=high, size=size, seed=seed)\n",
    "    return np.floor(u).astype(int)\n",
    "\n",
    "size = 1000\n",
    "samples = randint(size=size, seed=seed, low=0, high=5)\n",
    "summarize(samples, title=f'randint(low=1, high=5)')"
   ]
  },
  {
   "cell_type": "markdown",
   "metadata": {},
   "source": [
    "### Sampling an Array (choice)\n",
    "\n",
    "Before continuing with the other distributions let's make a quick detour and talk about randomly sampling from an arbitrary array. When doing so it's necessary to distinguish between randomly sampling *with replacement* (WR) and randomly sampling *without replacement* (WOR). When sampling WR, we imagine putting that value back into the array so we can sample it again later if we wish with an equal probability. Whereas when sampling WOR, we imagine holding the value out so it can't be sampled again later (which means among other things that sampling can't be uniform since the probabilities change as a result of removing elements from the array).\n",
    "\n",
    "In the case of sampling from an array we usually mean sampling WR (though not always). The implementation of sampling from an array is called `choice` in python. Below is an implementation of `choice` to allow sampling WR from an arbitrary array. Notice all we have to do is randomly sample the index of the array with `randint`, and then just return the values corresponding to those indexes.\n",
    "\n",
    "In the sample below, we sample from `choice` `size` times on the string `abracadabra`, and display the counts for each letter and the histogram. Do the frequencies shown appear to match the frequency of the letters as they appear in `abracadabra`? They should."
   ]
  },
  {
   "cell_type": "code",
   "execution_count": 52,
   "metadata": {},
   "outputs": [
    {
     "name": "stdout",
     "output_type": "stream",
     "text": [
      "a    437\n",
      "b    181\n",
      "r    171\n",
      "d    106\n",
      "c    105\n",
      "dtype: int64\n"
     ]
    },
    {
     "data": {
      "image/png": "[encoded data removed]",
      "text/plain": [
       "<Figure size 432x288 with 1 Axes>"
      ]
     },
     "metadata": {
      "needs_background": "light"
     },
     "output_type": "display_data"
    }
   ],
   "source": [
    "def choice(array, size=1, seed=None):\n",
    "    \"\"\"Randomly samples from given array, with replacement\"\"\"\n",
    "    array = np.array(array)\n",
    "    r = randint(low=0, high=len(array), size=size, seed=seed)\n",
    "    return array[r]\n",
    "\n",
    "array = list('abracadabra')\n",
    "\n",
    "size = 1000\n",
    "samples = choice(array, size=size, seed=seed)\n",
    "print(pd.Series(samples).value_counts())\n",
    "plt.hist(samples);\n",
    "plt.title(f'choice(\\'{\"\".join(array)}\\')');"
   ]
  },
  {
   "cell_type": "markdown",
   "metadata": {},
   "source": [
    "### Bernoulli Distribution\n",
    "\n",
    "Returning to distributions, the Bernoulli distribution is a basic distribution that only takes on binary values 0 and 1. Sampling from $\\text{Bernoulli}(p)$ returns 1 with probability $p$ or 0 with probability $1-p$. As you probably know, this distribution is frequently used to model real-world binary processes like coin flips, and is the theoretical basis of (binary) logistic regression. Its density is given by\n",
    "\n",
    "$$p(x) = p^x (1-p)^{1-x}.$$\n",
    "\n",
    "We can again implement $\\text{Bernoulli}(p)$ using `rand`. The idea here is to use $p$ as a threshold to decide whether to round a `rand` number down to 0 or up to 1. This is implemented below as `bernoulli`, which takes a parameter `p` and returns a $\\text{Bernoulli}(p)$ sample.\n",
    "\n",
    "The expected statistics for $\\text{Bernoulli}(p)$ are below. How well do these values match the ones in the example below?\n",
    "\n",
    "\\begin{equation}\n",
    "\\begin{aligned}\n",
    "\\text{min}&=0, \\\\\n",
    "\\text{max}&=1, \\\\\n",
    "\\text{mean}&= p, \\\\\n",
    "\\text{std dev}&=\\sqrt{p(1-p)}.\n",
    "\\end{aligned}\n",
    "\\end{equation}"
   ]
  },
  {
   "cell_type": "code",
   "execution_count": 56,
   "metadata": {},
   "outputs": [
    {
     "name": "stdout",
     "output_type": "stream",
     "text": [
      "count    1000.000000\n",
      "mean        0.188000\n",
      "std         0.390908\n",
      "min         0.000000\n",
      "25%         0.000000\n",
      "50%         0.000000\n",
      "75%         0.000000\n",
      "max         1.000000\n",
      "dtype: float64\n"
     ]
    },
    {
     "data": {
      "image/png": "[encoded data removed]",
      "text/plain": [
       "<Figure size 432x288 with 1 Axes>"
      ]
     },
     "metadata": {
      "needs_background": "light"
     },
     "output_type": "display_data"
    }
   ],
   "source": [
    "def bernoulli(p=0.5, size=1, seed=None):\n",
    "    \"\"\"Generates Bernoulli(p) samples\"\"\"\n",
    "    u = rand(size=size, seed=seed)\n",
    "    return (u <= p).astype(int)\n",
    "\n",
    "size = 1000\n",
    "samples = bernoulli(size=size, seed=seed, p=0.2)\n",
    "summarize(samples, title=f'bernoulli(p=0.2)')"
   ]
  },
  {
   "cell_type": "markdown",
   "metadata": {},
   "source": [
    "### Binomial Distribution\n",
    "\n",
    "As many of you know, the [binomial distribution](https://en.wikipedia.org/wiki/Binomial_distribution#Normal_approximation) is a model for the number of successful outcomes from $n$ binary (Bernoulli) trials. A $\\text{Binomial}(n,p)$ random variable is just a sum of $n$ Bernoulli random variables, and can thus take on integer values between $0$ and $n$. Its density is given by\n",
    "\n",
    "$$p(x) = {n \\choose x} p^x (1-p)^{n-x}.$$\n",
    "\n",
    "Given the binomial is just a sum of bernoullis, implementation is pretty easy. To create a function `binomial(n, p)`, we basically just call `bernoulli(p)` `n` times and sum the results together to get a single binomial sample. \n",
    "\n",
    "One subtlety in the implementation is worth addressing though. It's *very* important to make sure each bernoulli sample be taken with a different seed. If you use the same seed all of the bernoulli samples will end up being the same, which means each sample of `binomial` will be the same number! To get around this, and still keep things reproducible, the easiest thing to do is to increment the seed in each iteration of the loop.\n",
    "\n",
    "The expected statistics for $\\text{Binomial}(n,p)$ are below. How well do these values match the ones in the example below?\n",
    "\n",
    "\\begin{equation}\n",
    "\\begin{aligned}\n",
    "\\text{min}&=0, \\\\\n",
    "\\text{max}&=n, \\\\\n",
    "\\text{mean}&= np, \\\\\n",
    "\\text{std dev}&=\\sqrt{np(1-p)}.\n",
    "\\end{aligned}\n",
    "\\end{equation}\n",
    "\n",
    "Aside: Notice the histogram for this binomial sample looks almost like that of a Gaussian distribution. This is not a coincidence. Turns out $\\text{Binomial}(n,p) \\approx \\mathcal{N}(np, np(1-p))$ under certain regularity conditions. See [here](https://en.wikipedia.org/wiki/De_Moivre%E2%80%93Laplace_theorem) for details."
   ]
  },
  {
   "cell_type": "code",
   "execution_count": 58,
   "metadata": {},
   "outputs": [
    {
     "name": "stdout",
     "output_type": "stream",
     "text": [
      "count    1000.000000\n",
      "mean        4.929000\n",
      "std         1.560896\n",
      "min         1.000000\n",
      "25%         4.000000\n",
      "50%         5.000000\n",
      "75%         6.000000\n",
      "max        10.000000\n",
      "dtype: float64\n"
     ]
    },
    {
     "data": {
      "image/png": "[encoded data removed]",
      "text/plain": [
       "<Figure size 432x288 with 1 Axes>"
      ]
     },
     "metadata": {
      "needs_background": "light"
     },
     "output_type": "display_data"
    }
   ],
   "source": [
    "def binomial(n, p=0.5, size=1, seed=None):\n",
    "    \"\"\"Generates Binomial(n, p) samples\"\"\"\n",
    "    x = []\n",
    "    for i in range(size):\n",
    "        b = bernoulli(p=p, size=n, seed=seed)\n",
    "        x.append(b.sum())\n",
    "        seed += 1\n",
    "    return np.array(x)\n",
    "\n",
    "size = 1000\n",
    "samples = binomial(size=size, seed=seed, n=10, p=0.5)\n",
    "summarize(samples, title=f'binomial(n=10, p=0.5)')"
   ]
  },
  {
   "cell_type": "markdown",
   "metadata": {},
   "source": [
    "### Poisson Distribution\n",
    "\n",
    "The [Poisson distribution](https://en.wikipedia.org/wiki/Poisson_distribution) is used to model counting processes. $\\text{Poisson}(\\lambda)$ takes a parameter value $\\lambda > 0$, and can take on any positive integer value, and its density tends to have a \"hump\" character, where it peaks around the parameter value $\\lambda$. In math, its density is given by\n",
    "\n",
    "$$p(x) = \\frac{\\lambda^x e^{-\\lambda}}{x!}.$$\n",
    "\n",
    "Implementing a sampler for $\\text{Poisson}(\\lambda)$ is a bit different. Here I choose to implement `poisson` using a [sampling algorithm](https://en.wikipedia.org/wiki/Poisson_distribution#Generating_Poisson-distributed_random_variables) created by Donald Knuth. The idea here is to make use of a fact about Poisson distributions that states the time between new events is exponentially distributed. (More explanation to be added later.)\n",
    "\n",
    "Note: This algorithm only works well when `lambda_` is not too large (a rule of thumb is under `lambda_=30`). This is due to the fact that the inner loop depends on `np.exp(-lambda_)` taking on a non-zero value, which is impractical when `lambda_` is large due to numerical underflow. For larger values of `lambda_` the algorithm should be tweaked. See [here](https://www.johndcook.com/blog/2010/06/14/generating-poisson-random-values/) for an example of how to do this.\n",
    "\n",
    "The expected statistics for $\\text{Poisson}(\\lambda)$ are below. How well do these values match the ones in the example below?\n",
    "\n",
    "\\begin{equation}\n",
    "\\begin{aligned}\n",
    "\\text{min}&=0, \\\\\n",
    "\\text{max}&=\\infty, \\\\\n",
    "\\text{mean}&= \\lambda, \\\\\n",
    "\\text{std dev}&=\\sqrt{\\lambda}.\n",
    "\\end{aligned}\n",
    "\\end{equation}"
   ]
  },
  {
   "cell_type": "code",
   "execution_count": 59,
   "metadata": {},
   "outputs": [
    {
     "name": "stdout",
     "output_type": "stream",
     "text": [
      "count    1000.000000\n",
      "mean       13.960000\n",
      "std         4.751734\n",
      "min         7.000000\n",
      "25%        10.000000\n",
      "50%        13.000000\n",
      "75%        18.000000\n",
      "max        25.000000\n",
      "dtype: float64\n"
     ]
    },
    {
     "data": {
      "image/png": "[encoded data removed]",
      "text/plain": [
       "<Figure size 432x288 with 1 Axes>"
      ]
     },
     "metadata": {
      "needs_background": "light"
     },
     "output_type": "display_data"
    }
   ],
   "source": [
    "def poisson(lambda_=1, size=1, seed=None):\n",
    "    \"\"\"Generates Poisson(lambda) samples using Knuth algorithm\"\"\"\n",
    "    array = []\n",
    "    L = np.exp(-lambda_)\n",
    "    for j in range(size):\n",
    "        x = 0\n",
    "        p = 1\n",
    "        while p > L:\n",
    "            x += 1\n",
    "            p = p * rand(seed=seed)\n",
    "        array.append(x - 1)\n",
    "        seed += 1\n",
    "    return np.array(array)\n",
    "\n",
    "size = 1000\n",
    "samples = poisson(size=size, seed=seed, lambda_=10)\n",
    "summarize(samples, title=f'poisson(lambda=10)')"
   ]
  },
  {
   "cell_type": "markdown",
   "metadata": {},
   "source": [
    "### Exponential Distribution\n",
    "\n",
    "The exponential distribution is often used to model arrival times of processes following a Poisson distribution. Given that it's used to model times, an exponential random variable can take on any positive real value. It's parametrized by a rate parameter $\\lambda > 0$ that determines the (inverse) expected arrival time. Its density is given by\n",
    "\n",
    "$$p(x) = \\lambda e^{-\\lambda x}.$$\n",
    "\n",
    "An $\\text{Exponential}(\\lambda)$ random sample can easily be generated using inverse transform sampling. The CDF of $\\text{Exponential}(\\lambda)$ is \n",
    "$$F(x) = 1 - e^{-\\lambda x},$$\n",
    "which means its inverse CDF is \n",
    "$$F^{-1}(u) = -\\frac{1}{\\lambda} \\log(1-u).$$\n",
    "Thus, we merely have to generate a `rand()` and apply the inverse CDF to it to get an exponential random sample. This is implemented as `exponential` below, and takes in the rate parameter as `lambda_`. I merely sample a uniform sample via `rand()` and apply the above inverse CDF transformation to get an exponential sample.\n",
    "\n",
    "The expected statistics for $\\text{Exponential}(\\lambda)$ are below. How well do these values match the ones in the example below?\n",
    "\n",
    "\\begin{equation}\n",
    "\\begin{aligned}\n",
    "\\text{min}&=0, \\\\\n",
    "\\text{max}&=\\infty, \\\\\n",
    "\\text{mean}&= \\frac{1}{\\lambda}, \\\\\n",
    "\\text{std dev}&=\\sqrt{\\frac{1}{\\lambda^2}}.\n",
    "\\end{aligned}\n",
    "\\end{equation}"
   ]
  },
  {
   "cell_type": "code",
   "execution_count": 60,
   "metadata": {},
   "outputs": [
    {
     "name": "stdout",
     "output_type": "stream",
     "text": [
      "count    1000.000000\n",
      "mean        1.004936\n",
      "std         0.936356\n",
      "min         0.000689\n",
      "25%         0.313385\n",
      "50%         0.711595\n",
      "75%         1.432740\n",
      "max         5.466028\n",
      "dtype: float64\n"
     ]
    },
    {
     "data": {
      "image/png": "[encoded data removed]",
      "text/plain": [
       "<Figure size 432x288 with 1 Axes>"
      ]
     },
     "metadata": {
      "needs_background": "light"
     },
     "output_type": "display_data"
    }
   ],
   "source": [
    "def exponential(lambda_=1, size=1, seed=None):\n",
    "    \"\"\"Generates Exp(lambda) samples using Inverse Transform Sampling\"\"\"\n",
    "    u = rand(seed=seed, size=size)\n",
    "    x = - (1 / lambda_) * np.log(1 - u)\n",
    "    return x\n",
    "\n",
    "size = 1000\n",
    "samples = exponential(size=size, seed=seed, lambda_=1)\n",
    "summarize(samples, title=f'exponential(lambda=1)')"
   ]
  },
  {
   "cell_type": "markdown",
   "metadata": {},
   "source": [
    "### Gaussian / Normal Distribution\n",
    "\n",
    "The Gaussian distribution (aka the Normal distribution) is without a doubt the most important distribution out there. It's used to model all kinds of things: measurement errors, the parameter values in a neural net, the velocities of a gas in a container, approximating other distributions via the central limit theorem, and much more. This distribution takes on the characteristic \"bell curve\", where a mean value is centered at the top of the bell, and values away from the mean become less and less likely to get sampled. The Gaussian, represented as $\\mathcal{N}(\\mu, \\sigma^2)$, takes two parameters $\\mu$ and $\\sigma$, each of which can take on any real value. Its density is given by\n",
    "\n",
    "$$ p(x) = \\frac{1}{\\sqrt{2 \\pi \\sigma^2}} e^{-\\frac{(x-\\mu)^2}{\\sigma^2}}.$$\n",
    "\n",
    "Generating samples from a Gaussian is most frequently done using the [Box Muller Transform](https://en.wikipedia.org/wiki/Box%E2%80%93Muller_transform). The idea is to apply a transformation to 2 uniform random variables $U_1, U_2$:\n",
    "\n",
    "$$ Z_0 = \\sqrt{-2 \\log U_1} \\cos (2 \\pi U_2)$$\n",
    "$$ Z_1 = \\sqrt{-2 \\log U_1} \\sin (2 \\pi U_2).$$\n",
    "\n",
    "It turns out that both $Z_0$ and $Z_1$ are (independent) $\\mathcal{N}(0, 1)$ random variables. It's a simple transformation to do, but may take a bit to wrap your head around as to why it works. We can then recover any $\\mathcal{N}(\\mu, \\sigma^2)$ variable by applying the transformation\n",
    "\n",
    "$$ X = \\sigma Z + \\mu.$$\n",
    "\n",
    "I have this coded up in the `normal` function below, which takes as input the 2 parameters `mu` and `sigma`. The two uniform samples `u1, u2` are generated by `rand()`. I only return the Gaussian variable generated by `z0`, but code up `z1` anyway so you can see it.\n",
    "\n",
    "The expected statistics for $\\mathcal{N}(\\mu, \\sigma^2)$ are below. How well do the sample statistics match?\n",
    "\n",
    "\\begin{equation}\n",
    "\\begin{aligned}\n",
    "\\text{min}&=-\\infty, \\\\\n",
    "\\text{max}&=\\infty, \\\\\n",
    "\\text{mean}&= \\mu, \\\\\n",
    "\\text{std dev}&=\\sigma.\n",
    "\\end{aligned}\n",
    "\\end{equation}"
   ]
  },
  {
   "cell_type": "code",
   "execution_count": 62,
   "metadata": {},
   "outputs": [
    {
     "name": "stdout",
     "output_type": "stream",
     "text": [
      "count    1000.000000\n",
      "mean       -0.025280\n",
      "std         1.009826\n",
      "min        -2.969240\n",
      "25%        -0.693808\n",
      "50%        -0.078186\n",
      "75%         0.633291\n",
      "max         3.339444\n",
      "dtype: float64\n"
     ]
    },
    {
     "data": {
      "image/png": "[encoded data removed]",
      "text/plain": [
       "<Figure size 432x288 with 1 Axes>"
      ]
     },
     "metadata": {
      "needs_background": "light"
     },
     "output_type": "display_data"
    }
   ],
   "source": [
    "def normal(mu=0, sigma=1, size=1, seed=None):\n",
    "    \"\"\"Generates N(mu, sigma) samples using Box-Muller Transform\"\"\"\n",
    "    u1 = rand(seed=seed, size=size)\n",
    "    u2 = rand(seed=seed+1, size=size)\n",
    "    z0 = np.sqrt(-2 * np.log(u1)) * np.cos(2 * np.pi * u2)\n",
    "    z1 = np.sqrt(-2 * np.log(u1)) * np.sin(2 * np.pi * u2)\n",
    "    return z0 * sigma + mu\n",
    "\n",
    "size = 1000\n",
    "samples = normal(size=size, seed=seed, mu=0, sigma=1)\n",
    "summarize(samples, title=f'normal(mu=0, sigma=1)')"
   ]
  },
  {
   "cell_type": "markdown",
   "metadata": {},
   "source": [
    "## References\n",
    "\n",
    "[1] https://towardsdatascience.com/how-to-generate-random-variables-from-scratch-no-library-used-4b71eb3c8dc7"
   ]
  }
 ],
 "metadata": {
  "kernelspec": {
   "display_name": "Python 3",
   "language": "python",
   "name": "python3"
  },
  "language_info": {
   "codemirror_mode": {
    "name": "ipython",
    "version": 3
   },
   "file_extension": ".py",
   "mimetype": "text/x-python",
   "name": "python",
   "nbconvert_exporter": "python",
   "pygments_lexer": "ipython3",
   "version": "3.6.2"
  }
 },
 "nbformat": 4,
 "nbformat_minor": 2
}
