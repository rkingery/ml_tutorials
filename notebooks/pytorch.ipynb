{
 "cells": [
  {
   "cell_type": "markdown",
   "id": "fe4e1a42-0170-47dd-bba5-89af4dee04cf",
   "metadata": {},
   "source": [
    "# Introduction to PyTorch\n",
    "\n",
    "In this tutorial, we finally start to take steps towards deep learning by learning some of the basics of PyTorch. Unlike classical ML approaches done thus far, deep learning tends to be *extremely* computationally intensive. Because of this, and the fact that deep learning is more hands on and modular than other \"off the shelf\" ML algorithms like those in sklearn, deep learning requires learning a whole new set of frameworks. As of 2022, the dominant deep learning frameworks are PyTorch and TensorFlow. PyTorch has traditionally been favored by researchers because it's more modular and easier to learn, while Tensorflow has traditionally been favored more in industry settings. In the past couple of years though, PyTorch has made headway into industry settings as well, and (along with the new upstart framework JAX) appears to be slowly displacing TensorFlow in industry as well. It's for these reasons that I've decided to focus on PyTorch as our framework for introducing deep learning in these tutorials.\n",
    "\n",
    "If you haven't yet, you'll want to start by installing PyTorch [here](https://pytorch.org/). The specifics will depend on your OS, what python environment you're using, and whether you have an NVIDIA GPU with Cuda compatibility on your system. Note that PyTorch is quite a large package install, especially the GPU versions.\n",
    "\n",
    "In many ways, we can use PyTorch the same way that we use NumPy. Many of the commands are the same (but unfortunately many are not, and I'll try to point out the differences where they arise). To import PyTorch, we call `import torch`. We also set a seed by calling `torch.manual_seed(seed)`. We'll also go ahead and import numpy and matplotlib as well for later."
   ]
  },
  {
   "cell_type": "code",
   "execution_count": 39,
   "id": "f2e865f6-2952-49d5-a300-0f0337bd212f",
   "metadata": {},
   "outputs": [
    {
     "data": {
      "text/plain": [
       "<torch._C.Generator at 0x104121e30>"
      ]
     },
     "execution_count": 39,
     "metadata": {},
     "output_type": "execute_result"
    }
   ],
   "source": [
    "import torch\n",
    "import numpy as np\n",
    "import matplotlib.pyplot as plt\n",
    "\n",
    "torch.manual_seed(123)"
   ]
  },
  {
   "cell_type": "markdown",
   "id": "9011edab-8a0d-42fb-a786-4fff3713ca38",
   "metadata": {},
   "source": [
    "## Tensors\n",
    "\n",
    "The fundamental data structure in pytorch is the **tensor**, which functions more or less the same as the numpy array. The term **tensor** comes from math and physics, where ([roughly speaking](https://en.wikipedia.org/wiki/Tensor)) it refers to a an array with arbitrarily many dimensions. A one dimensional array is often called a **vector**. A two dimensional array is often called a **matrix**. And any higher dimensional array is often called a *tensor*. For practical purposes though, you'll lose little to nothing by thinking of an array and a tensor as the same thing, just with different names.\n",
    "\n",
    "Defining a tensor in pytorch is pretty similar to defining an array in numpy."
   ]
  },
  {
   "cell_type": "code",
   "execution_count": 5,
   "id": "1ca231b5-5793-41a6-964b-d769665d612b",
   "metadata": {},
   "outputs": [
    {
     "data": {
      "text/plain": [
       "([0.8, 1, 9.2, 10001, -4, 0],\n",
       " array([ 8.0000e-01,  1.0000e+00,  9.2000e+00,  1.0001e+04, -4.0000e+00,\n",
       "         0.0000e+00]),\n",
       " tensor([ 8.0000e-01,  1.0000e+00,  9.2000e+00,  1.0001e+04, -4.0000e+00,\n",
       "          0.0000e+00]))"
      ]
     },
     "execution_count": 5,
     "metadata": {},
     "output_type": "execute_result"
    }
   ],
   "source": [
    "x = [0.8, 1, 9.2, 10001, -4, 0]\n",
    "x_numpy = np.array(x)\n",
    "x_torch = torch.tensor(x)\n",
    "x, x_numpy, x_torch"
   ]
  },
  {
   "cell_type": "markdown",
   "id": "939f1f05-e5e7-4038-930d-f24162ff1d6c",
   "metadata": {},
   "source": [
    "Many of the usual operations from numpy carry over straight forwardly, including the rules for arithmetic, broadcasting, and indexing."
   ]
  },
  {
   "cell_type": "code",
   "execution_count": 8,
   "id": "88b73c29-9834-4fc5-9b85-8724f3572992",
   "metadata": {},
   "outputs": [
    {
     "data": {
      "text/plain": [
       "(torch.Size([3]), torch.Size([2, 3]))"
      ]
     },
     "execution_count": 8,
     "metadata": {},
     "output_type": "execute_result"
    }
   ],
   "source": [
    "x = torch.tensor([1, 1, 1])\n",
    "y = torch.tensor([[1, 2, 3], [4, 5, 6]])\n",
    "x.shape, y.shape"
   ]
  },
  {
   "cell_type": "code",
   "execution_count": 12,
   "id": "e7648706-1784-48d2-94e4-d8ac8badacd8",
   "metadata": {},
   "outputs": [
    {
     "data": {
      "text/plain": [
       "tensor([6, 6, 6])"
      ]
     },
     "execution_count": 12,
     "metadata": {},
     "output_type": "execute_result"
    }
   ],
   "source": [
    "x + 5"
   ]
  },
  {
   "cell_type": "code",
   "execution_count": 13,
   "id": "22df9b73-a774-45f6-8b18-dca62230499c",
   "metadata": {},
   "outputs": [
    {
     "data": {
      "text/plain": [
       "tensor([2, 2, 2])"
      ]
     },
     "execution_count": 13,
     "metadata": {},
     "output_type": "execute_result"
    }
   ],
   "source": [
    "x * 2"
   ]
  },
  {
   "cell_type": "code",
   "execution_count": 14,
   "id": "4a4601c4-27ba-46e9-89e5-70821d4a56cc",
   "metadata": {},
   "outputs": [
    {
     "data": {
      "text/plain": [
       "tensor([[2, 3, 4],\n",
       "        [5, 6, 7]])"
      ]
     },
     "execution_count": 14,
     "metadata": {},
     "output_type": "execute_result"
    }
   ],
   "source": [
    "y + x"
   ]
  },
  {
   "cell_type": "code",
   "execution_count": 34,
   "id": "66b60674-f669-4e35-ad6d-58e00d922790",
   "metadata": {},
   "outputs": [
    {
     "data": {
      "text/plain": [
       "tensor(1)"
      ]
     },
     "execution_count": 34,
     "metadata": {},
     "output_type": "execute_result"
    }
   ],
   "source": [
    "x[0]"
   ]
  },
  {
   "cell_type": "code",
   "execution_count": 15,
   "id": "61f4c7a1-77cb-40f7-8ca6-04407fb10be1",
   "metadata": {},
   "outputs": [
    {
     "data": {
      "text/plain": [
       "tensor([], dtype=torch.int64)"
      ]
     },
     "execution_count": 15,
     "metadata": {},
     "output_type": "execute_result"
    }
   ],
   "source": [
    "x[x != 1]"
   ]
  },
  {
   "cell_type": "code",
   "execution_count": 16,
   "id": "49b4b912-2a54-4a8c-a75f-06c5b60ee62f",
   "metadata": {},
   "outputs": [
    {
     "data": {
      "text/plain": [
       "tensor([4, 5, 6])"
      ]
     },
     "execution_count": 16,
     "metadata": {},
     "output_type": "execute_result"
    }
   ],
   "source": [
    "y[y > 3]"
   ]
  },
  {
   "cell_type": "code",
   "execution_count": 18,
   "id": "43958e51-1537-4b84-bae3-15945b516952",
   "metadata": {},
   "outputs": [
    {
     "data": {
      "text/plain": [
       "(tensor([[1, 2, 3],\n",
       "         [4, 5, 6]]),\n",
       " tensor([[1, 4],\n",
       "         [2, 5],\n",
       "         [3, 6]]))"
      ]
     },
     "execution_count": 18,
     "metadata": {},
     "output_type": "execute_result"
    }
   ],
   "source": [
    "y, y.T"
   ]
  },
  {
   "cell_type": "markdown",
   "id": "51b1df82-92f1-48e4-8812-2eb99339fb14",
   "metadata": {},
   "source": [
    "Mathematical functions are also more or less the same as with numpy. When in doubt, try it and see if it works. If it doesn't, google how to do it in pytorch."
   ]
  },
  {
   "cell_type": "code",
   "execution_count": 35,
   "id": "00ff5a4c-bb68-4a7e-b6d2-d06f34ac06f6",
   "metadata": {},
   "outputs": [
    {
     "data": {
      "text/plain": [
       "tensor([2.7183, 2.7183, 2.7183])"
      ]
     },
     "execution_count": 35,
     "metadata": {},
     "output_type": "execute_result"
    }
   ],
   "source": [
    "torch.exp(x)"
   ]
  },
  {
   "cell_type": "code",
   "execution_count": 36,
   "id": "1a9ad573-111a-443c-820f-6568660a5a81",
   "metadata": {},
   "outputs": [
    {
     "data": {
      "text/plain": [
       "tensor([0.8415, 0.8415, 0.8415])"
      ]
     },
     "execution_count": 36,
     "metadata": {},
     "output_type": "execute_result"
    }
   ],
   "source": [
    "torch.sin(x)"
   ]
  },
  {
   "cell_type": "code",
   "execution_count": 37,
   "id": "e57b8b9e-c96c-4463-9258-8c0eda1e9b23",
   "metadata": {},
   "outputs": [
    {
     "data": {
      "text/plain": [
       "tensor([0.6931, 0.6931, 0.6931])"
      ]
     },
     "execution_count": 37,
     "metadata": {},
     "output_type": "execute_result"
    }
   ],
   "source": [
    "torch.log(2 * x)"
   ]
  },
  {
   "cell_type": "markdown",
   "id": "05d77d08-2c66-4a51-81a0-fd04b487d3e5",
   "metadata": {},
   "source": [
    "The usual functions for linear algebra operations carry over as well. Same for the random functions, except they're not part of a `random` submodule like in numpy. Note that `torch.dot` can't be used for matrix multiplies like `numpy.dot` can, so instead you have to use `torch.matmul` or the `@` operator."
   ]
  },
  {
   "cell_type": "code",
   "execution_count": 20,
   "id": "a67a065d-58b1-461d-82e4-e4747b9482a5",
   "metadata": {},
   "outputs": [
    {
     "data": {
      "text/plain": [
       "(torch.Size([3, 3]),\n",
       " tensor([[0.7264, 0.3153, 0.6871],\n",
       "         [0.0756, 0.1966, 0.3164],\n",
       "         [0.4017, 0.1186, 0.8274]]))"
      ]
     },
     "execution_count": 20,
     "metadata": {},
     "output_type": "execute_result"
    }
   ],
   "source": [
    "A = torch.rand(3, 3)\n",
    "A.shape, A"
   ]
  },
  {
   "cell_type": "code",
   "execution_count": 25,
   "id": "63c71d06-62b7-457d-9b88-e0f1e7c36033",
   "metadata": {},
   "outputs": [
    {
     "data": {
      "text/plain": [
       "(tensor([[0.8276, 0.3725, 1.1674],\n",
       "         [0.1969, 0.1000, 0.3760],\n",
       "         [0.6332, 0.2481, 0.9981]]),\n",
       " tensor([[0.8276, 0.3725, 1.1674],\n",
       "         [0.1969, 0.1000, 0.3760],\n",
       "         [0.6332, 0.2481, 0.9981]]))"
      ]
     },
     "execution_count": 25,
     "metadata": {},
     "output_type": "execute_result"
    }
   ],
   "source": [
    "A @ A, torch.matmul(A, A)"
   ]
  },
  {
   "cell_type": "markdown",
   "id": "d3e00cd9-fa5a-4a59-987b-167c38337608",
   "metadata": {},
   "source": [
    "To convert a pytorch tensor to a numpy array, we can use the `numpy()` method on any tensor. One important subtlety here though is that you have to make sure your tensor is on the CPU. We can check what device a tensor is on using its `device` attribute. More on this later...\n",
    "\n",
    "To convert a numpy array to a pytorch tensor, just cast the array with `torch.tensor` just as you would a list."
   ]
  },
  {
   "cell_type": "code",
   "execution_count": 26,
   "id": "9482df64-0587-4cf7-b03e-a2f15d56289a",
   "metadata": {},
   "outputs": [
    {
     "data": {
      "text/plain": [
       "device(type='cpu')"
      ]
     },
     "execution_count": 26,
     "metadata": {},
     "output_type": "execute_result"
    }
   ],
   "source": [
    "A.device"
   ]
  },
  {
   "cell_type": "code",
   "execution_count": 27,
   "id": "0a4ec7da-4c02-4942-a183-34946eb251f1",
   "metadata": {},
   "outputs": [
    {
     "data": {
      "text/plain": [
       "array([[0.72644675, 0.3152539 , 0.68710667],\n",
       "       [0.07563531, 0.19663817, 0.31641197],\n",
       "       [0.40174013, 0.1185683 , 0.8273954 ]], dtype=float32)"
      ]
     },
     "execution_count": 27,
     "metadata": {},
     "output_type": "execute_result"
    }
   ],
   "source": [
    "A_numpy = A.numpy()\n",
    "A_numpy"
   ]
  },
  {
   "cell_type": "code",
   "execution_count": 31,
   "id": "fca10f4c-5ad6-45e8-9c4b-ec50afcfc491",
   "metadata": {},
   "outputs": [
    {
     "data": {
      "text/plain": [
       "tensor([[0.7264, 0.3153, 0.6871],\n",
       "        [0.0756, 0.1966, 0.3164],\n",
       "        [0.4017, 0.1186, 0.8274]])"
      ]
     },
     "execution_count": 31,
     "metadata": {},
     "output_type": "execute_result"
    }
   ],
   "source": [
    "torch.tensor(A_numpy)"
   ]
  },
  {
   "cell_type": "markdown",
   "id": "e329cd72-5ace-4ac2-a8b4-1746e304e241",
   "metadata": {},
   "source": [
    "One annoying difference to remember between numpy and pytorch is that what is called `axis` in numpy as called `dim` in pytorch."
   ]
  },
  {
   "cell_type": "code",
   "execution_count": 28,
   "id": "e4560182-0a17-4d76-8ec4-bf1510e51626",
   "metadata": {},
   "outputs": [
    {
     "data": {
      "text/plain": [
       "array([1.7288072 , 0.58868545, 1.3477038 ], dtype=float32)"
      ]
     },
     "execution_count": 28,
     "metadata": {},
     "output_type": "execute_result"
    }
   ],
   "source": [
    "A_numpy.sum(axis=1) # sum along columns"
   ]
  },
  {
   "cell_type": "code",
   "execution_count": 29,
   "id": "9127aaee-9ee7-4fb7-be91-6e5b355e5e47",
   "metadata": {},
   "outputs": [
    {
     "data": {
      "text/plain": [
       "tensor([1.7288, 0.5887, 1.3477])"
      ]
     },
     "execution_count": 29,
     "metadata": {},
     "output_type": "execute_result"
    }
   ],
   "source": [
    "A.sum(dim=1)"
   ]
  },
  {
   "cell_type": "markdown",
   "id": "34f5954c-25ea-456e-acb8-15ed24853cca",
   "metadata": {},
   "source": [
    "Reshaping an array works the same way as in numpy. One important note on this though. In past versions of pytorch, the `reshape` method didn't exist, so people used the `view` method to do reshaping. You'll still see that a lot among people who have been using pytorch for a while, but there's no difference between the two methods. I recommend `reshape` since it's less to remember, and makes more intuitive sense for the operation of *reshaping an array* than `view` does!"
   ]
  },
  {
   "cell_type": "code",
   "execution_count": 32,
   "id": "2f2090fd-4282-4f6c-955b-463b1e01fd0a",
   "metadata": {},
   "outputs": [
    {
     "data": {
      "text/plain": [
       "tensor([[0.7264, 0.3153, 0.6871, 0.0756, 0.1966, 0.3164, 0.4017, 0.1186, 0.8274]])"
      ]
     },
     "execution_count": 32,
     "metadata": {},
     "output_type": "execute_result"
    }
   ],
   "source": [
    "A.reshape(1, -1) # flattens tensor into a row vector"
   ]
  },
  {
   "cell_type": "code",
   "execution_count": 33,
   "id": "d4a46bbc-b560-4827-99e2-fb0f6bf5240f",
   "metadata": {},
   "outputs": [
    {
     "data": {
      "text/plain": [
       "tensor([[0.7264, 0.3153, 0.6871, 0.0756, 0.1966, 0.3164, 0.4017, 0.1186, 0.8274]])"
      ]
     },
     "execution_count": 33,
     "metadata": {},
     "output_type": "execute_result"
    }
   ],
   "source": [
    "A.view(1, -1) # same thing..."
   ]
  },
  {
   "cell_type": "markdown",
   "id": "cbd7f0ec-5a8d-47ee-9ad9-cb2e60f0ebc6",
   "metadata": {},
   "source": [
    "If you want to use a pytorch tensor with usual libraries like pandas or matplotlib, you'll first need to convert it into a numpy array or it'll probably throw an error."
   ]
  },
  {
   "cell_type": "code",
   "execution_count": 40,
   "id": "bdb59ba2-210c-4a60-a51f-c5d0555328b0",
   "metadata": {},
   "outputs": [
    {
     "data": {
      "text/plain": [
       "[<matplotlib.lines.Line2D at 0x12f3b1cf0>]"
      ]
     },
     "execution_count": 40,
     "metadata": {},
     "output_type": "execute_result"
    },
    {
     "data": {
      "image/png": "[encoded data removed]",
      "text/plain": [
       "<Figure size 432x288 with 1 Axes>"
      ]
     },
     "metadata": {
      "needs_background": "light"
     },
     "output_type": "display_data"
    }
   ],
   "source": [
    "x = torch.linspace(0, 2*torch.pi, 100)\n",
    "y = torch.sin(x)\n",
    "plt.plot(x.numpy(), y.numpy())"
   ]
  },
  {
   "cell_type": "markdown",
   "id": "c0df9e0e-f150-483c-a8ff-3cfd57f78fe7",
   "metadata": {},
   "source": [
    "One important fact to keep in mind is that pytorch distinguishes between 2 types of tensors, float tensors and long tensors. Float tensors are tensors meant to store floating point values, while long tensors are meant to store integer values. In many cases it doesn't make a difference which type of tensor your use, but sometimes it does (e.g. when passing tensors through pytorch neural net layers or loss functions).\n",
    "\n",
    "We can explicitly cast a tensor as float or long using the `float` and `long` methods respectively. If you don't explicitly cast, pytorch will try to infer which way to cast the tensor by how the numbers are written. Roughly speaking, if none of your numbers use a decimal point, the tensor will be encoded as long. If any of them use a decimal point, it will be encoded as float. Most often you'll want a tensor encoded as float, in which case you'll either want to cast it explicitly using `float`, or make sure your numbers contain decimal points, e.g. by typing `0.` instead of `0` for a number."
   ]
  },
  {
   "cell_type": "code",
   "execution_count": 47,
   "id": "e906d184-694b-4c53-bd13-83cd74264d03",
   "metadata": {},
   "outputs": [
    {
     "data": {
      "text/plain": [
       "(tensor([1., 2., 3., 4.]), tensor([1, 2, 3, 4]))"
      ]
     },
     "execution_count": 47,
     "metadata": {},
     "output_type": "execute_result"
    }
   ],
   "source": [
    "x = [1, 2, 3, 4]\n",
    "x_float = torch.tensor(x).float()\n",
    "x_long = torch.tensor(x).long()\n",
    "x_float, x_long"
   ]
  },
  {
   "cell_type": "code",
   "execution_count": 48,
   "id": "409bbde7-62e5-4416-b629-eb1fc6c41911",
   "metadata": {},
   "outputs": [
    {
     "data": {
      "text/plain": [
       "tensor([1, 2, 3, 4])"
      ]
     },
     "execution_count": 48,
     "metadata": {},
     "output_type": "execute_result"
    }
   ],
   "source": [
    "torch.tensor([1, 2, 3, 4]) # autocast as long tensor since no decimal points"
   ]
  },
  {
   "cell_type": "code",
   "execution_count": 49,
   "id": "f765b8b2-682e-412b-bfd9-f5e23a529794",
   "metadata": {},
   "outputs": [
    {
     "data": {
      "text/plain": [
       "tensor([1., 2., 3., 4.])"
      ]
     },
     "execution_count": 49,
     "metadata": {},
     "output_type": "execute_result"
    }
   ],
   "source": [
    "torch.tensor([1., 2., 3., 4.]) # autocast as float tensor since decimal points"
   ]
  },
  {
   "cell_type": "markdown",
   "id": "2781c54d-cf9d-4aed-aca5-87e34d48bf22",
   "metadata": {},
   "source": [
    "## Autodifferentiation\n",
    "\n",
    "One major feature pytorch has that numpy doesn't is autodifferentiation. Essentially, this means that for pretty much any tensor, pytorch can automatically compute its derivative for you in a stable, computationally efficient way. While this might seem like a neat nice to have, it's actually crucial for deep learning since the fundamental learning algorithm (backpropagation) is essentially just using autodifferentiation on the parameters of a neural network to calculate their gradients.\n",
    "\n",
    "In pytorch lingo, the derivatives of a function (or tensor) are called **gradients**, or grads for short. By default, a standard pytorch tensor *will not* calculate the gradients for you unless you manually specify that you want it to. Usually the easiest way to tell pytorch that you want to record the gradients is to pass `requires_grad=True` as an argument to the input, i.e. the *independent variable*. To actually *calculate* the gradients, you're still not done. You have to build the computational graph, and then call `out.backwards()` on the output `out`, which *must* be a scalar.\n",
    "\n",
    "Here's an example. Suppose you want to calculate the derivative of $y=\\sin(x)$ numerically. \n",
    "1. First, you define a grid of `x` values using, e.g., `torch.linspace`, being sure to pass to it `requires_grad=True`. \n",
    "2. Then you calculate the array `y=torch.sin(x)`. Since `y` won't be a scalar (but rather a 1D tensor), you can't calculate the gradients directly from `y`. \n",
    "3. The hack around this is to define `out = y.sum()` to get a scalar, and *then* call `out.backwards()`. \n",
    "4. This will store the gradient values (i.e. the derivatives) in the *inputs* `x` under `x.grad`. That is, `dydx = x.grad`.\n",
    "\n",
    "**Note:** When you want to convert a tensor with autodiff turned on, i.e. with `requires_grad=True`, to numpy, you first have to call the `detach` method on it, which tells pytorch to turn autodiff off and treat it as an ordinary tensor again."
   ]
  },
  {
   "cell_type": "code",
   "execution_count": 85,
   "id": "68717bc4-a01f-4bb9-908b-fb20308c6eaf",
   "metadata": {},
   "outputs": [
    {
     "data": {
      "text/plain": [
       "(tensor([0.0000, 0.1282, 0.2565, 0.3847, 0.5129, 0.6411, 0.7694, 0.8976, 1.0258,\n",
       "         1.1541, 1.2823, 1.4105, 1.5387, 1.6670, 1.7952, 1.9234, 2.0517, 2.1799,\n",
       "         2.3081, 2.4363, 2.5646, 2.6928, 2.8210, 2.9493, 3.0775, 3.2057, 3.3339,\n",
       "         3.4622, 3.5904, 3.7186, 3.8468, 3.9751, 4.1033, 4.2315, 4.3598, 4.4880,\n",
       "         4.6162, 4.7444, 4.8727, 5.0009, 5.1291, 5.2574, 5.3856, 5.5138, 5.6420,\n",
       "         5.7703, 5.8985, 6.0267, 6.1550, 6.2832], requires_grad=True),\n",
       " tensor([ 0.0000e+00,  1.2788e-01,  2.5365e-01,  3.7527e-01,  4.9072e-01,\n",
       "          5.9811e-01,  6.9568e-01,  7.8183e-01,  8.5514e-01,  9.1441e-01,\n",
       "          9.5867e-01,  9.8718e-01,  9.9949e-01,  9.9538e-01,  9.7493e-01,\n",
       "          9.3847e-01,  8.8660e-01,  8.2017e-01,  7.4028e-01,  6.4823e-01,\n",
       "          5.4553e-01,  4.3388e-01,  3.1511e-01,  1.9116e-01,  6.4070e-02,\n",
       "         -6.4070e-02, -1.9116e-01, -3.1511e-01, -4.3388e-01, -5.4554e-01,\n",
       "         -6.4823e-01, -7.4028e-01, -8.2017e-01, -8.8660e-01, -9.3847e-01,\n",
       "         -9.7493e-01, -9.9538e-01, -9.9949e-01, -9.8718e-01, -9.5867e-01,\n",
       "         -9.1441e-01, -8.5514e-01, -7.8183e-01, -6.9568e-01, -5.9811e-01,\n",
       "         -4.9072e-01, -3.7527e-01, -2.5365e-01, -1.2788e-01,  1.7485e-07],\n",
       "        grad_fn=<SinBackward0>),\n",
       " tensor(-1.5721e-06, grad_fn=<SumBackward0>))"
      ]
     },
     "execution_count": 85,
     "metadata": {},
     "output_type": "execute_result"
    }
   ],
   "source": [
    "x = torch.linspace(0, 2*torch.pi, 50, requires_grad=True)\n",
    "y = torch.sin(x)\n",
    "out = y.sum()\n",
    "x, y, out"
   ]
  },
  {
   "cell_type": "code",
   "execution_count": 86,
   "id": "81fdbd2c-6a78-4356-98d5-f7fc6a8fbf26",
   "metadata": {},
   "outputs": [],
   "source": [
    "out.backward()\n",
    "dydx = x.grad"
   ]
  },
  {
   "cell_type": "code",
   "execution_count": 87,
   "id": "5d778c47-eaaf-47d8-a308-9c3ac9265409",
   "metadata": {},
   "outputs": [
    {
     "data": {
      "image/png": "[encoded data removed]",
      "text/plain": [
       "<Figure size 432x288 with 1 Axes>"
      ]
     },
     "metadata": {
      "needs_background": "light"
     },
     "output_type": "display_data"
    }
   ],
   "source": [
    "plt.plot(x.detach().numpy(), y.detach().numpy(), label='$y=\\sin(x)$')\n",
    "plt.plot(x.detach().numpy(), dydx.detach().numpy(), label='$\\\\frac{dy}{dx}=\\cos(x)$')\n",
    "plt.legend()\n",
    "plt.show()"
   ]
  },
  {
   "cell_type": "markdown",
   "id": "7b6b0b2d-34f1-4adb-b058-ec0f4d087fee",
   "metadata": {},
   "source": [
    "This works for partial derivatives too, where you can have multiple independent variables. For example, consider the bivariate function $z = x^3 - y^3$. We can calculate the partial derivatives $\\frac{\\partial z}{\\partial x}=3x^2$, $\\frac{\\partial z}{\\partial y}=-3y^2$ in a similar way. The relevant gradients will then be `dzdx = x.grad` and `dzdy = y.grad`."
   ]
  },
  {
   "cell_type": "code",
   "execution_count": 107,
   "id": "52a22217-d993-4b94-b78d-ec22cab5015a",
   "metadata": {},
   "outputs": [
    {
     "data": {
      "text/plain": [
       "(torch.Size([50, 50]),\n",
       " torch.Size([50, 50]),\n",
       " torch.Size([50, 50]),\n",
       " tensor(-0.0003, grad_fn=<SumBackward0>))"
      ]
     },
     "execution_count": 107,
     "metadata": {},
     "output_type": "execute_result"
    }
   ],
   "source": [
    "x = torch.linspace(-5, 5, 50, requires_grad=True)\n",
    "y = torch.linspace(-5, 5, 50, requires_grad=True)\n",
    "xx, yy = torch.meshgrid(x, y, indexing='ij')\n",
    "z = xx**3 - yy**3\n",
    "out = z.sum()\n",
    "xx.shape, yy.shape, z.shape, out"
   ]
  },
  {
   "cell_type": "code",
   "execution_count": 108,
   "id": "052ec8d4-acb5-4aca-8d9b-d6a4b945c55c",
   "metadata": {},
   "outputs": [
    {
     "data": {
      "text/plain": [
       "(torch.Size([50]), torch.Size([50]))"
      ]
     },
     "execution_count": 108,
     "metadata": {},
     "output_type": "execute_result"
    }
   ],
   "source": [
    "out.backward()\n",
    "dzdx = x.grad\n",
    "dzdy = y.grad\n",
    "dzdx.shape, dzdy.shape"
   ]
  },
  {
   "cell_type": "code",
   "execution_count": 111,
   "id": "a13f13f5-ec49-45c7-94bd-99b0b14728d6",
   "metadata": {},
   "outputs": [
    {
     "data": {
      "image/png": "[encoded data removed]",
      "text/plain": [
       "<Figure size 432x288 with 1 Axes>"
      ]
     },
     "metadata": {
      "needs_background": "light"
     },
     "output_type": "display_data"
    }
   ],
   "source": [
    "plt.plot(x.detach().numpy(), dzdx.detach().numpy())\n",
    "plt.xlabel('x')\n",
    "plt.ylabel('z')\n",
    "plt.title('$\\\\frac{\\partial z}{\\partial x}=3x^2$', fontsize=13)\n",
    "plt.show()"
   ]
  },
  {
   "cell_type": "code",
   "execution_count": 112,
   "id": "cb491b36-aa68-4bbe-83eb-6391580badc1",
   "metadata": {},
   "outputs": [
    {
     "data": {
      "image/png": "[encoded data removed]",
      "text/plain": [
       "<Figure size 432x288 with 1 Axes>"
      ]
     },
     "metadata": {
      "needs_background": "light"
     },
     "output_type": "display_data"
    }
   ],
   "source": [
    "plt.plot(y.detach().numpy(), dzdy.detach().numpy())\n",
    "plt.xlabel('y')\n",
    "plt.ylabel('z')\n",
    "plt.title('$\\\\frac{\\partial z}{\\partial y}=-3y^2$', fontsize=13)\n",
    "plt.show()"
   ]
  },
  {
   "cell_type": "markdown",
   "id": "0df0e657-176f-4c4c-b2fd-822b1714809d",
   "metadata": {},
   "source": [
    "In deep learning we will *always* be dealing with *highly* multivariate functions of millions or billions of variables (the parameters of the neural network). The main difference is that we'll always have a scalar *loss function* to call `backward` on instead of a made up sum function like above. Here's a simple example of what such a calculation might look like. Here, the parameters `W` are what we want to calculate the gradients `dlossdW` of. The *data* `x` and `y` are assumed given and unchanging, hence we don't want their gradients. The loss function defined is the *mean squared loss*, used typically for regression tasks. We'll see all this in more detail when we get to neural networks in a future tutorial."
   ]
  },
  {
   "cell_type": "code",
   "execution_count": 120,
   "id": "50d8dd0a-f575-4789-a449-a3c9c9a73a5a",
   "metadata": {},
   "outputs": [
    {
     "data": {
      "text/plain": [
       "(torch.Size([20, 100]), torch.Size([20, 100]))"
      ]
     },
     "execution_count": 120,
     "metadata": {},
     "output_type": "execute_result"
    }
   ],
   "source": [
    "x = torch.linspace(0, 10, 100).reshape(-1, 1)\n",
    "y = torch.rand(20).reshape(-1, 1)\n",
    "W = torch.rand(20, 100, requires_grad=True)\n",
    "yhat = W @ x\n",
    "loss = torch.mean((y - yhat)**2)\n",
    "loss.backward()\n",
    "dlossdW = W.grad\n",
    "W.shape, dlossdW.shape"
   ]
  },
  {
   "cell_type": "markdown",
   "id": "deec0830-0605-4dd9-9df3-1c4a8b852915",
   "metadata": {},
   "source": [
    "## GPUs and Cuda"
   ]
  },
  {
   "cell_type": "markdown",
   "id": "c084e621-c1e9-423f-8376-13dd532892d5",
   "metadata": {},
   "source": [
    "Roughly speaking, the power of frameworks like pytorch boil down to two things: autodifferentiation, and the ability to run computations easily on the GPU. It's no exaggeration to say that the rise of deep learning happened when it did *because* of NVIDIA's release of Cuda, a framework that allows people to do large scale numerical computations on the GPU. For the types of heavy linear algebra computations done in deep learning, GPUs are much better optimized than CPUs, with GPU computations often running 100x to 1000x faster than they would on even the best CPU. Nowadays, it's generally a *must* to have a GPU and know how to use it when doing any kind of deep learning.\n",
    "\n",
    "Pytorch allows computations to run on the GPU simply by moving the relevant tensors over to the GPU using the `cuda` method, or equivalently `to('cuda')`. For this to work, you must\n",
    "1. Have a [Cuda-enabled GPU](https://developer.nvidia.com/cuda-gpus). Typically this means having a modern NVIDIA GPU.\n",
    "2. Have Cuda drivers [installed](https://docs.nvidia.com/cuda/cuda-installation-guide-linux/index.html) on your system and working.\n",
    "3. Have a [Cuda-enabled version](https://pytorch.org/get-started/locally/) of pytorch installed on your system.\n",
    "\n",
    "If you don't meet all of these requirements, cuda will not work on your system, and pytorch will likely always default to using the CPU for computations."
   ]
  },
  {
   "cell_type": "code",
   "execution_count": null,
   "id": "ed08f0f1-733c-4361-8782-415541508e71",
   "metadata": {},
   "outputs": [],
   "source": []
  }
 ],
 "metadata": {
  "kernelspec": {
   "display_name": "Python 3 (ipykernel)",
   "language": "python",
   "name": "python3"
  },
  "language_info": {
   "codemirror_mode": {
    "name": "ipython",
    "version": 3
   },
   "file_extension": ".py",
   "mimetype": "text/x-python",
   "name": "python",
   "nbconvert_exporter": "python",
   "pygments_lexer": "ipython3",
   "version": "3.10.4"
  }
 },
 "nbformat": 4,
 "nbformat_minor": 5
}
